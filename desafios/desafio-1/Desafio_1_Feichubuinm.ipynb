{
 "cells": [
  {
   "cell_type": "code",
   "execution_count": 1,
   "metadata": {},
   "outputs": [
    {
     "name": "stdout",
     "output_type": "stream",
     "text": [
      "Requirement already satisfied: numpy in c:\\users\\ramiro\\anaconda3\\envs\\maestria\\lib\\site-packages (1.26.4)\n",
      "Requirement already satisfied: scikit-learn in c:\\users\\ramiro\\anaconda3\\envs\\maestria\\lib\\site-packages (1.5.0)\n",
      "Requirement already satisfied: scipy>=1.6.0 in c:\\users\\ramiro\\anaconda3\\envs\\maestria\\lib\\site-packages (from scikit-learn) (1.13.1)\n",
      "Requirement already satisfied: joblib>=1.2.0 in c:\\users\\ramiro\\anaconda3\\envs\\maestria\\lib\\site-packages (from scikit-learn) (1.4.2)\n",
      "Requirement already satisfied: threadpoolctl>=3.1.0 in c:\\users\\ramiro\\anaconda3\\envs\\maestria\\lib\\site-packages (from scikit-learn) (3.5.0)\n",
      "Note: you may need to restart the kernel to use updated packages.\n"
     ]
    }
   ],
   "source": [
    "%pip install numpy scikit-learn"
   ]
  },
  {
   "cell_type": "markdown",
   "metadata": {
    "id": "zq6j8LsYq1Dr"
   },
   "source": [
    "### Vectorización de texto y modelo de clasificación Naïve Bayes con el dataset 20 newsgroups"
   ]
  },
  {
   "cell_type": "code",
   "execution_count": 1,
   "metadata": {
    "id": "l7cXR6CI30ry"
   },
   "outputs": [],
   "source": [
    "from sklearn.feature_extraction.text import CountVectorizer, TfidfVectorizer\n",
    "from sklearn.metrics.pairwise import cosine_similarity\n",
    "from sklearn.naive_bayes import MultinomialNB, ComplementNB\n",
    "from sklearn.metrics import f1_score\n",
    "\n",
    "# 20newsgroups por ser un dataset clásico de NLP ya viene incluido y formateado\n",
    "# en sklearn\n",
    "from sklearn.datasets import fetch_20newsgroups\n",
    "import numpy as np"
   ]
  },
  {
   "cell_type": "markdown",
   "metadata": {
    "id": "yD-pVDWV_rQc"
   },
   "source": [
    "## Carga de datos"
   ]
  },
  {
   "cell_type": "code",
   "execution_count": 2,
   "metadata": {
    "id": "Ech9qJaUo9vK"
   },
   "outputs": [],
   "source": [
    "# cargamos los datos (ya separados de forma predeterminada en train y test)\n",
    "newsgroups_train = fetch_20newsgroups(subset='train', remove=('headers', 'footers', 'quotes'))\n",
    "newsgroups_test = fetch_20newsgroups(subset='test', remove=('headers', 'footers', 'quotes'))"
   ]
  },
  {
   "cell_type": "markdown",
   "metadata": {
    "id": "UxjSI7su_uWI"
   },
   "source": [
    "## Vectorización"
   ]
  },
  {
   "cell_type": "code",
   "execution_count": 3,
   "metadata": {
    "id": "-94VP0QYCzDn"
   },
   "outputs": [],
   "source": [
    "# instanciamos un vectorizador\n",
    "# ver diferentes parámetros de instanciación en la documentación de sklearn https://scikit-learn.org/stable/modules/generated/sklearn.feature_extraction.text.TfidfVectorizer.html\n",
    "tfidfvect = TfidfVectorizer()"
   ]
  },
  {
   "cell_type": "code",
   "execution_count": 4,
   "metadata": {
    "colab": {
     "base_uri": "https://localhost:8080/",
     "height": 104
    },
    "id": "ftPlyanuak8n",
    "outputId": "45a94d0e-49e7-4f7c-c806-7d5b66779dd0"
   },
   "outputs": [
    {
     "name": "stdout",
     "output_type": "stream",
     "text": [
      "I was wondering if anyone out there could enlighten me on this car I saw\n",
      "the other day. It was a 2-door sports car, looked to be from the late 60s/\n",
      "early 70s. It was called a Bricklin. The doors were really small. In addition,\n",
      "the front bumper was separate from the rest of the body. This is \n",
      "all I know. If anyone can tellme a model name, engine specs, years\n",
      "of production, where this car is made, history, or whatever info you\n",
      "have on this funky looking car, please e-mail.\n"
     ]
    }
   ],
   "source": [
    "# en el atributo `data` accedemos al texto\n",
    "print(newsgroups_train.data[0])"
   ]
  },
  {
   "cell_type": "code",
   "execution_count": 5,
   "metadata": {
    "id": "1zxcXV6aC_oL"
   },
   "outputs": [],
   "source": [
    "# con la interfaz habitual de sklearn podemos fitear el vectorizador\n",
    "# (obtener el vocabulario y calcular el vector IDF)\n",
    "# y transformar directamente los datos\n",
    "X_train = tfidfvect.fit_transform(newsgroups_train.data)\n",
    "# `X_train` la podemos denominar como la matriz documento-término"
   ]
  },
  {
   "cell_type": "code",
   "execution_count": 6,
   "metadata": {
    "colab": {
     "base_uri": "https://localhost:8080/"
    },
    "id": "4Sv7TXbda41-",
    "outputId": "dcca5de6-dac1-4d68-d284-ce7be2ed9e2f"
   },
   "outputs": [
    {
     "name": "stdout",
     "output_type": "stream",
     "text": [
      "<class 'scipy.sparse._csr.csr_matrix'>\n",
      "shape: (11314, 101631)\n",
      "Cantidad de documentos: 11314\n",
      "Tamaño del vocabulario (dimensionalidad de los vectores): 101631\n"
     ]
    }
   ],
   "source": [
    "# recordar que las vectorizaciones por conteos son esparsas\n",
    "# por ello sklearn convenientemente devuelve los vectores de documentos\n",
    "# como matrices esparsas\n",
    "print(type(X_train))\n",
    "print(f'shape: {X_train.shape}')\n",
    "print(f'Cantidad de documentos: {X_train.shape[0]}')\n",
    "print(f'Tamaño del vocabulario (dimensionalidad de los vectores): {X_train.shape[1]}')"
   ]
  },
  {
   "cell_type": "code",
   "execution_count": 7,
   "metadata": {
    "colab": {
     "base_uri": "https://localhost:8080/"
    },
    "id": "dgydNTZ2pAgR",
    "outputId": "95111464-e40c-4b57-d154-ede153739a82"
   },
   "outputs": [
    {
     "data": {
      "text/plain": [
       "25775"
      ]
     },
     "execution_count": 7,
     "metadata": {},
     "output_type": "execute_result"
    }
   ],
   "source": [
    "# una vez fiteado el vectorizador, podemos acceder a atributos como el vocabulario\n",
    "# aprendido. Es un diccionario que va de términos a índices.\n",
    "# El índice es la posición en el vector de documento.\n",
    "tfidfvect.vocabulary_['car']"
   ]
  },
  {
   "cell_type": "code",
   "execution_count": 8,
   "metadata": {
    "id": "xnTSZuvyrTcP"
   },
   "outputs": [],
   "source": [
    "# es muy útil tener el diccionario opuesto que va de índices a términos\n",
    "idx2word = {v: k for k,v in tfidfvect.vocabulary_.items()}"
   ]
  },
  {
   "cell_type": "code",
   "execution_count": 9,
   "metadata": {
    "colab": {
     "base_uri": "https://localhost:8080/"
    },
    "id": "swa-AgWrMSHM",
    "outputId": "93d09f31-4c42-4215-e750-a13c83ecf96a"
   },
   "outputs": [
    {
     "data": {
      "text/plain": [
       "array([ 7,  4,  4,  1, 14, 16, 13,  3,  2,  4])"
      ]
     },
     "execution_count": 9,
     "metadata": {},
     "output_type": "execute_result"
    }
   ],
   "source": [
    "# en `y_train` guardamos los targets que son enteros\n",
    "y_train = newsgroups_train.target\n",
    "y_train[:10]"
   ]
  },
  {
   "cell_type": "code",
   "execution_count": 10,
   "metadata": {
    "colab": {
     "base_uri": "https://localhost:8080/"
    },
    "id": "je5kxvQMDLvf",
    "outputId": "59799046-9799-406f-c4be-81c5765de58d"
   },
   "outputs": [
    {
     "name": "stdout",
     "output_type": "stream",
     "text": [
      "clases [ 0  1  2  3  4  5  6  7  8  9 10 11 12 13 14 15 16 17 18 19]\n"
     ]
    },
    {
     "data": {
      "text/plain": [
       "['alt.atheism',\n",
       " 'comp.graphics',\n",
       " 'comp.os.ms-windows.misc',\n",
       " 'comp.sys.ibm.pc.hardware',\n",
       " 'comp.sys.mac.hardware',\n",
       " 'comp.windows.x',\n",
       " 'misc.forsale',\n",
       " 'rec.autos',\n",
       " 'rec.motorcycles',\n",
       " 'rec.sport.baseball',\n",
       " 'rec.sport.hockey',\n",
       " 'sci.crypt',\n",
       " 'sci.electronics',\n",
       " 'sci.med',\n",
       " 'sci.space',\n",
       " 'soc.religion.christian',\n",
       " 'talk.politics.guns',\n",
       " 'talk.politics.mideast',\n",
       " 'talk.politics.misc',\n",
       " 'talk.religion.misc']"
      ]
     },
     "execution_count": 10,
     "metadata": {},
     "output_type": "execute_result"
    }
   ],
   "source": [
    "# hay 20 clases correspondientes a los 20 grupos de noticias\n",
    "print(f'clases {np.unique(newsgroups_test.target)}')\n",
    "newsgroups_test.target_names"
   ]
  },
  {
   "cell_type": "markdown",
   "metadata": {
    "id": "SXCICFSd_y90"
   },
   "source": [
    "## Similaridad de documentos"
   ]
  },
  {
   "cell_type": "code",
   "execution_count": 11,
   "metadata": {
    "colab": {
     "base_uri": "https://localhost:8080/"
    },
    "id": "_pki_olShnyE",
    "outputId": "b2bd8485-40c7-4923-c8a9-4ad6b735576e"
   },
   "outputs": [
    {
     "name": "stdout",
     "output_type": "stream",
     "text": [
      "THE WHITE HOUSE\n",
      "\n",
      "                  Office of the Press Secretary\n",
      "                   (Pittsburgh, Pennslyvania)\n",
      "______________________________________________________________\n",
      "For Immediate Release                         April 17, 1993     \n",
      "\n",
      "             \n",
      "                  RADIO ADDRESS TO THE NATION \n",
      "                        BY THE PRESIDENT\n",
      "             \n",
      "                Pittsburgh International Airport\n",
      "                    Pittsburgh, Pennsylvania\n",
      "             \n",
      "             \n",
      "10:06 A.M. EDT\n",
      "             \n",
      "             \n",
      "             THE PRESIDENT:  Good morning.  My voice is coming to\n",
      "you this morning through the facilities of the oldest radio\n",
      "station in America, KDKA in Pittsburgh.  I'm visiting the city to\n",
      "meet personally with citizens here to discuss my plans for jobs,\n",
      "health care and the economy.  But I wanted first to do my weekly\n",
      "broadcast with the American people. \n",
      "             \n",
      "             I'm told this station first broadcast in 1920 when\n",
      "it reported that year's presidential elections.  Over the past\n",
      "seven decades presidents have found ways to keep in touch with\n",
      "the people, from whistle-stop tours to fire-side chats to the bus\n",
      "tour that I adopted, along with Vice President Gore, in last\n",
      "year's campaign.\n",
      "             \n",
      "             Every Saturday morning I take this time to talk with\n",
      "you, my fellow Americans, about the problems on your minds and\n",
      "what I'm doing to try and solve them.  It's my way of reporting\n",
      "to you and of giving you a way to hold me accountable.\n",
      "             \n",
      "             You sent me to Washington to get our government and\n",
      "economy moving after years of paralysis and policy and a bad\n",
      "experiment with trickle-down economics.  You know how important\n",
      "it is for us to make bold, comprehensive changes in the way we do\n",
      "business.  \n",
      "             \n",
      "             We live in a competitive global economy.  Nations\n",
      "rise and fall on the skills of their workers, the competitiveness\n",
      "of their companies, the imagination of their industries, and the\n",
      "cooperative experience and spirit that exists between business,\n",
      "labor and government.  Although many of the economies of the\n",
      "industrialized world are now suffering from slow growth, they've\n",
      "made many of the smart investments and the tough choices which\n",
      "our government has for too long ignored.  That's why many of them\n",
      "have been moving ahead and too many of our people have been\n",
      "falling behind.\n",
      "             \n",
      "             We have an economy today that even when it grows is\n",
      "not producing new jobs.  We've increased the debt of our nation\n",
      "by four times over the last 12 years, and we don't have much to\n",
      "show for it.  We know that wages of most working people have\n",
      "stopped rising, that most people are working longer work weeks\n",
      "and that too many families can no longer afford the escalating\n",
      "cost of health care.\n",
      "             \n",
      "             But we also know that, given the right tools, the\n",
      "right incentives and the right encouragement, our workers and\n",
      "businesses can make the kinds of products and profits our economy\n",
      "needs to expand opportunity and to make our communities better\n",
      "places to live.\n",
      "             \n",
      "             In many critical products today Americans are the\n",
      "low cost, high quality producers.  Our task is to make sure that\n",
      "we create more of those kinds of jobs.\n",
      "             \n",
      "             Just two months ago I gave Congress my plan for\n",
      "long-term jobs and economic growth.  It changes the old\n",
      "priorities in Washington and puts our emphasis where it needs to\n",
      "be -- on people's real needs, on increasing investments and jobs\n",
      "and education, on cutting the federal deficit, on stopping the\n",
      "waste which pays no dividends, and redirecting our precious\n",
      "resources toward investment that creates jobs now and lays the\n",
      "groundwork for robust economic growth in the future.\n",
      "             \n",
      "             These new directions passed the Congress in record\n",
      "time and created a new sense of hope and opportunity in our\n",
      "country.  Then the jobs plan I presented to Congress, which would\n",
      "create hundreds of thousands of jobs, most of them in the private\n",
      "sector in 1993 and 1994, passed the House of Representatives.  It\n",
      "now has the support of a majority of the United States Senate. \n",
      "But it's been held up by a filibuster of a minority in the\n",
      "Senate, just 43 senators.  They blocked a vote that they know\n",
      "would result in the passage of our bill and the creation of jobs.\n",
      "             \n",
      "             The issue isn't politics; the issue is people. \n",
      "Millions of Americans are waiting for this legislation and\n",
      "counting on it, counting on us in Washington.  But the jobs bill\n",
      "has been grounded by gridlock.  \n",
      "             \n",
      "             I know the American people are tired of business as\n",
      "usual and politics as usual.  I know they don't want us to spin\n",
      "or wheels.  They want the recovery to get moving.  So I have\n",
      "taken a first step to break this gridlock and gone the extra\n",
      "mile.  Yesterday I offered to cut the size of this plan by 25\n",
      "percent -- from $16 billion to $12 billion.  \n",
      "             \n",
      "             It's not what I'd hoped for.  With 16 million\n",
      "Americans looking for full-time work, I simply can't let the bill\n",
      "languish when I know that even a compromise bill will mean\n",
      "hundreds of thousands of jobs for our people.  The mandate is to\n",
      "act to achieve change and move the country forward.  By taking\n",
      "this initiative in the face of an unrelenting Senate talkathon, I\n",
      "think we can respond to your mandate and achieve a significant\n",
      "portion of our original goals.\n",
      "             \n",
      "             First, we want to keep the programs as much as\n",
      "possible that are needed to generate jobs and meet human needs,\n",
      "including highway and road construction, summer jobs for young\n",
      "people, immunization for children, construction of waste water\n",
      "sites, and aid to small businesses.  We also want to keep funding\n",
      "for extended unemployment compensation benefits, for people who\n",
      "have been unemployed for a long time because the economy isn't\n",
      "creating jobs.\n",
      "             \n",
      "             Second, I've recommended that all the other programs\n",
      "in the bill be cut across-the-board by a little more than 40\n",
      "percent.\n",
      "             \n",
      "             And third, I've recommended a new element in this\n",
      "program to help us immediately start our attempt to fight against\n",
      "crime by providing $200 million for cities and towns to rehire\n",
      "police officers who lost their jobs during the recession and put\n",
      "them back to work protecting our people.  I'm also going to fight\n",
      "for a tough crime bill because the people of this country need it\n",
      "and deserve it.\n",
      "             \n",
      "             Now, the people who are filibustering this bill --\n",
      "the Republican senators -- say they won't vote for it because it\n",
      "increases deficit spending, because there's extra spending this\n",
      "year that hasn't already been approved.  That sounds reasonable,\n",
      "doesn't it?  Here's what they don't say.  This program is more\n",
      "than paid for by budget cuts over my five-year budget, and this\n",
      "budget is well within the spending limits already approved by the\n",
      "Congress this year.\n",
      "             \n",
      "             It's amazing to me that many of these same senators\n",
      "who are filibustering the bill voted during the previous\n",
      "administration for billions of dollars of the same kind of\n",
      "emergency spending, and much of it was not designed to put the\n",
      "American people to work.  \n",
      "             \n",
      "             This is not about deficit spending.  We have offered\n",
      "a plan to cut the deficit.  This is about where your priorities\n",
      "are -- on people or on politics.  \n",
      "             \n",
      "             Keep in mind that our jobs bill is paid for dollar\n",
      "for dollar.  It is paid for by budget cuts.  And it's the\n",
      "soundest investment we can now make for ourselves and our\n",
      "children.  I urge all Americans to take another look at this jobs\n",
      "and investment program; to consider again the benefits for all of\n",
      "us when we've helped make more American partners working to\n",
      "ensure the future of our nation and the strength of our economy.\n",
      "             \n",
      "             You know, if every American who wanted a job had\n",
      "one, we wouldn't have a lot of the other problems we have in this\n",
      "country today.  This bill is not a miracle, it's a modest first\n",
      "step to try to set off a job creation explosion in this country\n",
      "again.  But it's a step we ought to take.  And it is fully paid\n",
      "for over the life of our budget.\n",
      "             \n",
      "             Tell your lawmakers what you think.  Tell them how\n",
      "important the bill is.  If it passes, we'll all be winners.\n",
      "             \n",
      "             Good morning, and thank you for listening.\n"
     ]
    }
   ],
   "source": [
    "# Veamos similaridad de documentos. Tomemos algún documento\n",
    "idx = 4811\n",
    "print(newsgroups_train.data[idx])"
   ]
  },
  {
   "cell_type": "code",
   "execution_count": 78,
   "metadata": {
    "id": "Ssa9bqJ-hA_v"
   },
   "outputs": [
    {
     "name": "stdout",
     "output_type": "stream",
     "text": [
      "[0.1382319  0.1067036  0.23029327 ... 0.12320753 0.08765353 0.04415046]\n"
     ]
    }
   ],
   "source": [
    "# midamos la similaridad coseno con todos los documentos de train\n",
    "cossim = cosine_similarity(X_train[idx], X_train)[0]\n",
    "print(cossim)    "
   ]
  },
  {
   "cell_type": "code",
   "execution_count": 72,
   "metadata": {
    "colab": {
     "base_uri": "https://localhost:8080/"
    },
    "id": "p_mDA7p3AzcQ",
    "outputId": "747a3923-4b1c-4e2b-921d-4ebf2b271b00"
   },
   "outputs": [
    {
     "data": {
      "text/plain": [
       "array([1.        , 0.70930477, 0.67474953, ..., 0.        , 0.        ,\n",
       "       0.        ])"
      ]
     },
     "execution_count": 72,
     "metadata": {},
     "output_type": "execute_result"
    }
   ],
   "source": [
    "# podemos ver los valores de similaridad ordenados de mayor a menos\n",
    "np.sort(cossim)[::-1]"
   ]
  },
  {
   "cell_type": "code",
   "execution_count": 73,
   "metadata": {
    "colab": {
     "base_uri": "https://localhost:8080/"
    },
    "id": "0OIhDA1jAryX",
    "outputId": "04ddf3ca-0741-42d7-8bbb-00bb395f7834"
   },
   "outputs": [
    {
     "data": {
      "text/plain": [
       "array([ 4811,  6635,  4253, ...,  1534, 10055,  4750], dtype=int64)"
      ]
     },
     "execution_count": 73,
     "metadata": {},
     "output_type": "execute_result"
    }
   ],
   "source": [
    "# y a qué documentos corresponden\n",
    "np.argsort(cossim)[::-1]"
   ]
  },
  {
   "cell_type": "code",
   "execution_count": 79,
   "metadata": {
    "id": "hP7qLS4ZBLps"
   },
   "outputs": [
    {
     "name": "stdout",
     "output_type": "stream",
     "text": [
      "[6635 4253 3596 4271 3746]\n"
     ]
    }
   ],
   "source": [
    "# los 5 documentos más similares:\n",
    "mostsim = np.argsort(cossim)[::-1][1:6]\n",
    "print(mostsim)"
   ]
  },
  {
   "cell_type": "code",
   "execution_count": 75,
   "metadata": {
    "colab": {
     "base_uri": "https://localhost:8080/",
     "height": 35
    },
    "id": "QdJLHPJACvaj",
    "outputId": "926186cf-7d4c-4bd3-927b-ad00bf7f24f9"
   },
   "outputs": [
    {
     "data": {
      "text/plain": [
       "'talk.politics.misc'"
      ]
     },
     "execution_count": 75,
     "metadata": {},
     "output_type": "execute_result"
    }
   ],
   "source": [
    "# el documento original pertenece a la clase:\n",
    "newsgroups_train.target_names[y_train[idx]]"
   ]
  },
  {
   "cell_type": "code",
   "execution_count": 76,
   "metadata": {
    "colab": {
     "base_uri": "https://localhost:8080/"
    },
    "id": "RWy_73epCbFG",
    "outputId": "daf534e5-b2a8-43d4-d05a-9c52b816cf69"
   },
   "outputs": [
    {
     "name": "stdout",
     "output_type": "stream",
     "text": [
      "talk.politics.misc\n",
      "talk.politics.misc\n",
      "talk.politics.misc\n",
      "talk.politics.misc\n",
      "talk.politics.misc\n"
     ]
    }
   ],
   "source": [
    "# y los 5 más similares son de las clases:\n",
    "for i in mostsim:\n",
    "  print(newsgroups_train.target_names[y_train[i]])"
   ]
  },
  {
   "cell_type": "markdown",
   "metadata": {
    "id": "zRoNnKwhBqzq"
   },
   "source": [
    "### Modelo de clasificación Naïve Bayes"
   ]
  },
  {
   "cell_type": "code",
   "execution_count": 18,
   "metadata": {
    "colab": {
     "base_uri": "https://localhost:8080/",
     "height": 74
    },
    "id": "TPM0thDaLk0R",
    "outputId": "bc7fdc3e-d912-4e0c-9d9e-33efc97b46fc"
   },
   "outputs": [
    {
     "data": {
      "text/html": [
       "<style>#sk-container-id-1 {\n",
       "  /* Definition of color scheme common for light and dark mode */\n",
       "  --sklearn-color-text: black;\n",
       "  --sklearn-color-line: gray;\n",
       "  /* Definition of color scheme for unfitted estimators */\n",
       "  --sklearn-color-unfitted-level-0: #fff5e6;\n",
       "  --sklearn-color-unfitted-level-1: #f6e4d2;\n",
       "  --sklearn-color-unfitted-level-2: #ffe0b3;\n",
       "  --sklearn-color-unfitted-level-3: chocolate;\n",
       "  /* Definition of color scheme for fitted estimators */\n",
       "  --sklearn-color-fitted-level-0: #f0f8ff;\n",
       "  --sklearn-color-fitted-level-1: #d4ebff;\n",
       "  --sklearn-color-fitted-level-2: #b3dbfd;\n",
       "  --sklearn-color-fitted-level-3: cornflowerblue;\n",
       "\n",
       "  /* Specific color for light theme */\n",
       "  --sklearn-color-text-on-default-background: var(--sg-text-color, var(--theme-code-foreground, var(--jp-content-font-color1, black)));\n",
       "  --sklearn-color-background: var(--sg-background-color, var(--theme-background, var(--jp-layout-color0, white)));\n",
       "  --sklearn-color-border-box: var(--sg-text-color, var(--theme-code-foreground, var(--jp-content-font-color1, black)));\n",
       "  --sklearn-color-icon: #696969;\n",
       "\n",
       "  @media (prefers-color-scheme: dark) {\n",
       "    /* Redefinition of color scheme for dark theme */\n",
       "    --sklearn-color-text-on-default-background: var(--sg-text-color, var(--theme-code-foreground, var(--jp-content-font-color1, white)));\n",
       "    --sklearn-color-background: var(--sg-background-color, var(--theme-background, var(--jp-layout-color0, #111)));\n",
       "    --sklearn-color-border-box: var(--sg-text-color, var(--theme-code-foreground, var(--jp-content-font-color1, white)));\n",
       "    --sklearn-color-icon: #878787;\n",
       "  }\n",
       "}\n",
       "\n",
       "#sk-container-id-1 {\n",
       "  color: var(--sklearn-color-text);\n",
       "}\n",
       "\n",
       "#sk-container-id-1 pre {\n",
       "  padding: 0;\n",
       "}\n",
       "\n",
       "#sk-container-id-1 input.sk-hidden--visually {\n",
       "  border: 0;\n",
       "  clip: rect(1px 1px 1px 1px);\n",
       "  clip: rect(1px, 1px, 1px, 1px);\n",
       "  height: 1px;\n",
       "  margin: -1px;\n",
       "  overflow: hidden;\n",
       "  padding: 0;\n",
       "  position: absolute;\n",
       "  width: 1px;\n",
       "}\n",
       "\n",
       "#sk-container-id-1 div.sk-dashed-wrapped {\n",
       "  border: 1px dashed var(--sklearn-color-line);\n",
       "  margin: 0 0.4em 0.5em 0.4em;\n",
       "  box-sizing: border-box;\n",
       "  padding-bottom: 0.4em;\n",
       "  background-color: var(--sklearn-color-background);\n",
       "}\n",
       "\n",
       "#sk-container-id-1 div.sk-container {\n",
       "  /* jupyter's `normalize.less` sets `[hidden] { display: none; }`\n",
       "     but bootstrap.min.css set `[hidden] { display: none !important; }`\n",
       "     so we also need the `!important` here to be able to override the\n",
       "     default hidden behavior on the sphinx rendered scikit-learn.org.\n",
       "     See: https://github.com/scikit-learn/scikit-learn/issues/21755 */\n",
       "  display: inline-block !important;\n",
       "  position: relative;\n",
       "}\n",
       "\n",
       "#sk-container-id-1 div.sk-text-repr-fallback {\n",
       "  display: none;\n",
       "}\n",
       "\n",
       "div.sk-parallel-item,\n",
       "div.sk-serial,\n",
       "div.sk-item {\n",
       "  /* draw centered vertical line to link estimators */\n",
       "  background-image: linear-gradient(var(--sklearn-color-text-on-default-background), var(--sklearn-color-text-on-default-background));\n",
       "  background-size: 2px 100%;\n",
       "  background-repeat: no-repeat;\n",
       "  background-position: center center;\n",
       "}\n",
       "\n",
       "/* Parallel-specific style estimator block */\n",
       "\n",
       "#sk-container-id-1 div.sk-parallel-item::after {\n",
       "  content: \"\";\n",
       "  width: 100%;\n",
       "  border-bottom: 2px solid var(--sklearn-color-text-on-default-background);\n",
       "  flex-grow: 1;\n",
       "}\n",
       "\n",
       "#sk-container-id-1 div.sk-parallel {\n",
       "  display: flex;\n",
       "  align-items: stretch;\n",
       "  justify-content: center;\n",
       "  background-color: var(--sklearn-color-background);\n",
       "  position: relative;\n",
       "}\n",
       "\n",
       "#sk-container-id-1 div.sk-parallel-item {\n",
       "  display: flex;\n",
       "  flex-direction: column;\n",
       "}\n",
       "\n",
       "#sk-container-id-1 div.sk-parallel-item:first-child::after {\n",
       "  align-self: flex-end;\n",
       "  width: 50%;\n",
       "}\n",
       "\n",
       "#sk-container-id-1 div.sk-parallel-item:last-child::after {\n",
       "  align-self: flex-start;\n",
       "  width: 50%;\n",
       "}\n",
       "\n",
       "#sk-container-id-1 div.sk-parallel-item:only-child::after {\n",
       "  width: 0;\n",
       "}\n",
       "\n",
       "/* Serial-specific style estimator block */\n",
       "\n",
       "#sk-container-id-1 div.sk-serial {\n",
       "  display: flex;\n",
       "  flex-direction: column;\n",
       "  align-items: center;\n",
       "  background-color: var(--sklearn-color-background);\n",
       "  padding-right: 1em;\n",
       "  padding-left: 1em;\n",
       "}\n",
       "\n",
       "\n",
       "/* Toggleable style: style used for estimator/Pipeline/ColumnTransformer box that is\n",
       "clickable and can be expanded/collapsed.\n",
       "- Pipeline and ColumnTransformer use this feature and define the default style\n",
       "- Estimators will overwrite some part of the style using the `sk-estimator` class\n",
       "*/\n",
       "\n",
       "/* Pipeline and ColumnTransformer style (default) */\n",
       "\n",
       "#sk-container-id-1 div.sk-toggleable {\n",
       "  /* Default theme specific background. It is overwritten whether we have a\n",
       "  specific estimator or a Pipeline/ColumnTransformer */\n",
       "  background-color: var(--sklearn-color-background);\n",
       "}\n",
       "\n",
       "/* Toggleable label */\n",
       "#sk-container-id-1 label.sk-toggleable__label {\n",
       "  cursor: pointer;\n",
       "  display: block;\n",
       "  width: 100%;\n",
       "  margin-bottom: 0;\n",
       "  padding: 0.5em;\n",
       "  box-sizing: border-box;\n",
       "  text-align: center;\n",
       "}\n",
       "\n",
       "#sk-container-id-1 label.sk-toggleable__label-arrow:before {\n",
       "  /* Arrow on the left of the label */\n",
       "  content: \"▸\";\n",
       "  float: left;\n",
       "  margin-right: 0.25em;\n",
       "  color: var(--sklearn-color-icon);\n",
       "}\n",
       "\n",
       "#sk-container-id-1 label.sk-toggleable__label-arrow:hover:before {\n",
       "  color: var(--sklearn-color-text);\n",
       "}\n",
       "\n",
       "/* Toggleable content - dropdown */\n",
       "\n",
       "#sk-container-id-1 div.sk-toggleable__content {\n",
       "  max-height: 0;\n",
       "  max-width: 0;\n",
       "  overflow: hidden;\n",
       "  text-align: left;\n",
       "  /* unfitted */\n",
       "  background-color: var(--sklearn-color-unfitted-level-0);\n",
       "}\n",
       "\n",
       "#sk-container-id-1 div.sk-toggleable__content.fitted {\n",
       "  /* fitted */\n",
       "  background-color: var(--sklearn-color-fitted-level-0);\n",
       "}\n",
       "\n",
       "#sk-container-id-1 div.sk-toggleable__content pre {\n",
       "  margin: 0.2em;\n",
       "  border-radius: 0.25em;\n",
       "  color: var(--sklearn-color-text);\n",
       "  /* unfitted */\n",
       "  background-color: var(--sklearn-color-unfitted-level-0);\n",
       "}\n",
       "\n",
       "#sk-container-id-1 div.sk-toggleable__content.fitted pre {\n",
       "  /* unfitted */\n",
       "  background-color: var(--sklearn-color-fitted-level-0);\n",
       "}\n",
       "\n",
       "#sk-container-id-1 input.sk-toggleable__control:checked~div.sk-toggleable__content {\n",
       "  /* Expand drop-down */\n",
       "  max-height: 200px;\n",
       "  max-width: 100%;\n",
       "  overflow: auto;\n",
       "}\n",
       "\n",
       "#sk-container-id-1 input.sk-toggleable__control:checked~label.sk-toggleable__label-arrow:before {\n",
       "  content: \"▾\";\n",
       "}\n",
       "\n",
       "/* Pipeline/ColumnTransformer-specific style */\n",
       "\n",
       "#sk-container-id-1 div.sk-label input.sk-toggleable__control:checked~label.sk-toggleable__label {\n",
       "  color: var(--sklearn-color-text);\n",
       "  background-color: var(--sklearn-color-unfitted-level-2);\n",
       "}\n",
       "\n",
       "#sk-container-id-1 div.sk-label.fitted input.sk-toggleable__control:checked~label.sk-toggleable__label {\n",
       "  background-color: var(--sklearn-color-fitted-level-2);\n",
       "}\n",
       "\n",
       "/* Estimator-specific style */\n",
       "\n",
       "/* Colorize estimator box */\n",
       "#sk-container-id-1 div.sk-estimator input.sk-toggleable__control:checked~label.sk-toggleable__label {\n",
       "  /* unfitted */\n",
       "  background-color: var(--sklearn-color-unfitted-level-2);\n",
       "}\n",
       "\n",
       "#sk-container-id-1 div.sk-estimator.fitted input.sk-toggleable__control:checked~label.sk-toggleable__label {\n",
       "  /* fitted */\n",
       "  background-color: var(--sklearn-color-fitted-level-2);\n",
       "}\n",
       "\n",
       "#sk-container-id-1 div.sk-label label.sk-toggleable__label,\n",
       "#sk-container-id-1 div.sk-label label {\n",
       "  /* The background is the default theme color */\n",
       "  color: var(--sklearn-color-text-on-default-background);\n",
       "}\n",
       "\n",
       "/* On hover, darken the color of the background */\n",
       "#sk-container-id-1 div.sk-label:hover label.sk-toggleable__label {\n",
       "  color: var(--sklearn-color-text);\n",
       "  background-color: var(--sklearn-color-unfitted-level-2);\n",
       "}\n",
       "\n",
       "/* Label box, darken color on hover, fitted */\n",
       "#sk-container-id-1 div.sk-label.fitted:hover label.sk-toggleable__label.fitted {\n",
       "  color: var(--sklearn-color-text);\n",
       "  background-color: var(--sklearn-color-fitted-level-2);\n",
       "}\n",
       "\n",
       "/* Estimator label */\n",
       "\n",
       "#sk-container-id-1 div.sk-label label {\n",
       "  font-family: monospace;\n",
       "  font-weight: bold;\n",
       "  display: inline-block;\n",
       "  line-height: 1.2em;\n",
       "}\n",
       "\n",
       "#sk-container-id-1 div.sk-label-container {\n",
       "  text-align: center;\n",
       "}\n",
       "\n",
       "/* Estimator-specific */\n",
       "#sk-container-id-1 div.sk-estimator {\n",
       "  font-family: monospace;\n",
       "  border: 1px dotted var(--sklearn-color-border-box);\n",
       "  border-radius: 0.25em;\n",
       "  box-sizing: border-box;\n",
       "  margin-bottom: 0.5em;\n",
       "  /* unfitted */\n",
       "  background-color: var(--sklearn-color-unfitted-level-0);\n",
       "}\n",
       "\n",
       "#sk-container-id-1 div.sk-estimator.fitted {\n",
       "  /* fitted */\n",
       "  background-color: var(--sklearn-color-fitted-level-0);\n",
       "}\n",
       "\n",
       "/* on hover */\n",
       "#sk-container-id-1 div.sk-estimator:hover {\n",
       "  /* unfitted */\n",
       "  background-color: var(--sklearn-color-unfitted-level-2);\n",
       "}\n",
       "\n",
       "#sk-container-id-1 div.sk-estimator.fitted:hover {\n",
       "  /* fitted */\n",
       "  background-color: var(--sklearn-color-fitted-level-2);\n",
       "}\n",
       "\n",
       "/* Specification for estimator info (e.g. \"i\" and \"?\") */\n",
       "\n",
       "/* Common style for \"i\" and \"?\" */\n",
       "\n",
       ".sk-estimator-doc-link,\n",
       "a:link.sk-estimator-doc-link,\n",
       "a:visited.sk-estimator-doc-link {\n",
       "  float: right;\n",
       "  font-size: smaller;\n",
       "  line-height: 1em;\n",
       "  font-family: monospace;\n",
       "  background-color: var(--sklearn-color-background);\n",
       "  border-radius: 1em;\n",
       "  height: 1em;\n",
       "  width: 1em;\n",
       "  text-decoration: none !important;\n",
       "  margin-left: 1ex;\n",
       "  /* unfitted */\n",
       "  border: var(--sklearn-color-unfitted-level-1) 1pt solid;\n",
       "  color: var(--sklearn-color-unfitted-level-1);\n",
       "}\n",
       "\n",
       ".sk-estimator-doc-link.fitted,\n",
       "a:link.sk-estimator-doc-link.fitted,\n",
       "a:visited.sk-estimator-doc-link.fitted {\n",
       "  /* fitted */\n",
       "  border: var(--sklearn-color-fitted-level-1) 1pt solid;\n",
       "  color: var(--sklearn-color-fitted-level-1);\n",
       "}\n",
       "\n",
       "/* On hover */\n",
       "div.sk-estimator:hover .sk-estimator-doc-link:hover,\n",
       ".sk-estimator-doc-link:hover,\n",
       "div.sk-label-container:hover .sk-estimator-doc-link:hover,\n",
       ".sk-estimator-doc-link:hover {\n",
       "  /* unfitted */\n",
       "  background-color: var(--sklearn-color-unfitted-level-3);\n",
       "  color: var(--sklearn-color-background);\n",
       "  text-decoration: none;\n",
       "}\n",
       "\n",
       "div.sk-estimator.fitted:hover .sk-estimator-doc-link.fitted:hover,\n",
       ".sk-estimator-doc-link.fitted:hover,\n",
       "div.sk-label-container:hover .sk-estimator-doc-link.fitted:hover,\n",
       ".sk-estimator-doc-link.fitted:hover {\n",
       "  /* fitted */\n",
       "  background-color: var(--sklearn-color-fitted-level-3);\n",
       "  color: var(--sklearn-color-background);\n",
       "  text-decoration: none;\n",
       "}\n",
       "\n",
       "/* Span, style for the box shown on hovering the info icon */\n",
       ".sk-estimator-doc-link span {\n",
       "  display: none;\n",
       "  z-index: 9999;\n",
       "  position: relative;\n",
       "  font-weight: normal;\n",
       "  right: .2ex;\n",
       "  padding: .5ex;\n",
       "  margin: .5ex;\n",
       "  width: min-content;\n",
       "  min-width: 20ex;\n",
       "  max-width: 50ex;\n",
       "  color: var(--sklearn-color-text);\n",
       "  box-shadow: 2pt 2pt 4pt #999;\n",
       "  /* unfitted */\n",
       "  background: var(--sklearn-color-unfitted-level-0);\n",
       "  border: .5pt solid var(--sklearn-color-unfitted-level-3);\n",
       "}\n",
       "\n",
       ".sk-estimator-doc-link.fitted span {\n",
       "  /* fitted */\n",
       "  background: var(--sklearn-color-fitted-level-0);\n",
       "  border: var(--sklearn-color-fitted-level-3);\n",
       "}\n",
       "\n",
       ".sk-estimator-doc-link:hover span {\n",
       "  display: block;\n",
       "}\n",
       "\n",
       "/* \"?\"-specific style due to the `<a>` HTML tag */\n",
       "\n",
       "#sk-container-id-1 a.estimator_doc_link {\n",
       "  float: right;\n",
       "  font-size: 1rem;\n",
       "  line-height: 1em;\n",
       "  font-family: monospace;\n",
       "  background-color: var(--sklearn-color-background);\n",
       "  border-radius: 1rem;\n",
       "  height: 1rem;\n",
       "  width: 1rem;\n",
       "  text-decoration: none;\n",
       "  /* unfitted */\n",
       "  color: var(--sklearn-color-unfitted-level-1);\n",
       "  border: var(--sklearn-color-unfitted-level-1) 1pt solid;\n",
       "}\n",
       "\n",
       "#sk-container-id-1 a.estimator_doc_link.fitted {\n",
       "  /* fitted */\n",
       "  border: var(--sklearn-color-fitted-level-1) 1pt solid;\n",
       "  color: var(--sklearn-color-fitted-level-1);\n",
       "}\n",
       "\n",
       "/* On hover */\n",
       "#sk-container-id-1 a.estimator_doc_link:hover {\n",
       "  /* unfitted */\n",
       "  background-color: var(--sklearn-color-unfitted-level-3);\n",
       "  color: var(--sklearn-color-background);\n",
       "  text-decoration: none;\n",
       "}\n",
       "\n",
       "#sk-container-id-1 a.estimator_doc_link.fitted:hover {\n",
       "  /* fitted */\n",
       "  background-color: var(--sklearn-color-fitted-level-3);\n",
       "}\n",
       "</style><div id=\"sk-container-id-1\" class=\"sk-top-container\"><div class=\"sk-text-repr-fallback\"><pre>MultinomialNB()</pre><b>In a Jupyter environment, please rerun this cell to show the HTML representation or trust the notebook. <br />On GitHub, the HTML representation is unable to render, please try loading this page with nbviewer.org.</b></div><div class=\"sk-container\" hidden><div class=\"sk-item\"><div class=\"sk-estimator fitted sk-toggleable\"><input class=\"sk-toggleable__control sk-hidden--visually\" id=\"sk-estimator-id-1\" type=\"checkbox\" checked><label for=\"sk-estimator-id-1\" class=\"sk-toggleable__label fitted sk-toggleable__label-arrow fitted\">&nbsp;&nbsp;MultinomialNB<a class=\"sk-estimator-doc-link fitted\" rel=\"noreferrer\" target=\"_blank\" href=\"https://scikit-learn.org/1.5/modules/generated/sklearn.naive_bayes.MultinomialNB.html\">?<span>Documentation for MultinomialNB</span></a><span class=\"sk-estimator-doc-link fitted\">i<span>Fitted</span></span></label><div class=\"sk-toggleable__content fitted\"><pre>MultinomialNB()</pre></div> </div></div></div></div>"
      ],
      "text/plain": [
       "MultinomialNB()"
      ]
     },
     "execution_count": 18,
     "metadata": {},
     "output_type": "execute_result"
    }
   ],
   "source": [
    "# es muy fácil instanciar un modelo de clasificación Naïve Bayes y entrenarlo con sklearn\n",
    "clf = MultinomialNB()\n",
    "clf.fit(X_train, y_train)"
   ]
  },
  {
   "cell_type": "code",
   "execution_count": 19,
   "metadata": {
    "id": "NrQjzM48Mu4T"
   },
   "outputs": [],
   "source": [
    "# con nuestro vectorizador ya fiteado en train, vectorizamos los textos\n",
    "# del conjunto de test\n",
    "X_test = tfidfvect.transform(newsgroups_test.data)\n",
    "y_test = newsgroups_test.target\n",
    "y_pred =  clf.predict(X_test)"
   ]
  },
  {
   "cell_type": "code",
   "execution_count": 20,
   "metadata": {
    "colab": {
     "base_uri": "https://localhost:8080/"
    },
    "id": "UkGJhetEPdA4",
    "outputId": "232ee2ce-e904-466e-be57-babc1f319029"
   },
   "outputs": [
    {
     "data": {
      "text/plain": [
       "0.5854345727938506"
      ]
     },
     "execution_count": 20,
     "metadata": {},
     "output_type": "execute_result"
    }
   ],
   "source": [
    "# el F1-score es una metrica adecuada para reportar desempeño de modelos de claificación\n",
    "# es robusta al desbalance de clases. El promediado 'macro' es el promedio de los\n",
    "# F1-score de cada clase. El promedio 'micro' es equivalente a la accuracy que no\n",
    "# es una buena métrica cuando los datasets son desbalanceados\n",
    "f1_score(y_test, y_pred, average='macro')"
   ]
  },
  {
   "cell_type": "markdown",
   "metadata": {
    "id": "McArD4rSDR2K"
   },
   "source": [
    "### Consigna del desafío 1"
   ]
  },
  {
   "cell_type": "markdown",
   "metadata": {
    "id": "lJgf6GQIIEH1"
   },
   "source": [
    "**1**. Vectorizar documentos. Tomar 5 documentos al azar y medir similaridad con el resto de los documentos.\n",
    "Estudiar los 5 documentos más similares de cada uno analizar si tiene sentido\n",
    "la similaridad según el contenido del texto y la etiqueta de clasificación.\n",
    "\n",
    "**2**. Entrenar modelos de clasificación Naïve Bayes para maximizar el desempeño de clasificación\n",
    "(f1-score macro) en el conjunto de datos de test. Considerar cambiar parámteros\n",
    "de instanciación del vectorizador y los modelos y probar modelos de Naïve Bayes Multinomial\n",
    "y ComplementNB.\n",
    "\n",
    "**3**. Transponer la matriz documento-término. De esa manera se obtiene una matriz\n",
    "término-documento que puede ser interpretada como una colección de vectorización de palabras.\n",
    "Estudiar ahora similaridad entre palabras tomando 5 palabras y estudiando sus 5 más similares. **La elección de palabras no debe ser al azar para evitar la aparición de términos poco interpretables, elegirlas \"manualmente\"**.\n"
   ]
  },
  {
   "cell_type": "markdown",
   "metadata": {},
   "source": [
    "## 1."
   ]
  },
  {
   "cell_type": "code",
   "execution_count": 94,
   "metadata": {},
   "outputs": [
    {
     "name": "stdout",
     "output_type": "stream",
     "text": [
      "Índice del documento original: 6630\n",
      "Documento original: comp.windows.x\n",
      "Similar a: comp.windows.x\n",
      "Similar a: comp.windows.x\n",
      "Similar a: comp.windows.x\n",
      "Similar a: comp.windows.x\n",
      "Similar a: comp.windows.x\n",
      "Índice del documento original: 8336\n",
      "Documento original: talk.politics.misc\n",
      "Similar a: talk.politics.misc\n",
      "Similar a: talk.politics.misc\n",
      "Similar a: talk.politics.misc\n",
      "Similar a: talk.politics.misc\n",
      "Similar a: sci.crypt\n",
      "Índice del documento original: 2169\n",
      "Documento original: rec.sport.hockey\n",
      "Similar a: rec.sport.hockey\n",
      "Similar a: rec.sport.hockey\n",
      "Similar a: rec.sport.hockey\n",
      "Similar a: rec.sport.hockey\n",
      "Similar a: rec.sport.hockey\n",
      "Índice del documento original: 1272\n",
      "Documento original: comp.os.ms-windows.misc\n",
      "Similar a: comp.graphics\n",
      "Similar a: sci.med\n",
      "Similar a: comp.sys.ibm.pc.hardware\n",
      "Similar a: comp.sys.ibm.pc.hardware\n",
      "Similar a: comp.windows.x\n",
      "Índice del documento original: 8067\n",
      "Documento original: rec.sport.baseball\n",
      "Similar a: rec.sport.baseball\n",
      "Similar a: rec.sport.baseball\n",
      "Similar a: rec.sport.baseball\n",
      "Similar a: rec.sport.hockey\n",
      "Similar a: rec.motorcycles\n"
     ]
    }
   ],
   "source": [
    "import random\n",
    "\n",
    "random_document_indexes = random.sample(range(X_train.shape[0]), 5)\n",
    "cossim_list = []\n",
    "\n",
    "for j, index in enumerate(random_document_indexes):\n",
    "\n",
    "    cossim = cosine_similarity(X_train[index], X_train)[0]\n",
    "    mostsim = np.argsort(cossim)[::-1][1:6]\n",
    "    cossim_list.append(mostsim)\n",
    "    \n",
    "    print(\"Índice del documento original:\", index)\n",
    "    print(\"Documento original:\", newsgroups_train.target_names[y_train[index]])\n",
    "    for i in mostsim:\n",
    "        print(\"Similar a:\", newsgroups_train.target_names[y_train[i]])"
   ]
  },
  {
   "cell_type": "markdown",
   "metadata": {},
   "source": [
    "A continuación se analizan los 5 documentos más similares al cuarto de ellos (el documento nro 1272)"
   ]
  },
  {
   "cell_type": "code",
   "execution_count": 120,
   "metadata": {},
   "outputs": [
    {
     "name": "stdout",
     "output_type": "stream",
     "text": [
      "1272\n",
      "[2429 8719 2483 5917 2286]\n",
      "comp.os.ms-windows.misc\n",
      "Hello,\n",
      "\n",
      "I am looking for a Xterm emulator which runs under windows 3.1.\n",
      "\n",
      "Please reply via E-mail.\n",
      "\n",
      "Thanks.\n",
      "\n",
      "Chera Bekker\n"
     ]
    }
   ],
   "source": [
    "print(random_document_indexes[3])\n",
    "print(cossim_list[3])\n",
    "print(newsgroups_train.target_names[y_train[random_document_indexes[3]]])\n",
    "print(newsgroups_train.data[random_document_indexes[3]])"
   ]
  },
  {
   "cell_type": "code",
   "execution_count": 130,
   "metadata": {},
   "outputs": [
    {
     "name": "stdout",
     "output_type": "stream",
     "text": [
      "comp.graphics\n",
      "Hello,\n"
     ]
    }
   ],
   "source": [
    "print(newsgroups_train.target_names[y_train[cossim_list[3][0]]])\n",
    "print(newsgroups_train.data[cossim_list[3][0]])"
   ]
  },
  {
   "cell_type": "code",
   "execution_count": 131,
   "metadata": {},
   "outputs": [
    {
     "name": "stdout",
     "output_type": "stream",
     "text": [
      "sci.med\n",
      "Hello,\n"
     ]
    }
   ],
   "source": [
    "print(newsgroups_train.target_names[y_train[cossim_list[3][1]]])\n",
    "print(newsgroups_train.data[cossim_list[3][1]])"
   ]
  },
  {
   "cell_type": "code",
   "execution_count": 123,
   "metadata": {},
   "outputs": [
    {
     "name": "stdout",
     "output_type": "stream",
     "text": [
      "comp.sys.ibm.pc.hardware\n",
      "I am looking for information about this drive.  Switch settings, geometry..etc.\n",
      "\n",
      "Conner CP3204F\n",
      "\n",
      "Please reply via e-mail.  Many thanks in advance!\n",
      "\n"
     ]
    }
   ],
   "source": [
    "print(newsgroups_train.target_names[y_train[cossim_list[3][2]]])\n",
    "print(newsgroups_train.data[cossim_list[3][2]])"
   ]
  },
  {
   "cell_type": "code",
   "execution_count": 127,
   "metadata": {},
   "outputs": [
    {
     "name": "stdout",
     "output_type": "stream",
     "text": [
      "comp.sys.ibm.pc.hardware\n",
      "What do I need to do to configure this drive as a slave?\n",
      "Model# CP30101G\n",
      "\n",
      "Please reply via e-mail. Thanks!!\n"
     ]
    }
   ],
   "source": [
    "print(newsgroups_train.target_names[y_train[cossim_list[3][3]]])\n",
    "print(newsgroups_train.data[cossim_list[3][3]])"
   ]
  },
  {
   "cell_type": "code",
   "execution_count": 128,
   "metadata": {},
   "outputs": [
    {
     "name": "stdout",
     "output_type": "stream",
     "text": [
      "comp.windows.x\n",
      "The situation: running a Fortran executable that creats an Xterm.  An option\n",
      "in the menu contained in the Xterm runs a Fortran subroutine that creats\n",
      "a Tektronics-mode Xterm for displaying some graphics.  Typing a <RET> while\n",
      "the Tektronics-mode Xterm (future reference to this will be \"Tek-term\") is\n",
      "active makes the Xterm read future keystrokes but does not shift input focus\n",
      "to the Xterm (I'm basing that statement on the fact that the border of the \n",
      "Tek-term stays the highlighted color and that the Tek-term stays on top of\n",
      "Xterm.  If what I'm describing isn't input focus, let me know.)  \n",
      "\n",
      "The xterm can be brought to the top by clicking the mouse button on it.\n",
      "\n",
      "Subsequent selections from the Xterm of the menu item that displays graphics \n",
      "highlihts the border and displays the updated graphics, but does not move \n",
      "the Tek-term to the top.  If the Tek-term has been iconized to conserve \n",
      "screen space, it stays an icon.\n",
      "\n",
      "\n",
      "The desired behavior: one of two options - \n",
      "\n",
      "    1. Whichever of the windows that is active is always on top of the \n",
      "       inactive one.\n",
      "\n",
      "    2. Whenever the Tek-term is inactivated, it should revert to a icon\n",
      "       but when it is activated it should become a window on a higher \n",
      "       level than the Xterm.\n",
      "\n",
      "What I think I need: a means of specifying that a Xterm or Tek-term will\n",
      "be at the highest level and a way to iconify/expand a Xterm and Tek-term.\n",
      "These commands, would, I'd guess, need to be in the Fortran or in the \n",
      "command that starts up the Xterm and Tek-term.\n",
      "\n",
      "Other information: All this is taking place on a VT-1300 (a DEC dumb \n",
      "X-windows terminal) connected to a VAX running VMS and Motif.\n",
      "\n",
      "Thanks for your time.  If you've got any words of wisdom (other than \n",
      "\"give up\" ;-), please send email to \n"
     ]
    }
   ],
   "source": [
    "print(newsgroups_train.target_names[y_train[cossim_list[3][4]]])\n",
    "print(newsgroups_train.data[cossim_list[3][4]])"
   ]
  },
  {
   "cell_type": "markdown",
   "metadata": {},
   "source": [
    "Los primeros dos parecería ser prácticamente azar, debido a que el contenido de dichos documentos es muy pequeño. El tercer y cuarto documento, a pesar de no ser de la misma categoría, contienen un contenido que está estrechamente relacionado. Por último, el quinto resultado es correcto."
   ]
  },
  {
   "cell_type": "markdown",
   "metadata": {},
   "source": [
    "## 2."
   ]
  },
  {
   "cell_type": "code",
   "execution_count": 22,
   "metadata": {},
   "outputs": [
    {
     "name": "stdout",
     "output_type": "stream",
     "text": [
      "Mejor alpha encontrado: 0.1\n",
      "Mejor F1-score en test: 0.6953652590540836\n"
     ]
    }
   ],
   "source": [
    "#Complement Naive Bayes\n",
    "from sklearn.model_selection import GridSearchCV\n",
    "\n",
    "complement_nb = ComplementNB()\n",
    "alpha_values = [0.01, 0.05, 0.1, 0.5, 1.0, 5.0, 10.0]\n",
    "\n",
    "param_grid = {'alpha': alpha_values}\n",
    "grid_search = GridSearchCV(complement_nb, param_grid, scoring='f1_macro', cv=5, n_jobs=-1)\n",
    "\n",
    "grid_search.fit(X_train, y_train)\n",
    "\n",
    "best_alpha = grid_search.best_params_['alpha']\n",
    "print(f\"Mejor alpha encontrado: {best_alpha}\")\n",
    "\n",
    "best_complement_nb = ComplementNB(alpha=best_alpha)\n",
    "best_complement_nb.fit(X_train, y_train)\n",
    "\n",
    "y_pred_best_cnb = best_complement_nb.predict(X_test)\n",
    "best_f1 = f1_score(y_test, y_pred_best_cnb, average='macro')\n",
    "print(f\"Mejor F1-score en test: {best_f1}\")"
   ]
  },
  {
   "cell_type": "code",
   "execution_count": 23,
   "metadata": {},
   "outputs": [
    {
     "name": "stdout",
     "output_type": "stream",
     "text": [
      "Mejor alpha encontrado: 0.01\n",
      "Mejor F1-score en test: 0.668895083530568\n"
     ]
    }
   ],
   "source": [
    "#Multinomial Naive Bayes\n",
    "\n",
    "multinomial_nb = MultinomialNB()\n",
    "alpha_values = [0.01, 0.05, 0.1, 0.5, 1.0, 5.0, 10.0]\n",
    "\n",
    "param_grid = {'alpha': alpha_values}\n",
    "grid_search = GridSearchCV(multinomial_nb, param_grid, scoring='f1_macro', cv=5, n_jobs=-1)\n",
    "\n",
    "grid_search.fit(X_train, y_train)\n",
    "\n",
    "best_alpha = grid_search.best_params_['alpha']\n",
    "print(f\"Mejor alpha encontrado: {best_alpha}\")\n",
    "\n",
    "best_multinomial_nb = ComplementNB(alpha=best_alpha)\n",
    "best_multinomial_nb.fit(X_train, y_train)\n",
    "\n",
    "y_pred_best_mnb = best_multinomial_nb.predict(X_test)\n",
    "best_f1 = f1_score(y_test, y_pred_best_mnb, average='macro')\n",
    "print(f\"Mejor F1-score en test: {best_f1}\")"
   ]
  },
  {
   "cell_type": "code",
   "execution_count": 24,
   "metadata": {},
   "outputs": [
    {
     "name": "stdout",
     "output_type": "stream",
     "text": [
      "Mejor F1-score en test: 0.6986671237912787\n"
     ]
    }
   ],
   "source": [
    "tfidfvect_2 = TfidfVectorizer(stop_words='english', max_df=0.8, min_df=3, ngram_range=(1,2), sublinear_tf=True, norm='l2')\n",
    "\n",
    "X_train_2 = tfidfvect_2.fit_transform(newsgroups_train.data)\n",
    "X_test_2 = tfidfvect_2.transform(newsgroups_test.data)\n",
    "\n",
    "complement_nb_2 = ComplementNB(alpha=0.1)\n",
    "complement_nb_2.fit(X_train_2, y_train)\n",
    "\n",
    "y_pred_cnb_2 = complement_nb_2.predict(X_test_2)\n",
    "score = f1_score(y_test, y_pred_cnb_2, average='macro')\n",
    "print(f\"Mejor F1-score en test: {score}\")"
   ]
  },
  {
   "cell_type": "code",
   "execution_count": 25,
   "metadata": {},
   "outputs": [
    {
     "name": "stdout",
     "output_type": "stream",
     "text": [
      "Mejor F1-score en test: 0.678080111631851\n"
     ]
    }
   ],
   "source": [
    "multinomial_nb_2 = MultinomialNB(alpha=0.01)\n",
    "multinomial_nb_2.fit(X_train_2, y_train)\n",
    "\n",
    "y_pred_mnb_2 = multinomial_nb_2.predict(X_test_2)\n",
    "score = f1_score(y_test, y_pred_mnb_2, average='macro')\n",
    "print(f\"Mejor F1-score en test: {score}\")"
   ]
  },
  {
   "cell_type": "markdown",
   "metadata": {},
   "source": [
    "Se optó por utilizar los alpha encontrados anteriormente, en lugar de volver a buscarlos. Si la precisión fuera el objetivo final, debería de volver a buscarse el alpha con el vocabulario generado nuevamente."
   ]
  },
  {
   "cell_type": "markdown",
   "metadata": {},
   "source": [
    "## 3."
   ]
  },
  {
   "cell_type": "code",
   "execution_count": 138,
   "metadata": {},
   "outputs": [
    {
     "name": "stdout",
     "output_type": "stream",
     "text": [
      "<class 'scipy.sparse._csc.csc_matrix'>\n",
      "shape: (62739, 11314)\n",
      "Cantidad de palabras: 62739\n"
     ]
    }
   ],
   "source": [
    "X_train_tfidf_T = X_train_2.T  # o X_train_2.transpose()\n",
    "print(type(X_train_tfidf_T))\n",
    "print(f'shape: {X_train_tfidf_T.shape}')\n",
    "print(f'Cantidad de palabras: {X_train_tfidf_T.shape[0]}')"
   ]
  },
  {
   "cell_type": "code",
   "execution_count": 146,
   "metadata": {},
   "outputs": [
    {
     "name": "stdout",
     "output_type": "stream",
     "text": [
      "Palabras más similares a \"computer\": ['computer science', 'computer graphics', 'turn computer', 'new computer', 'computer equipment']\n",
      "Palabras más similares a \"network\": ['products using', 'utilizing', 'network don', 'pc network', 'pc home']\n",
      "Palabras más similares a \"space\": ['space station', 'sci space', 'nasa', 'space shuttle', 'shuttle']\n",
      "Palabras más similares a \"car\": ['new car', 'bought car', 'cars', 'car like', 'car car']\n",
      "Palabras más similares a \"science\": ['computer science', 'scientific', 'science collection', 'competing religious', 'psychology like']\n"
     ]
    }
   ],
   "source": [
    "words = tfidfvect_2.get_feature_names_out()\n",
    "\n",
    "selected_words = [\"computer\", \"network\", \"space\", \"car\", \"science\"]\n",
    "word_indices = [np.where(words == word)[0][0] for word in selected_words if word in words]\n",
    "cosine_similarities = cosine_similarity(X_train_tfidf_T)\n",
    "\n",
    "for idx, word in zip(word_indices, selected_words):\n",
    "    if idx is not None:\n",
    "        similar_indices = np.argsort(cosine_similarities[idx])[::-1][1:6]\n",
    "        similar_words = [words[i] for i in similar_indices]\n",
    "        print(f'Palabras más similares a \"{word}\": {similar_words}')"
   ]
  },
  {
   "cell_type": "markdown",
   "metadata": {},
   "source": [
    "Aparecen construcciones de más de una palabra por haber utilizado la opción de ngram_range=(1,2).\n",
    "\n",
    "Las palabras más similares reflejan asociaciones semánticas esperadas.\n",
    "\n",
    "Por ejemplo, \"computer\" está estrechamente relacionado con \"computer science\", \"computer graphics\", y \"new computer\", lo que sugiere que el modelo ha capturado términos comunes dentro del dominio de la informática.\n",
    "Lo mismo ocurre con \"space\", que se asocia con \"space station\", \"nasa\", y \"space shuttle\"..\n",
    "Algunas similitudes parecen basadas en coocurrencias en frases comunes\n",
    "\n",
    "En el caso de \"car\", términos como \"new car\", \"bought car\", y \"car like\" reflejan expresiones cotidianas, más que sinónimos o términos técnicos relacionados con automóviles. Algo similar ocurre con \"network\", donde aparecen frases como \"network don\" y \"pc network\", lo que sugiere que los términos están agrupados por contexto en lugar de significado exacto. Algunas asociaciones pueden no ser completamente interpretables, or ejemplo \"car car\".\n",
    "\n",
    "En \"science\", encontramos términos esperados como \"computer science\" y \"scientific\", pero también \"competing religious\", lo cual podría indicar que en los textos hay discusiones sobre la relación entre ciencia y religión.\n",
    "En \"network\", términos como \"products using\" o \"utilizing\" parecen menos intuitivos y podrían ser ruido en la representación del modelo.\n",
    "\n",
    "Especialmente en áreas técnicas (\"computer\", \"science\", \"space\") el modelo encuentra términos bien relacionados.\n",
    "Sin embargo, en palabras más generales como \"car\", el modelo parece estar agrupando términos por proximidad textual en lugar de significado puro."
   ]
  },
  {
   "cell_type": "code",
   "execution_count": null,
   "metadata": {},
   "outputs": [],
   "source": []
  }
 ],
 "metadata": {
  "colab": {
   "provenance": []
  },
  "kernelspec": {
   "display_name": "Python 3 (ipykernel)",
   "language": "python",
   "name": "python3"
  },
  "language_info": {
   "codemirror_mode": {
    "name": "ipython",
    "version": 3
   },
   "file_extension": ".py",
   "mimetype": "text/x-python",
   "name": "python",
   "nbconvert_exporter": "python",
   "pygments_lexer": "ipython3",
   "version": "3.11.9"
  }
 },
 "nbformat": 4,
 "nbformat_minor": 4
}
