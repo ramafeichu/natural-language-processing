{
  "cells": [
    {
      "cell_type": "markdown",
      "metadata": {
        "id": "sZd5yLnnHOK0"
      },
      "source": [
        "# Procesamiento de lenguaje natural\n",
        "## Entrega n°2\n",
        "### Ramiro Andrés Feichubuinm\n",
        "\n"
      ]
    },
    {
      "cell_type": "markdown",
      "metadata": {
        "id": "vA7nqkumo9z9"
      },
      "source": [
        "### Objetivo\n",
        "    -Crear sus propios vectores con Gensim basado en lo visto en clase con otro dataset.\n",
        "    -Probar términos de interés y explicar similitudes en el espacio de embeddings.\n",
        "    -Intentar plantear y probar tests de analogías.\n",
        "    -Graficar los embeddings resultantes.\n",
        "    -Sacar conclusiones."
      ]
    },
    {
      "cell_type": "markdown",
      "source": [
        "Directivas necesarias por temas de compatibilidad entre versiones:"
      ],
      "metadata": {
        "id": "M97agvk6zqkm"
      }
    },
    {
      "cell_type": "code",
      "source": [
        "!pip uninstall -y numpy gensim pandas\n",
        "!pip install --upgrade numpy gensim pandas==2.2.2"
      ],
      "metadata": {
        "id": "avsGk44f9JOL",
        "colab": {
          "base_uri": "https://localhost:8080/"
        },
        "outputId": "cef689a2-b306-43f5-aeff-f153a3290be4"
      },
      "execution_count": 1,
      "outputs": [
        {
          "output_type": "stream",
          "name": "stdout",
          "text": [
            "Found existing installation: numpy 1.26.4\n",
            "Uninstalling numpy-1.26.4:\n",
            "  Successfully uninstalled numpy-1.26.4\n",
            "Found existing installation: gensim 4.3.3\n",
            "Uninstalling gensim-4.3.3:\n",
            "  Successfully uninstalled gensim-4.3.3\n",
            "Found existing installation: pandas 2.2.2\n",
            "Uninstalling pandas-2.2.2:\n",
            "  Successfully uninstalled pandas-2.2.2\n",
            "Collecting numpy\n",
            "  Using cached numpy-2.2.4-cp311-cp311-manylinux_2_17_x86_64.manylinux2014_x86_64.whl.metadata (62 kB)\n",
            "Collecting gensim\n",
            "  Using cached gensim-4.3.3-cp311-cp311-manylinux_2_17_x86_64.manylinux2014_x86_64.whl.metadata (8.1 kB)\n",
            "Collecting pandas==2.2.2\n",
            "  Using cached pandas-2.2.2-cp311-cp311-manylinux_2_17_x86_64.manylinux2014_x86_64.whl.metadata (19 kB)\n",
            "Requirement already satisfied: python-dateutil>=2.8.2 in /usr/local/lib/python3.11/dist-packages (from pandas==2.2.2) (2.8.2)\n",
            "Requirement already satisfied: pytz>=2020.1 in /usr/local/lib/python3.11/dist-packages (from pandas==2.2.2) (2025.1)\n",
            "Requirement already satisfied: tzdata>=2022.7 in /usr/local/lib/python3.11/dist-packages (from pandas==2.2.2) (2025.1)\n",
            "Collecting numpy\n",
            "  Using cached numpy-1.26.4-cp311-cp311-manylinux_2_17_x86_64.manylinux2014_x86_64.whl.metadata (61 kB)\n",
            "Requirement already satisfied: scipy<1.14.0,>=1.7.0 in /usr/local/lib/python3.11/dist-packages (from gensim) (1.13.1)\n",
            "Requirement already satisfied: smart-open>=1.8.1 in /usr/local/lib/python3.11/dist-packages (from gensim) (7.1.0)\n",
            "Requirement already satisfied: six>=1.5 in /usr/local/lib/python3.11/dist-packages (from python-dateutil>=2.8.2->pandas==2.2.2) (1.17.0)\n",
            "Requirement already satisfied: wrapt in /usr/local/lib/python3.11/dist-packages (from smart-open>=1.8.1->gensim) (1.17.2)\n",
            "Using cached pandas-2.2.2-cp311-cp311-manylinux_2_17_x86_64.manylinux2014_x86_64.whl (13.0 MB)\n",
            "Using cached gensim-4.3.3-cp311-cp311-manylinux_2_17_x86_64.manylinux2014_x86_64.whl (26.7 MB)\n",
            "Using cached numpy-1.26.4-cp311-cp311-manylinux_2_17_x86_64.manylinux2014_x86_64.whl (18.3 MB)\n",
            "Installing collected packages: numpy, pandas, gensim\n",
            "Successfully installed gensim-4.3.3 numpy-1.26.4 pandas-2.2.2\n"
          ]
        }
      ]
    },
    {
      "cell_type": "code",
      "source": [
        "!pip install tensorflow"
      ],
      "metadata": {
        "id": "pFV-dQOLwYIt",
        "colab": {
          "base_uri": "https://localhost:8080/"
        },
        "outputId": "907b8fc5-2141-44a1-9ca4-fdaa61234589"
      },
      "execution_count": 2,
      "outputs": [
        {
          "output_type": "stream",
          "name": "stdout",
          "text": [
            "Requirement already satisfied: tensorflow in /usr/local/lib/python3.11/dist-packages (2.18.0)\n",
            "Requirement already satisfied: absl-py>=1.0.0 in /usr/local/lib/python3.11/dist-packages (from tensorflow) (1.4.0)\n",
            "Requirement already satisfied: astunparse>=1.6.0 in /usr/local/lib/python3.11/dist-packages (from tensorflow) (1.6.3)\n",
            "Requirement already satisfied: flatbuffers>=24.3.25 in /usr/local/lib/python3.11/dist-packages (from tensorflow) (25.2.10)\n",
            "Requirement already satisfied: gast!=0.5.0,!=0.5.1,!=0.5.2,>=0.2.1 in /usr/local/lib/python3.11/dist-packages (from tensorflow) (0.6.0)\n",
            "Requirement already satisfied: google-pasta>=0.1.1 in /usr/local/lib/python3.11/dist-packages (from tensorflow) (0.2.0)\n",
            "Requirement already satisfied: libclang>=13.0.0 in /usr/local/lib/python3.11/dist-packages (from tensorflow) (18.1.1)\n",
            "Requirement already satisfied: opt-einsum>=2.3.2 in /usr/local/lib/python3.11/dist-packages (from tensorflow) (3.4.0)\n",
            "Requirement already satisfied: packaging in /usr/local/lib/python3.11/dist-packages (from tensorflow) (24.2)\n",
            "Requirement already satisfied: protobuf!=4.21.0,!=4.21.1,!=4.21.2,!=4.21.3,!=4.21.4,!=4.21.5,<6.0.0dev,>=3.20.3 in /usr/local/lib/python3.11/dist-packages (from tensorflow) (5.29.4)\n",
            "Requirement already satisfied: requests<3,>=2.21.0 in /usr/local/lib/python3.11/dist-packages (from tensorflow) (2.32.3)\n",
            "Requirement already satisfied: setuptools in /usr/local/lib/python3.11/dist-packages (from tensorflow) (75.1.0)\n",
            "Requirement already satisfied: six>=1.12.0 in /usr/local/lib/python3.11/dist-packages (from tensorflow) (1.17.0)\n",
            "Requirement already satisfied: termcolor>=1.1.0 in /usr/local/lib/python3.11/dist-packages (from tensorflow) (2.5.0)\n",
            "Requirement already satisfied: typing-extensions>=3.6.6 in /usr/local/lib/python3.11/dist-packages (from tensorflow) (4.12.2)\n",
            "Requirement already satisfied: wrapt>=1.11.0 in /usr/local/lib/python3.11/dist-packages (from tensorflow) (1.17.2)\n",
            "Requirement already satisfied: grpcio<2.0,>=1.24.3 in /usr/local/lib/python3.11/dist-packages (from tensorflow) (1.71.0)\n",
            "Requirement already satisfied: tensorboard<2.19,>=2.18 in /usr/local/lib/python3.11/dist-packages (from tensorflow) (2.18.0)\n",
            "Requirement already satisfied: keras>=3.5.0 in /usr/local/lib/python3.11/dist-packages (from tensorflow) (3.8.0)\n",
            "Requirement already satisfied: numpy<2.1.0,>=1.26.0 in /usr/local/lib/python3.11/dist-packages (from tensorflow) (1.26.4)\n",
            "Requirement already satisfied: h5py>=3.11.0 in /usr/local/lib/python3.11/dist-packages (from tensorflow) (3.13.0)\n",
            "Requirement already satisfied: ml-dtypes<0.5.0,>=0.4.0 in /usr/local/lib/python3.11/dist-packages (from tensorflow) (0.4.1)\n",
            "Requirement already satisfied: tensorflow-io-gcs-filesystem>=0.23.1 in /usr/local/lib/python3.11/dist-packages (from tensorflow) (0.37.1)\n",
            "Requirement already satisfied: wheel<1.0,>=0.23.0 in /usr/local/lib/python3.11/dist-packages (from astunparse>=1.6.0->tensorflow) (0.45.1)\n",
            "Requirement already satisfied: rich in /usr/local/lib/python3.11/dist-packages (from keras>=3.5.0->tensorflow) (13.9.4)\n",
            "Requirement already satisfied: namex in /usr/local/lib/python3.11/dist-packages (from keras>=3.5.0->tensorflow) (0.0.8)\n",
            "Requirement already satisfied: optree in /usr/local/lib/python3.11/dist-packages (from keras>=3.5.0->tensorflow) (0.14.1)\n",
            "Requirement already satisfied: charset-normalizer<4,>=2 in /usr/local/lib/python3.11/dist-packages (from requests<3,>=2.21.0->tensorflow) (3.4.1)\n",
            "Requirement already satisfied: idna<4,>=2.5 in /usr/local/lib/python3.11/dist-packages (from requests<3,>=2.21.0->tensorflow) (3.10)\n",
            "Requirement already satisfied: urllib3<3,>=1.21.1 in /usr/local/lib/python3.11/dist-packages (from requests<3,>=2.21.0->tensorflow) (2.3.0)\n",
            "Requirement already satisfied: certifi>=2017.4.17 in /usr/local/lib/python3.11/dist-packages (from requests<3,>=2.21.0->tensorflow) (2025.1.31)\n",
            "Requirement already satisfied: markdown>=2.6.8 in /usr/local/lib/python3.11/dist-packages (from tensorboard<2.19,>=2.18->tensorflow) (3.7)\n",
            "Requirement already satisfied: tensorboard-data-server<0.8.0,>=0.7.0 in /usr/local/lib/python3.11/dist-packages (from tensorboard<2.19,>=2.18->tensorflow) (0.7.2)\n",
            "Requirement already satisfied: werkzeug>=1.0.1 in /usr/local/lib/python3.11/dist-packages (from tensorboard<2.19,>=2.18->tensorflow) (3.1.3)\n",
            "Requirement already satisfied: MarkupSafe>=2.1.1 in /usr/local/lib/python3.11/dist-packages (from werkzeug>=1.0.1->tensorboard<2.19,>=2.18->tensorflow) (3.0.2)\n",
            "Requirement already satisfied: markdown-it-py>=2.2.0 in /usr/local/lib/python3.11/dist-packages (from rich->keras>=3.5.0->tensorflow) (3.0.0)\n",
            "Requirement already satisfied: pygments<3.0.0,>=2.13.0 in /usr/local/lib/python3.11/dist-packages (from rich->keras>=3.5.0->tensorflow) (2.18.0)\n",
            "Requirement already satisfied: mdurl~=0.1 in /usr/local/lib/python3.11/dist-packages (from markdown-it-py>=2.2.0->rich->keras>=3.5.0->tensorflow) (0.1.2)\n"
          ]
        }
      ]
    },
    {
      "cell_type": "code",
      "execution_count": 3,
      "metadata": {
        "id": "lFToQs5FK5uZ"
      },
      "outputs": [],
      "source": [
        "import pandas as pd\n",
        "import matplotlib.pyplot as plt\n",
        "import seaborn as sns\n",
        "import multiprocessing\n",
        "from gensim.models import Word2Vec"
      ]
    },
    {
      "cell_type": "code",
      "source": [
        "import random\n",
        "from gensim.utils import simple_preprocess\n",
        "import requests"
      ],
      "metadata": {
        "id": "l5g4nwu-5J1m"
      },
      "execution_count": 4,
      "outputs": []
    },
    {
      "cell_type": "markdown",
      "metadata": {
        "id": "g07zJxG7H9vG"
      },
      "source": [
        "### Datos\n",
        "Utilizo como dataset los siguientes tres textos:"
      ]
    },
    {
      "cell_type": "code",
      "execution_count": 5,
      "metadata": {
        "id": "l7z4CSBfpR3X",
        "colab": {
          "base_uri": "https://localhost:8080/"
        },
        "outputId": "a76d6fbe-8426-4df9-b3be-d03e4a1cc597"
      },
      "outputs": [
        {
          "output_type": "stream",
          "name": "stdout",
          "text": [
            "Archivos descargados en la carpeta 'dataset'\n"
          ]
        }
      ],
      "source": [
        "import os\n",
        "import platform\n",
        "\n",
        "dataset_dir = 'dataset'\n",
        "os.makedirs(dataset_dir, exist_ok=True)\n",
        "\n",
        "url_nietzsche = \"https://raw.githubusercontent.com/ramafeichu/natural-language-processing/main/desafios/desafio-1/src/Friedrich_Nietzsche_-_Mas_Alla_del_Bien_y_del_Mal.txt\"\n",
        "url_platon = \"https://raw.githubusercontent.com/ramafeichu/natural-language-processing/main/desafios/desafio-1/src/Platon_-_El_Banquete.txt\"\n",
        "url_sun_tzu = \"https://raw.githubusercontent.com/ramafeichu/natural-language-processing/main/desafios/desafio-1/src/Sun_Tzu_-_El_Arte_de_la_Guerra.txt\"\n",
        "\n",
        "print(\"Archivos descargados en la carpeta 'dataset'\")\n",
        "\n",
        "if platform.system() == 'Windows':\n",
        "    os.system(f\"curl -o {dataset_dir}/nietzsche.txt \\\"{url_nietzsche}\\\"\")\n",
        "    os.system(f\"curl -o {dataset_dir}/platon.txt \\\"{url_platon}\\\"\")\n",
        "    os.system(f\"curl -o {dataset_dir}/sun_tzu.txt \\\"{url_sun_tzu}\\\"\")\n",
        "else:\n",
        "    os.system(f\"wget -P {dataset_dir}/ \\\"{url_nietzsche}\\\"\")\n",
        "    os.system(f\"wget -P {dataset_dir}/ \\\"{url_platon}\\\"\")\n",
        "    os.system(f\"wget -P {dataset_dir}/ \\\"{url_sun_tzu}\\\"\")"
      ]
    },
    {
      "cell_type": "code",
      "execution_count": 6,
      "metadata": {
        "id": "mysGrIw9ljC2",
        "colab": {
          "base_uri": "https://localhost:8080/"
        },
        "outputId": "2564b46f-a7d6-401e-890a-283fc7733364"
      },
      "outputs": [
        {
          "output_type": "execute_result",
          "data": {
            "text/plain": [
              "['Platon_-_El_Banquete.txt',\n",
              " 'Sun_Tzu_-_El_Arte_de_la_Guerra.txt.1',\n",
              " 'Sun_Tzu_-_El_Arte_de_la_Guerra.txt',\n",
              " 'Platon_-_El_Banquete.txt.1',\n",
              " 'Friedrich_Nietzsche_-_Mas_Alla_del_Bien_y_del_Mal.txt.1',\n",
              " 'Friedrich_Nietzsche_-_Mas_Alla_del_Bien_y_del_Mal.txt']"
            ]
          },
          "metadata": {},
          "execution_count": 6
        }
      ],
      "source": [
        "os.listdir(\"./dataset/\")"
      ]
    },
    {
      "cell_type": "code",
      "source": [
        "ruta = \"./dataset/\"\n",
        "archivos = os.listdir(\"./dataset/\")\n",
        "\n",
        "\n",
        "dfs = []\n",
        "\n",
        "for archivo in archivos:\n",
        "    df_temp = pd.read_csv(os.path.join(ruta, archivo), sep='/n', header=None, names=[\"Texto\"], encoding=\"latin\")\n",
        "\n",
        "    # Separo por punto también\n",
        "    df_temp = df_temp[\"Texto\"].str.split(r\"\\.\", expand=True).stack().reset_index(drop=True).to_frame()\n",
        "\n",
        "    df_temp[\"Fuente\"] = archivo\n",
        "    dfs.append(df_temp)\n",
        "\n",
        "# Uno todo\n",
        "df_final = pd.concat(dfs, ignore_index=True)\n",
        "\n",
        "df_final.rename(columns={0: \"Oración\"}, inplace=True)\n",
        "\n",
        "df_final.head()"
      ],
      "metadata": {
        "id": "aBF0LSY6hM9U",
        "colab": {
          "base_uri": "https://localhost:8080/",
          "height": 435
        },
        "outputId": "197795da-582c-4dd7-93dd-4fe57f746cd6"
      },
      "execution_count": 7,
      "outputs": [
        {
          "output_type": "stream",
          "name": "stderr",
          "text": [
            "<ipython-input-7-169964d14922>:8: ParserWarning: Falling back to the 'python' engine because the 'c' engine does not support regex separators (separators > 1 char and different from '\\s+' are interpreted as regex); you can avoid this warning by specifying engine='python'.\n",
            "  df_temp = pd.read_csv(os.path.join(ruta, archivo), sep='/n', header=None, names=[\"Texto\"], encoding=\"latin\")\n",
            "<ipython-input-7-169964d14922>:8: ParserWarning: Falling back to the 'python' engine because the 'c' engine does not support regex separators (separators > 1 char and different from '\\s+' are interpreted as regex); you can avoid this warning by specifying engine='python'.\n",
            "  df_temp = pd.read_csv(os.path.join(ruta, archivo), sep='/n', header=None, names=[\"Texto\"], encoding=\"latin\")\n",
            "<ipython-input-7-169964d14922>:8: ParserWarning: Falling back to the 'python' engine because the 'c' engine does not support regex separators (separators > 1 char and different from '\\s+' are interpreted as regex); you can avoid this warning by specifying engine='python'.\n",
            "  df_temp = pd.read_csv(os.path.join(ruta, archivo), sep='/n', header=None, names=[\"Texto\"], encoding=\"latin\")\n",
            "<ipython-input-7-169964d14922>:8: ParserWarning: Falling back to the 'python' engine because the 'c' engine does not support regex separators (separators > 1 char and different from '\\s+' are interpreted as regex); you can avoid this warning by specifying engine='python'.\n",
            "  df_temp = pd.read_csv(os.path.join(ruta, archivo), sep='/n', header=None, names=[\"Texto\"], encoding=\"latin\")\n",
            "<ipython-input-7-169964d14922>:8: ParserWarning: Falling back to the 'python' engine because the 'c' engine does not support regex separators (separators > 1 char and different from '\\s+' are interpreted as regex); you can avoid this warning by specifying engine='python'.\n",
            "  df_temp = pd.read_csv(os.path.join(ruta, archivo), sep='/n', header=None, names=[\"Texto\"], encoding=\"latin\")\n",
            "<ipython-input-7-169964d14922>:8: ParserWarning: Falling back to the 'python' engine because the 'c' engine does not support regex separators (separators > 1 char and different from '\\s+' are interpreted as regex); you can avoid this warning by specifying engine='python'.\n",
            "  df_temp = pd.read_csv(os.path.join(ruta, archivo), sep='/n', header=None, names=[\"Texto\"], encoding=\"latin\")\n"
          ]
        },
        {
          "output_type": "execute_result",
          "data": {
            "text/plain": [
              "                                             Oración                    Fuente\n",
              "0                                        El Banquete  Platon_-_El_Banquete.txt\n",
              "1                                             Platón  Platon_-_El_Banquete.txt\n",
              "2                                        El banquete  Platon_-_El_Banquete.txt\n",
              "3                                         APOLODOROS  Platon_-_El_Banquete.txt\n",
              "4  - Creo que estoy bastante bien preparado para ...  Platon_-_El_Banquete.txt"
            ],
            "text/html": [
              "\n",
              "  <div id=\"df-f0572454-7bd2-4b7e-8b0e-257a60000915\" class=\"colab-df-container\">\n",
              "    <div>\n",
              "<style scoped>\n",
              "    .dataframe tbody tr th:only-of-type {\n",
              "        vertical-align: middle;\n",
              "    }\n",
              "\n",
              "    .dataframe tbody tr th {\n",
              "        vertical-align: top;\n",
              "    }\n",
              "\n",
              "    .dataframe thead th {\n",
              "        text-align: right;\n",
              "    }\n",
              "</style>\n",
              "<table border=\"1\" class=\"dataframe\">\n",
              "  <thead>\n",
              "    <tr style=\"text-align: right;\">\n",
              "      <th></th>\n",
              "      <th>Oración</th>\n",
              "      <th>Fuente</th>\n",
              "    </tr>\n",
              "  </thead>\n",
              "  <tbody>\n",
              "    <tr>\n",
              "      <th>0</th>\n",
              "      <td>El Banquete</td>\n",
              "      <td>Platon_-_El_Banquete.txt</td>\n",
              "    </tr>\n",
              "    <tr>\n",
              "      <th>1</th>\n",
              "      <td>Platón</td>\n",
              "      <td>Platon_-_El_Banquete.txt</td>\n",
              "    </tr>\n",
              "    <tr>\n",
              "      <th>2</th>\n",
              "      <td>El banquete</td>\n",
              "      <td>Platon_-_El_Banquete.txt</td>\n",
              "    </tr>\n",
              "    <tr>\n",
              "      <th>3</th>\n",
              "      <td>APOLODOROS</td>\n",
              "      <td>Platon_-_El_Banquete.txt</td>\n",
              "    </tr>\n",
              "    <tr>\n",
              "      <th>4</th>\n",
              "      <td>- Creo que estoy bastante bien preparado para ...</td>\n",
              "      <td>Platon_-_El_Banquete.txt</td>\n",
              "    </tr>\n",
              "  </tbody>\n",
              "</table>\n",
              "</div>\n",
              "    <div class=\"colab-df-buttons\">\n",
              "\n",
              "  <div class=\"colab-df-container\">\n",
              "    <button class=\"colab-df-convert\" onclick=\"convertToInteractive('df-f0572454-7bd2-4b7e-8b0e-257a60000915')\"\n",
              "            title=\"Convert this dataframe to an interactive table.\"\n",
              "            style=\"display:none;\">\n",
              "\n",
              "  <svg xmlns=\"http://www.w3.org/2000/svg\" height=\"24px\" viewBox=\"0 -960 960 960\">\n",
              "    <path d=\"M120-120v-720h720v720H120Zm60-500h600v-160H180v160Zm220 220h160v-160H400v160Zm0 220h160v-160H400v160ZM180-400h160v-160H180v160Zm440 0h160v-160H620v160ZM180-180h160v-160H180v160Zm440 0h160v-160H620v160Z\"/>\n",
              "  </svg>\n",
              "    </button>\n",
              "\n",
              "  <style>\n",
              "    .colab-df-container {\n",
              "      display:flex;\n",
              "      gap: 12px;\n",
              "    }\n",
              "\n",
              "    .colab-df-convert {\n",
              "      background-color: #E8F0FE;\n",
              "      border: none;\n",
              "      border-radius: 50%;\n",
              "      cursor: pointer;\n",
              "      display: none;\n",
              "      fill: #1967D2;\n",
              "      height: 32px;\n",
              "      padding: 0 0 0 0;\n",
              "      width: 32px;\n",
              "    }\n",
              "\n",
              "    .colab-df-convert:hover {\n",
              "      background-color: #E2EBFA;\n",
              "      box-shadow: 0px 1px 2px rgba(60, 64, 67, 0.3), 0px 1px 3px 1px rgba(60, 64, 67, 0.15);\n",
              "      fill: #174EA6;\n",
              "    }\n",
              "\n",
              "    .colab-df-buttons div {\n",
              "      margin-bottom: 4px;\n",
              "    }\n",
              "\n",
              "    [theme=dark] .colab-df-convert {\n",
              "      background-color: #3B4455;\n",
              "      fill: #D2E3FC;\n",
              "    }\n",
              "\n",
              "    [theme=dark] .colab-df-convert:hover {\n",
              "      background-color: #434B5C;\n",
              "      box-shadow: 0px 1px 3px 1px rgba(0, 0, 0, 0.15);\n",
              "      filter: drop-shadow(0px 1px 2px rgba(0, 0, 0, 0.3));\n",
              "      fill: #FFFFFF;\n",
              "    }\n",
              "  </style>\n",
              "\n",
              "    <script>\n",
              "      const buttonEl =\n",
              "        document.querySelector('#df-f0572454-7bd2-4b7e-8b0e-257a60000915 button.colab-df-convert');\n",
              "      buttonEl.style.display =\n",
              "        google.colab.kernel.accessAllowed ? 'block' : 'none';\n",
              "\n",
              "      async function convertToInteractive(key) {\n",
              "        const element = document.querySelector('#df-f0572454-7bd2-4b7e-8b0e-257a60000915');\n",
              "        const dataTable =\n",
              "          await google.colab.kernel.invokeFunction('convertToInteractive',\n",
              "                                                    [key], {});\n",
              "        if (!dataTable) return;\n",
              "\n",
              "        const docLinkHtml = 'Like what you see? Visit the ' +\n",
              "          '<a target=\"_blank\" href=https://colab.research.google.com/notebooks/data_table.ipynb>data table notebook</a>'\n",
              "          + ' to learn more about interactive tables.';\n",
              "        element.innerHTML = '';\n",
              "        dataTable['output_type'] = 'display_data';\n",
              "        await google.colab.output.renderOutput(dataTable, element);\n",
              "        const docLink = document.createElement('div');\n",
              "        docLink.innerHTML = docLinkHtml;\n",
              "        element.appendChild(docLink);\n",
              "      }\n",
              "    </script>\n",
              "  </div>\n",
              "\n",
              "\n",
              "<div id=\"df-2892930a-5de9-4725-91bf-161af7b1d090\">\n",
              "  <button class=\"colab-df-quickchart\" onclick=\"quickchart('df-2892930a-5de9-4725-91bf-161af7b1d090')\"\n",
              "            title=\"Suggest charts\"\n",
              "            style=\"display:none;\">\n",
              "\n",
              "<svg xmlns=\"http://www.w3.org/2000/svg\" height=\"24px\"viewBox=\"0 0 24 24\"\n",
              "     width=\"24px\">\n",
              "    <g>\n",
              "        <path d=\"M19 3H5c-1.1 0-2 .9-2 2v14c0 1.1.9 2 2 2h14c1.1 0 2-.9 2-2V5c0-1.1-.9-2-2-2zM9 17H7v-7h2v7zm4 0h-2V7h2v10zm4 0h-2v-4h2v4z\"/>\n",
              "    </g>\n",
              "</svg>\n",
              "  </button>\n",
              "\n",
              "<style>\n",
              "  .colab-df-quickchart {\n",
              "      --bg-color: #E8F0FE;\n",
              "      --fill-color: #1967D2;\n",
              "      --hover-bg-color: #E2EBFA;\n",
              "      --hover-fill-color: #174EA6;\n",
              "      --disabled-fill-color: #AAA;\n",
              "      --disabled-bg-color: #DDD;\n",
              "  }\n",
              "\n",
              "  [theme=dark] .colab-df-quickchart {\n",
              "      --bg-color: #3B4455;\n",
              "      --fill-color: #D2E3FC;\n",
              "      --hover-bg-color: #434B5C;\n",
              "      --hover-fill-color: #FFFFFF;\n",
              "      --disabled-bg-color: #3B4455;\n",
              "      --disabled-fill-color: #666;\n",
              "  }\n",
              "\n",
              "  .colab-df-quickchart {\n",
              "    background-color: var(--bg-color);\n",
              "    border: none;\n",
              "    border-radius: 50%;\n",
              "    cursor: pointer;\n",
              "    display: none;\n",
              "    fill: var(--fill-color);\n",
              "    height: 32px;\n",
              "    padding: 0;\n",
              "    width: 32px;\n",
              "  }\n",
              "\n",
              "  .colab-df-quickchart:hover {\n",
              "    background-color: var(--hover-bg-color);\n",
              "    box-shadow: 0 1px 2px rgba(60, 64, 67, 0.3), 0 1px 3px 1px rgba(60, 64, 67, 0.15);\n",
              "    fill: var(--button-hover-fill-color);\n",
              "  }\n",
              "\n",
              "  .colab-df-quickchart-complete:disabled,\n",
              "  .colab-df-quickchart-complete:disabled:hover {\n",
              "    background-color: var(--disabled-bg-color);\n",
              "    fill: var(--disabled-fill-color);\n",
              "    box-shadow: none;\n",
              "  }\n",
              "\n",
              "  .colab-df-spinner {\n",
              "    border: 2px solid var(--fill-color);\n",
              "    border-color: transparent;\n",
              "    border-bottom-color: var(--fill-color);\n",
              "    animation:\n",
              "      spin 1s steps(1) infinite;\n",
              "  }\n",
              "\n",
              "  @keyframes spin {\n",
              "    0% {\n",
              "      border-color: transparent;\n",
              "      border-bottom-color: var(--fill-color);\n",
              "      border-left-color: var(--fill-color);\n",
              "    }\n",
              "    20% {\n",
              "      border-color: transparent;\n",
              "      border-left-color: var(--fill-color);\n",
              "      border-top-color: var(--fill-color);\n",
              "    }\n",
              "    30% {\n",
              "      border-color: transparent;\n",
              "      border-left-color: var(--fill-color);\n",
              "      border-top-color: var(--fill-color);\n",
              "      border-right-color: var(--fill-color);\n",
              "    }\n",
              "    40% {\n",
              "      border-color: transparent;\n",
              "      border-right-color: var(--fill-color);\n",
              "      border-top-color: var(--fill-color);\n",
              "    }\n",
              "    60% {\n",
              "      border-color: transparent;\n",
              "      border-right-color: var(--fill-color);\n",
              "    }\n",
              "    80% {\n",
              "      border-color: transparent;\n",
              "      border-right-color: var(--fill-color);\n",
              "      border-bottom-color: var(--fill-color);\n",
              "    }\n",
              "    90% {\n",
              "      border-color: transparent;\n",
              "      border-bottom-color: var(--fill-color);\n",
              "    }\n",
              "  }\n",
              "</style>\n",
              "\n",
              "  <script>\n",
              "    async function quickchart(key) {\n",
              "      const quickchartButtonEl =\n",
              "        document.querySelector('#' + key + ' button');\n",
              "      quickchartButtonEl.disabled = true;  // To prevent multiple clicks.\n",
              "      quickchartButtonEl.classList.add('colab-df-spinner');\n",
              "      try {\n",
              "        const charts = await google.colab.kernel.invokeFunction(\n",
              "            'suggestCharts', [key], {});\n",
              "      } catch (error) {\n",
              "        console.error('Error during call to suggestCharts:', error);\n",
              "      }\n",
              "      quickchartButtonEl.classList.remove('colab-df-spinner');\n",
              "      quickchartButtonEl.classList.add('colab-df-quickchart-complete');\n",
              "    }\n",
              "    (() => {\n",
              "      let quickchartButtonEl =\n",
              "        document.querySelector('#df-2892930a-5de9-4725-91bf-161af7b1d090 button');\n",
              "      quickchartButtonEl.style.display =\n",
              "        google.colab.kernel.accessAllowed ? 'block' : 'none';\n",
              "    })();\n",
              "  </script>\n",
              "</div>\n",
              "\n",
              "    </div>\n",
              "  </div>\n"
            ],
            "application/vnd.google.colaboratory.intrinsic+json": {
              "type": "dataframe",
              "variable_name": "df_final",
              "summary": "{\n  \"name\": \"df_final\",\n  \"rows\": 8816,\n  \"fields\": [\n    {\n      \"column\": \"Oraci\\u00f3n\",\n      \"properties\": {\n        \"dtype\": \"category\",\n        \"num_unique_values\": 3549,\n        \"samples\": [\n          \" Pero las mujeres que provienen de la separaci\\u00f3n de las mujeres primitivas no prestan gran atenci\\u00f3n a los hombres y m\\u00e1s bien se interesan por las mujeres; a esta especie pertenecen las tribadas\",\n          \" En esa inversi\\u00f3n de los valores (de la que forma parte el emplear la palabra \\\"pobre\\\" como sin\\u00f3nimo de \\\"santo\\\" y \\\"amigo\\\") reside la importancia del pueblo jud\\u00edo: con \\u00e9l comienza la rebeli\\u00f3n de los esclavos en la mo ral\",\n          \"- \\u00a1Qu\\u00e9 tortura son los libros escritos en alem\\u00e1n para el hombre que dispone de un tercer o\\u00eddo! \\u00a1Con qu\\u00e9 repugnancia se detiene ese hombre junto a ese pantano, que lentamente va d\\u00e1ndose la vuelta, de acordes carentes de armon\\u00eda, de ritmos sin baile, que entre alemanes se llama un\"\n        ],\n        \"semantic_type\": \"\",\n        \"description\": \"\"\n      }\n    },\n    {\n      \"column\": \"Fuente\",\n      \"properties\": {\n        \"dtype\": \"category\",\n        \"num_unique_values\": 6,\n        \"samples\": [\n          \"Platon_-_El_Banquete.txt\",\n          \"Sun_Tzu_-_El_Arte_de_la_Guerra.txt.1\",\n          \"Friedrich_Nietzsche_-_Mas_Alla_del_Bien_y_del_Mal.txt\"\n        ],\n        \"semantic_type\": \"\",\n        \"description\": \"\"\n      }\n    }\n  ]\n}"
            }
          },
          "metadata": {},
          "execution_count": 7
        }
      ]
    },
    {
      "cell_type": "markdown",
      "source": [
        "Elimino documentos con menos de tres palabras."
      ],
      "metadata": {
        "id": "3yeyaAjf0GuC"
      }
    },
    {
      "cell_type": "code",
      "source": [
        "df_final = df_final[df_final[\"Oración\"].str.split().str.len() >= 3]\n",
        "df_final = df_final.reset_index(drop=True)\n",
        "df_final.head()"
      ],
      "metadata": {
        "id": "4U4FYsOumWpl",
        "colab": {
          "base_uri": "https://localhost:8080/",
          "height": 206
        },
        "outputId": "f7913ec5-8182-4cf7-d7f9-e18edfc30f8f"
      },
      "execution_count": 8,
      "outputs": [
        {
          "output_type": "execute_result",
          "data": {
            "text/plain": [
              "                                             Oración                    Fuente\n",
              "0  - Creo que estoy bastante bien preparado para ...  Platon_-_El_Banquete.txt\n",
              "1       Apolodoros, me dijo, te buscaba precisamente  Platon_-_El_Banquete.txt\n",
              "2   Quería preguntarte lo que pasó en la casa de ...  Platon_-_El_Banquete.txt\n",
              "3   Se dice que toda la conversación versó sobre ...  Platon_-_El_Banquete.txt\n",
              "4   Algo de ello he sabido por un hombre al que P...  Platon_-_El_Banquete.txt"
            ],
            "text/html": [
              "\n",
              "  <div id=\"df-d9c98db1-7345-4199-8b7d-d6bc3ec8027f\" class=\"colab-df-container\">\n",
              "    <div>\n",
              "<style scoped>\n",
              "    .dataframe tbody tr th:only-of-type {\n",
              "        vertical-align: middle;\n",
              "    }\n",
              "\n",
              "    .dataframe tbody tr th {\n",
              "        vertical-align: top;\n",
              "    }\n",
              "\n",
              "    .dataframe thead th {\n",
              "        text-align: right;\n",
              "    }\n",
              "</style>\n",
              "<table border=\"1\" class=\"dataframe\">\n",
              "  <thead>\n",
              "    <tr style=\"text-align: right;\">\n",
              "      <th></th>\n",
              "      <th>Oración</th>\n",
              "      <th>Fuente</th>\n",
              "    </tr>\n",
              "  </thead>\n",
              "  <tbody>\n",
              "    <tr>\n",
              "      <th>0</th>\n",
              "      <td>- Creo que estoy bastante bien preparado para ...</td>\n",
              "      <td>Platon_-_El_Banquete.txt</td>\n",
              "    </tr>\n",
              "    <tr>\n",
              "      <th>1</th>\n",
              "      <td>Apolodoros, me dijo, te buscaba precisamente</td>\n",
              "      <td>Platon_-_El_Banquete.txt</td>\n",
              "    </tr>\n",
              "    <tr>\n",
              "      <th>2</th>\n",
              "      <td>Quería preguntarte lo que pasó en la casa de ...</td>\n",
              "      <td>Platon_-_El_Banquete.txt</td>\n",
              "    </tr>\n",
              "    <tr>\n",
              "      <th>3</th>\n",
              "      <td>Se dice que toda la conversación versó sobre ...</td>\n",
              "      <td>Platon_-_El_Banquete.txt</td>\n",
              "    </tr>\n",
              "    <tr>\n",
              "      <th>4</th>\n",
              "      <td>Algo de ello he sabido por un hombre al que P...</td>\n",
              "      <td>Platon_-_El_Banquete.txt</td>\n",
              "    </tr>\n",
              "  </tbody>\n",
              "</table>\n",
              "</div>\n",
              "    <div class=\"colab-df-buttons\">\n",
              "\n",
              "  <div class=\"colab-df-container\">\n",
              "    <button class=\"colab-df-convert\" onclick=\"convertToInteractive('df-d9c98db1-7345-4199-8b7d-d6bc3ec8027f')\"\n",
              "            title=\"Convert this dataframe to an interactive table.\"\n",
              "            style=\"display:none;\">\n",
              "\n",
              "  <svg xmlns=\"http://www.w3.org/2000/svg\" height=\"24px\" viewBox=\"0 -960 960 960\">\n",
              "    <path d=\"M120-120v-720h720v720H120Zm60-500h600v-160H180v160Zm220 220h160v-160H400v160Zm0 220h160v-160H400v160ZM180-400h160v-160H180v160Zm440 0h160v-160H620v160ZM180-180h160v-160H180v160Zm440 0h160v-160H620v160Z\"/>\n",
              "  </svg>\n",
              "    </button>\n",
              "\n",
              "  <style>\n",
              "    .colab-df-container {\n",
              "      display:flex;\n",
              "      gap: 12px;\n",
              "    }\n",
              "\n",
              "    .colab-df-convert {\n",
              "      background-color: #E8F0FE;\n",
              "      border: none;\n",
              "      border-radius: 50%;\n",
              "      cursor: pointer;\n",
              "      display: none;\n",
              "      fill: #1967D2;\n",
              "      height: 32px;\n",
              "      padding: 0 0 0 0;\n",
              "      width: 32px;\n",
              "    }\n",
              "\n",
              "    .colab-df-convert:hover {\n",
              "      background-color: #E2EBFA;\n",
              "      box-shadow: 0px 1px 2px rgba(60, 64, 67, 0.3), 0px 1px 3px 1px rgba(60, 64, 67, 0.15);\n",
              "      fill: #174EA6;\n",
              "    }\n",
              "\n",
              "    .colab-df-buttons div {\n",
              "      margin-bottom: 4px;\n",
              "    }\n",
              "\n",
              "    [theme=dark] .colab-df-convert {\n",
              "      background-color: #3B4455;\n",
              "      fill: #D2E3FC;\n",
              "    }\n",
              "\n",
              "    [theme=dark] .colab-df-convert:hover {\n",
              "      background-color: #434B5C;\n",
              "      box-shadow: 0px 1px 3px 1px rgba(0, 0, 0, 0.15);\n",
              "      filter: drop-shadow(0px 1px 2px rgba(0, 0, 0, 0.3));\n",
              "      fill: #FFFFFF;\n",
              "    }\n",
              "  </style>\n",
              "\n",
              "    <script>\n",
              "      const buttonEl =\n",
              "        document.querySelector('#df-d9c98db1-7345-4199-8b7d-d6bc3ec8027f button.colab-df-convert');\n",
              "      buttonEl.style.display =\n",
              "        google.colab.kernel.accessAllowed ? 'block' : 'none';\n",
              "\n",
              "      async function convertToInteractive(key) {\n",
              "        const element = document.querySelector('#df-d9c98db1-7345-4199-8b7d-d6bc3ec8027f');\n",
              "        const dataTable =\n",
              "          await google.colab.kernel.invokeFunction('convertToInteractive',\n",
              "                                                    [key], {});\n",
              "        if (!dataTable) return;\n",
              "\n",
              "        const docLinkHtml = 'Like what you see? Visit the ' +\n",
              "          '<a target=\"_blank\" href=https://colab.research.google.com/notebooks/data_table.ipynb>data table notebook</a>'\n",
              "          + ' to learn more about interactive tables.';\n",
              "        element.innerHTML = '';\n",
              "        dataTable['output_type'] = 'display_data';\n",
              "        await google.colab.output.renderOutput(dataTable, element);\n",
              "        const docLink = document.createElement('div');\n",
              "        docLink.innerHTML = docLinkHtml;\n",
              "        element.appendChild(docLink);\n",
              "      }\n",
              "    </script>\n",
              "  </div>\n",
              "\n",
              "\n",
              "<div id=\"df-8eccd03b-86f8-49b7-be67-4576ddf114ff\">\n",
              "  <button class=\"colab-df-quickchart\" onclick=\"quickchart('df-8eccd03b-86f8-49b7-be67-4576ddf114ff')\"\n",
              "            title=\"Suggest charts\"\n",
              "            style=\"display:none;\">\n",
              "\n",
              "<svg xmlns=\"http://www.w3.org/2000/svg\" height=\"24px\"viewBox=\"0 0 24 24\"\n",
              "     width=\"24px\">\n",
              "    <g>\n",
              "        <path d=\"M19 3H5c-1.1 0-2 .9-2 2v14c0 1.1.9 2 2 2h14c1.1 0 2-.9 2-2V5c0-1.1-.9-2-2-2zM9 17H7v-7h2v7zm4 0h-2V7h2v10zm4 0h-2v-4h2v4z\"/>\n",
              "    </g>\n",
              "</svg>\n",
              "  </button>\n",
              "\n",
              "<style>\n",
              "  .colab-df-quickchart {\n",
              "      --bg-color: #E8F0FE;\n",
              "      --fill-color: #1967D2;\n",
              "      --hover-bg-color: #E2EBFA;\n",
              "      --hover-fill-color: #174EA6;\n",
              "      --disabled-fill-color: #AAA;\n",
              "      --disabled-bg-color: #DDD;\n",
              "  }\n",
              "\n",
              "  [theme=dark] .colab-df-quickchart {\n",
              "      --bg-color: #3B4455;\n",
              "      --fill-color: #D2E3FC;\n",
              "      --hover-bg-color: #434B5C;\n",
              "      --hover-fill-color: #FFFFFF;\n",
              "      --disabled-bg-color: #3B4455;\n",
              "      --disabled-fill-color: #666;\n",
              "  }\n",
              "\n",
              "  .colab-df-quickchart {\n",
              "    background-color: var(--bg-color);\n",
              "    border: none;\n",
              "    border-radius: 50%;\n",
              "    cursor: pointer;\n",
              "    display: none;\n",
              "    fill: var(--fill-color);\n",
              "    height: 32px;\n",
              "    padding: 0;\n",
              "    width: 32px;\n",
              "  }\n",
              "\n",
              "  .colab-df-quickchart:hover {\n",
              "    background-color: var(--hover-bg-color);\n",
              "    box-shadow: 0 1px 2px rgba(60, 64, 67, 0.3), 0 1px 3px 1px rgba(60, 64, 67, 0.15);\n",
              "    fill: var(--button-hover-fill-color);\n",
              "  }\n",
              "\n",
              "  .colab-df-quickchart-complete:disabled,\n",
              "  .colab-df-quickchart-complete:disabled:hover {\n",
              "    background-color: var(--disabled-bg-color);\n",
              "    fill: var(--disabled-fill-color);\n",
              "    box-shadow: none;\n",
              "  }\n",
              "\n",
              "  .colab-df-spinner {\n",
              "    border: 2px solid var(--fill-color);\n",
              "    border-color: transparent;\n",
              "    border-bottom-color: var(--fill-color);\n",
              "    animation:\n",
              "      spin 1s steps(1) infinite;\n",
              "  }\n",
              "\n",
              "  @keyframes spin {\n",
              "    0% {\n",
              "      border-color: transparent;\n",
              "      border-bottom-color: var(--fill-color);\n",
              "      border-left-color: var(--fill-color);\n",
              "    }\n",
              "    20% {\n",
              "      border-color: transparent;\n",
              "      border-left-color: var(--fill-color);\n",
              "      border-top-color: var(--fill-color);\n",
              "    }\n",
              "    30% {\n",
              "      border-color: transparent;\n",
              "      border-left-color: var(--fill-color);\n",
              "      border-top-color: var(--fill-color);\n",
              "      border-right-color: var(--fill-color);\n",
              "    }\n",
              "    40% {\n",
              "      border-color: transparent;\n",
              "      border-right-color: var(--fill-color);\n",
              "      border-top-color: var(--fill-color);\n",
              "    }\n",
              "    60% {\n",
              "      border-color: transparent;\n",
              "      border-right-color: var(--fill-color);\n",
              "    }\n",
              "    80% {\n",
              "      border-color: transparent;\n",
              "      border-right-color: var(--fill-color);\n",
              "      border-bottom-color: var(--fill-color);\n",
              "    }\n",
              "    90% {\n",
              "      border-color: transparent;\n",
              "      border-bottom-color: var(--fill-color);\n",
              "    }\n",
              "  }\n",
              "</style>\n",
              "\n",
              "  <script>\n",
              "    async function quickchart(key) {\n",
              "      const quickchartButtonEl =\n",
              "        document.querySelector('#' + key + ' button');\n",
              "      quickchartButtonEl.disabled = true;  // To prevent multiple clicks.\n",
              "      quickchartButtonEl.classList.add('colab-df-spinner');\n",
              "      try {\n",
              "        const charts = await google.colab.kernel.invokeFunction(\n",
              "            'suggestCharts', [key], {});\n",
              "      } catch (error) {\n",
              "        console.error('Error during call to suggestCharts:', error);\n",
              "      }\n",
              "      quickchartButtonEl.classList.remove('colab-df-spinner');\n",
              "      quickchartButtonEl.classList.add('colab-df-quickchart-complete');\n",
              "    }\n",
              "    (() => {\n",
              "      let quickchartButtonEl =\n",
              "        document.querySelector('#df-8eccd03b-86f8-49b7-be67-4576ddf114ff button');\n",
              "      quickchartButtonEl.style.display =\n",
              "        google.colab.kernel.accessAllowed ? 'block' : 'none';\n",
              "    })();\n",
              "  </script>\n",
              "</div>\n",
              "\n",
              "    </div>\n",
              "  </div>\n"
            ],
            "application/vnd.google.colaboratory.intrinsic+json": {
              "type": "dataframe",
              "variable_name": "df_final",
              "summary": "{\n  \"name\": \"df_final\",\n  \"rows\": 6346,\n  \"fields\": [\n    {\n      \"column\": \"Oraci\\u00f3n\",\n      \"properties\": {\n        \"dtype\": \"category\",\n        \"num_unique_values\": 3169,\n        \"samples\": [\n          \" -Tienes raz\\u00f3n, Eryximacos, respondi\\u00f3 Arist\\u00f3fanes sonriendo\",\n          \"1 Este trabajo afect\\u00f3 profundamente a generaciones posteriores de\",\n          \" Batallar contra un gran n\\u00famero de tropas como si fueran pocas es una cuesti\\u00f3n de demostrar la fuerza, s\\u00edmbolos y se\\u00f1ales\"\n        ],\n        \"semantic_type\": \"\",\n        \"description\": \"\"\n      }\n    },\n    {\n      \"column\": \"Fuente\",\n      \"properties\": {\n        \"dtype\": \"category\",\n        \"num_unique_values\": 6,\n        \"samples\": [\n          \"Platon_-_El_Banquete.txt\",\n          \"Sun_Tzu_-_El_Arte_de_la_Guerra.txt.1\",\n          \"Friedrich_Nietzsche_-_Mas_Alla_del_Bien_y_del_Mal.txt\"\n        ],\n        \"semantic_type\": \"\",\n        \"description\": \"\"\n      }\n    }\n  ]\n}"
            }
          },
          "metadata": {},
          "execution_count": 8
        }
      ]
    },
    {
      "cell_type": "code",
      "execution_count": 9,
      "metadata": {
        "id": "LEpKubK9XzXN",
        "colab": {
          "base_uri": "https://localhost:8080/"
        },
        "outputId": "575ef2cb-58c7-4a04-f346-9737003f6774"
      },
      "outputs": [
        {
          "output_type": "stream",
          "name": "stdout",
          "text": [
            "Cantidad de documentos: 6346\n"
          ]
        }
      ],
      "source": [
        "print(\"Cantidad de documentos:\", df_final.shape[0])"
      ]
    },
    {
      "cell_type": "code",
      "source": [
        "df_final"
      ],
      "metadata": {
        "colab": {
          "base_uri": "https://localhost:8080/",
          "height": 424
        },
        "id": "c_5ULLXcuvXW",
        "outputId": "d1ea0c32-cc52-4d7c-e856-d93a33abd996"
      },
      "execution_count": 10,
      "outputs": [
        {
          "output_type": "execute_result",
          "data": {
            "text/plain": [
              "                                                Oración  \\\n",
              "0     - Creo que estoy bastante bien preparado para ...   \n",
              "1          Apolodoros, me dijo, te buscaba precisamente   \n",
              "2      Quería preguntarte lo que pasó en la casa de ...   \n",
              "3      Se dice que toda la conversación versó sobre ...   \n",
              "4      Algo de ello he sabido por un hombre al que P...   \n",
              "...                                                 ...   \n",
              "6341  Meditó sobre las consecuencias del triunfo del...   \n",
              "6342  Si bien hay quienes sostienen que la caracterí...   \n",
              "6343  Nietzsche recibió amplio reconocimiento durant...   \n",
              "6344   Su influencia fue particularmente notoria en ...   \n",
              "6345   Es considerado uno de los tres \"maestros de l...   \n",
              "\n",
              "                                                 Fuente  \n",
              "0                              Platon_-_El_Banquete.txt  \n",
              "1                              Platon_-_El_Banquete.txt  \n",
              "2                              Platon_-_El_Banquete.txt  \n",
              "3                              Platon_-_El_Banquete.txt  \n",
              "4                              Platon_-_El_Banquete.txt  \n",
              "...                                                 ...  \n",
              "6341  Friedrich_Nietzsche_-_Mas_Alla_del_Bien_y_del_...  \n",
              "6342  Friedrich_Nietzsche_-_Mas_Alla_del_Bien_y_del_...  \n",
              "6343  Friedrich_Nietzsche_-_Mas_Alla_del_Bien_y_del_...  \n",
              "6344  Friedrich_Nietzsche_-_Mas_Alla_del_Bien_y_del_...  \n",
              "6345  Friedrich_Nietzsche_-_Mas_Alla_del_Bien_y_del_...  \n",
              "\n",
              "[6346 rows x 2 columns]"
            ],
            "text/html": [
              "\n",
              "  <div id=\"df-c8a6f55e-21d3-4a53-bfa8-190b2022083d\" class=\"colab-df-container\">\n",
              "    <div>\n",
              "<style scoped>\n",
              "    .dataframe tbody tr th:only-of-type {\n",
              "        vertical-align: middle;\n",
              "    }\n",
              "\n",
              "    .dataframe tbody tr th {\n",
              "        vertical-align: top;\n",
              "    }\n",
              "\n",
              "    .dataframe thead th {\n",
              "        text-align: right;\n",
              "    }\n",
              "</style>\n",
              "<table border=\"1\" class=\"dataframe\">\n",
              "  <thead>\n",
              "    <tr style=\"text-align: right;\">\n",
              "      <th></th>\n",
              "      <th>Oración</th>\n",
              "      <th>Fuente</th>\n",
              "    </tr>\n",
              "  </thead>\n",
              "  <tbody>\n",
              "    <tr>\n",
              "      <th>0</th>\n",
              "      <td>- Creo que estoy bastante bien preparado para ...</td>\n",
              "      <td>Platon_-_El_Banquete.txt</td>\n",
              "    </tr>\n",
              "    <tr>\n",
              "      <th>1</th>\n",
              "      <td>Apolodoros, me dijo, te buscaba precisamente</td>\n",
              "      <td>Platon_-_El_Banquete.txt</td>\n",
              "    </tr>\n",
              "    <tr>\n",
              "      <th>2</th>\n",
              "      <td>Quería preguntarte lo que pasó en la casa de ...</td>\n",
              "      <td>Platon_-_El_Banquete.txt</td>\n",
              "    </tr>\n",
              "    <tr>\n",
              "      <th>3</th>\n",
              "      <td>Se dice que toda la conversación versó sobre ...</td>\n",
              "      <td>Platon_-_El_Banquete.txt</td>\n",
              "    </tr>\n",
              "    <tr>\n",
              "      <th>4</th>\n",
              "      <td>Algo de ello he sabido por un hombre al que P...</td>\n",
              "      <td>Platon_-_El_Banquete.txt</td>\n",
              "    </tr>\n",
              "    <tr>\n",
              "      <th>...</th>\n",
              "      <td>...</td>\n",
              "      <td>...</td>\n",
              "    </tr>\n",
              "    <tr>\n",
              "      <th>6341</th>\n",
              "      <td>Meditó sobre las consecuencias del triunfo del...</td>\n",
              "      <td>Friedrich_Nietzsche_-_Mas_Alla_del_Bien_y_del_...</td>\n",
              "    </tr>\n",
              "    <tr>\n",
              "      <th>6342</th>\n",
              "      <td>Si bien hay quienes sostienen que la caracterí...</td>\n",
              "      <td>Friedrich_Nietzsche_-_Mas_Alla_del_Bien_y_del_...</td>\n",
              "    </tr>\n",
              "    <tr>\n",
              "      <th>6343</th>\n",
              "      <td>Nietzsche recibió amplio reconocimiento durant...</td>\n",
              "      <td>Friedrich_Nietzsche_-_Mas_Alla_del_Bien_y_del_...</td>\n",
              "    </tr>\n",
              "    <tr>\n",
              "      <th>6344</th>\n",
              "      <td>Su influencia fue particularmente notoria en ...</td>\n",
              "      <td>Friedrich_Nietzsche_-_Mas_Alla_del_Bien_y_del_...</td>\n",
              "    </tr>\n",
              "    <tr>\n",
              "      <th>6345</th>\n",
              "      <td>Es considerado uno de los tres \"maestros de l...</td>\n",
              "      <td>Friedrich_Nietzsche_-_Mas_Alla_del_Bien_y_del_...</td>\n",
              "    </tr>\n",
              "  </tbody>\n",
              "</table>\n",
              "<p>6346 rows × 2 columns</p>\n",
              "</div>\n",
              "    <div class=\"colab-df-buttons\">\n",
              "\n",
              "  <div class=\"colab-df-container\">\n",
              "    <button class=\"colab-df-convert\" onclick=\"convertToInteractive('df-c8a6f55e-21d3-4a53-bfa8-190b2022083d')\"\n",
              "            title=\"Convert this dataframe to an interactive table.\"\n",
              "            style=\"display:none;\">\n",
              "\n",
              "  <svg xmlns=\"http://www.w3.org/2000/svg\" height=\"24px\" viewBox=\"0 -960 960 960\">\n",
              "    <path d=\"M120-120v-720h720v720H120Zm60-500h600v-160H180v160Zm220 220h160v-160H400v160Zm0 220h160v-160H400v160ZM180-400h160v-160H180v160Zm440 0h160v-160H620v160ZM180-180h160v-160H180v160Zm440 0h160v-160H620v160Z\"/>\n",
              "  </svg>\n",
              "    </button>\n",
              "\n",
              "  <style>\n",
              "    .colab-df-container {\n",
              "      display:flex;\n",
              "      gap: 12px;\n",
              "    }\n",
              "\n",
              "    .colab-df-convert {\n",
              "      background-color: #E8F0FE;\n",
              "      border: none;\n",
              "      border-radius: 50%;\n",
              "      cursor: pointer;\n",
              "      display: none;\n",
              "      fill: #1967D2;\n",
              "      height: 32px;\n",
              "      padding: 0 0 0 0;\n",
              "      width: 32px;\n",
              "    }\n",
              "\n",
              "    .colab-df-convert:hover {\n",
              "      background-color: #E2EBFA;\n",
              "      box-shadow: 0px 1px 2px rgba(60, 64, 67, 0.3), 0px 1px 3px 1px rgba(60, 64, 67, 0.15);\n",
              "      fill: #174EA6;\n",
              "    }\n",
              "\n",
              "    .colab-df-buttons div {\n",
              "      margin-bottom: 4px;\n",
              "    }\n",
              "\n",
              "    [theme=dark] .colab-df-convert {\n",
              "      background-color: #3B4455;\n",
              "      fill: #D2E3FC;\n",
              "    }\n",
              "\n",
              "    [theme=dark] .colab-df-convert:hover {\n",
              "      background-color: #434B5C;\n",
              "      box-shadow: 0px 1px 3px 1px rgba(0, 0, 0, 0.15);\n",
              "      filter: drop-shadow(0px 1px 2px rgba(0, 0, 0, 0.3));\n",
              "      fill: #FFFFFF;\n",
              "    }\n",
              "  </style>\n",
              "\n",
              "    <script>\n",
              "      const buttonEl =\n",
              "        document.querySelector('#df-c8a6f55e-21d3-4a53-bfa8-190b2022083d button.colab-df-convert');\n",
              "      buttonEl.style.display =\n",
              "        google.colab.kernel.accessAllowed ? 'block' : 'none';\n",
              "\n",
              "      async function convertToInteractive(key) {\n",
              "        const element = document.querySelector('#df-c8a6f55e-21d3-4a53-bfa8-190b2022083d');\n",
              "        const dataTable =\n",
              "          await google.colab.kernel.invokeFunction('convertToInteractive',\n",
              "                                                    [key], {});\n",
              "        if (!dataTable) return;\n",
              "\n",
              "        const docLinkHtml = 'Like what you see? Visit the ' +\n",
              "          '<a target=\"_blank\" href=https://colab.research.google.com/notebooks/data_table.ipynb>data table notebook</a>'\n",
              "          + ' to learn more about interactive tables.';\n",
              "        element.innerHTML = '';\n",
              "        dataTable['output_type'] = 'display_data';\n",
              "        await google.colab.output.renderOutput(dataTable, element);\n",
              "        const docLink = document.createElement('div');\n",
              "        docLink.innerHTML = docLinkHtml;\n",
              "        element.appendChild(docLink);\n",
              "      }\n",
              "    </script>\n",
              "  </div>\n",
              "\n",
              "\n",
              "<div id=\"df-9db5f30b-b950-43b4-ae16-6c49a7b53e7c\">\n",
              "  <button class=\"colab-df-quickchart\" onclick=\"quickchart('df-9db5f30b-b950-43b4-ae16-6c49a7b53e7c')\"\n",
              "            title=\"Suggest charts\"\n",
              "            style=\"display:none;\">\n",
              "\n",
              "<svg xmlns=\"http://www.w3.org/2000/svg\" height=\"24px\"viewBox=\"0 0 24 24\"\n",
              "     width=\"24px\">\n",
              "    <g>\n",
              "        <path d=\"M19 3H5c-1.1 0-2 .9-2 2v14c0 1.1.9 2 2 2h14c1.1 0 2-.9 2-2V5c0-1.1-.9-2-2-2zM9 17H7v-7h2v7zm4 0h-2V7h2v10zm4 0h-2v-4h2v4z\"/>\n",
              "    </g>\n",
              "</svg>\n",
              "  </button>\n",
              "\n",
              "<style>\n",
              "  .colab-df-quickchart {\n",
              "      --bg-color: #E8F0FE;\n",
              "      --fill-color: #1967D2;\n",
              "      --hover-bg-color: #E2EBFA;\n",
              "      --hover-fill-color: #174EA6;\n",
              "      --disabled-fill-color: #AAA;\n",
              "      --disabled-bg-color: #DDD;\n",
              "  }\n",
              "\n",
              "  [theme=dark] .colab-df-quickchart {\n",
              "      --bg-color: #3B4455;\n",
              "      --fill-color: #D2E3FC;\n",
              "      --hover-bg-color: #434B5C;\n",
              "      --hover-fill-color: #FFFFFF;\n",
              "      --disabled-bg-color: #3B4455;\n",
              "      --disabled-fill-color: #666;\n",
              "  }\n",
              "\n",
              "  .colab-df-quickchart {\n",
              "    background-color: var(--bg-color);\n",
              "    border: none;\n",
              "    border-radius: 50%;\n",
              "    cursor: pointer;\n",
              "    display: none;\n",
              "    fill: var(--fill-color);\n",
              "    height: 32px;\n",
              "    padding: 0;\n",
              "    width: 32px;\n",
              "  }\n",
              "\n",
              "  .colab-df-quickchart:hover {\n",
              "    background-color: var(--hover-bg-color);\n",
              "    box-shadow: 0 1px 2px rgba(60, 64, 67, 0.3), 0 1px 3px 1px rgba(60, 64, 67, 0.15);\n",
              "    fill: var(--button-hover-fill-color);\n",
              "  }\n",
              "\n",
              "  .colab-df-quickchart-complete:disabled,\n",
              "  .colab-df-quickchart-complete:disabled:hover {\n",
              "    background-color: var(--disabled-bg-color);\n",
              "    fill: var(--disabled-fill-color);\n",
              "    box-shadow: none;\n",
              "  }\n",
              "\n",
              "  .colab-df-spinner {\n",
              "    border: 2px solid var(--fill-color);\n",
              "    border-color: transparent;\n",
              "    border-bottom-color: var(--fill-color);\n",
              "    animation:\n",
              "      spin 1s steps(1) infinite;\n",
              "  }\n",
              "\n",
              "  @keyframes spin {\n",
              "    0% {\n",
              "      border-color: transparent;\n",
              "      border-bottom-color: var(--fill-color);\n",
              "      border-left-color: var(--fill-color);\n",
              "    }\n",
              "    20% {\n",
              "      border-color: transparent;\n",
              "      border-left-color: var(--fill-color);\n",
              "      border-top-color: var(--fill-color);\n",
              "    }\n",
              "    30% {\n",
              "      border-color: transparent;\n",
              "      border-left-color: var(--fill-color);\n",
              "      border-top-color: var(--fill-color);\n",
              "      border-right-color: var(--fill-color);\n",
              "    }\n",
              "    40% {\n",
              "      border-color: transparent;\n",
              "      border-right-color: var(--fill-color);\n",
              "      border-top-color: var(--fill-color);\n",
              "    }\n",
              "    60% {\n",
              "      border-color: transparent;\n",
              "      border-right-color: var(--fill-color);\n",
              "    }\n",
              "    80% {\n",
              "      border-color: transparent;\n",
              "      border-right-color: var(--fill-color);\n",
              "      border-bottom-color: var(--fill-color);\n",
              "    }\n",
              "    90% {\n",
              "      border-color: transparent;\n",
              "      border-bottom-color: var(--fill-color);\n",
              "    }\n",
              "  }\n",
              "</style>\n",
              "\n",
              "  <script>\n",
              "    async function quickchart(key) {\n",
              "      const quickchartButtonEl =\n",
              "        document.querySelector('#' + key + ' button');\n",
              "      quickchartButtonEl.disabled = true;  // To prevent multiple clicks.\n",
              "      quickchartButtonEl.classList.add('colab-df-spinner');\n",
              "      try {\n",
              "        const charts = await google.colab.kernel.invokeFunction(\n",
              "            'suggestCharts', [key], {});\n",
              "      } catch (error) {\n",
              "        console.error('Error during call to suggestCharts:', error);\n",
              "      }\n",
              "      quickchartButtonEl.classList.remove('colab-df-spinner');\n",
              "      quickchartButtonEl.classList.add('colab-df-quickchart-complete');\n",
              "    }\n",
              "    (() => {\n",
              "      let quickchartButtonEl =\n",
              "        document.querySelector('#df-9db5f30b-b950-43b4-ae16-6c49a7b53e7c button');\n",
              "      quickchartButtonEl.style.display =\n",
              "        google.colab.kernel.accessAllowed ? 'block' : 'none';\n",
              "    })();\n",
              "  </script>\n",
              "</div>\n",
              "\n",
              "  <div id=\"id_1044e89c-6a87-4e87-815e-135e81914b73\">\n",
              "    <style>\n",
              "      .colab-df-generate {\n",
              "        background-color: #E8F0FE;\n",
              "        border: none;\n",
              "        border-radius: 50%;\n",
              "        cursor: pointer;\n",
              "        display: none;\n",
              "        fill: #1967D2;\n",
              "        height: 32px;\n",
              "        padding: 0 0 0 0;\n",
              "        width: 32px;\n",
              "      }\n",
              "\n",
              "      .colab-df-generate:hover {\n",
              "        background-color: #E2EBFA;\n",
              "        box-shadow: 0px 1px 2px rgba(60, 64, 67, 0.3), 0px 1px 3px 1px rgba(60, 64, 67, 0.15);\n",
              "        fill: #174EA6;\n",
              "      }\n",
              "\n",
              "      [theme=dark] .colab-df-generate {\n",
              "        background-color: #3B4455;\n",
              "        fill: #D2E3FC;\n",
              "      }\n",
              "\n",
              "      [theme=dark] .colab-df-generate:hover {\n",
              "        background-color: #434B5C;\n",
              "        box-shadow: 0px 1px 3px 1px rgba(0, 0, 0, 0.15);\n",
              "        filter: drop-shadow(0px 1px 2px rgba(0, 0, 0, 0.3));\n",
              "        fill: #FFFFFF;\n",
              "      }\n",
              "    </style>\n",
              "    <button class=\"colab-df-generate\" onclick=\"generateWithVariable('df_final')\"\n",
              "            title=\"Generate code using this dataframe.\"\n",
              "            style=\"display:none;\">\n",
              "\n",
              "  <svg xmlns=\"http://www.w3.org/2000/svg\" height=\"24px\"viewBox=\"0 0 24 24\"\n",
              "       width=\"24px\">\n",
              "    <path d=\"M7,19H8.4L18.45,9,17,7.55,7,17.6ZM5,21V16.75L18.45,3.32a2,2,0,0,1,2.83,0l1.4,1.43a1.91,1.91,0,0,1,.58,1.4,1.91,1.91,0,0,1-.58,1.4L9.25,21ZM18.45,9,17,7.55Zm-12,3A5.31,5.31,0,0,0,4.9,8.1,5.31,5.31,0,0,0,1,6.5,5.31,5.31,0,0,0,4.9,4.9,5.31,5.31,0,0,0,6.5,1,5.31,5.31,0,0,0,8.1,4.9,5.31,5.31,0,0,0,12,6.5,5.46,5.46,0,0,0,6.5,12Z\"/>\n",
              "  </svg>\n",
              "    </button>\n",
              "    <script>\n",
              "      (() => {\n",
              "      const buttonEl =\n",
              "        document.querySelector('#id_1044e89c-6a87-4e87-815e-135e81914b73 button.colab-df-generate');\n",
              "      buttonEl.style.display =\n",
              "        google.colab.kernel.accessAllowed ? 'block' : 'none';\n",
              "\n",
              "      buttonEl.onclick = () => {\n",
              "        google.colab.notebook.generateWithVariable('df_final');\n",
              "      }\n",
              "      })();\n",
              "    </script>\n",
              "  </div>\n",
              "\n",
              "    </div>\n",
              "  </div>\n"
            ],
            "application/vnd.google.colaboratory.intrinsic+json": {
              "type": "dataframe",
              "variable_name": "df_final",
              "summary": "{\n  \"name\": \"df_final\",\n  \"rows\": 6346,\n  \"fields\": [\n    {\n      \"column\": \"Oraci\\u00f3n\",\n      \"properties\": {\n        \"dtype\": \"category\",\n        \"num_unique_values\": 3169,\n        \"samples\": [\n          \" -Tienes raz\\u00f3n, Eryximacos, respondi\\u00f3 Arist\\u00f3fanes sonriendo\",\n          \"1 Este trabajo afect\\u00f3 profundamente a generaciones posteriores de\",\n          \" Batallar contra un gran n\\u00famero de tropas como si fueran pocas es una cuesti\\u00f3n de demostrar la fuerza, s\\u00edmbolos y se\\u00f1ales\"\n        ],\n        \"semantic_type\": \"\",\n        \"description\": \"\"\n      }\n    },\n    {\n      \"column\": \"Fuente\",\n      \"properties\": {\n        \"dtype\": \"category\",\n        \"num_unique_values\": 6,\n        \"samples\": [\n          \"Platon_-_El_Banquete.txt\",\n          \"Sun_Tzu_-_El_Arte_de_la_Guerra.txt.1\",\n          \"Friedrich_Nietzsche_-_Mas_Alla_del_Bien_y_del_Mal.txt\"\n        ],\n        \"semantic_type\": \"\",\n        \"description\": \"\"\n      }\n    }\n  ]\n}"
            }
          },
          "metadata": {},
          "execution_count": 10
        }
      ]
    },
    {
      "cell_type": "markdown",
      "metadata": {
        "id": "ab94qaFlrA1G"
      },
      "source": [
        "### 1 - Preprocesamiento"
      ]
    },
    {
      "cell_type": "markdown",
      "source": [
        "Utilizo simple_preprocess de gensim ya que divide en palabras, eliminando signos de puntuación."
      ],
      "metadata": {
        "id": "AQYA_Ps30N7w"
      }
    },
    {
      "cell_type": "code",
      "execution_count": 11,
      "metadata": {
        "id": "rIsmMWmjrDHd",
        "colab": {
          "base_uri": "https://localhost:8080/"
        },
        "outputId": "c4d6ade7-2a6c-4c8a-ce1a-d5d627681cca"
      },
      "outputs": [
        {
          "output_type": "stream",
          "name": "stderr",
          "text": [
            "<ipython-input-11-2ca67eb3dc4a>:6: FutureWarning: Series.__getitem__ treating keys as positions is deprecated. In a future version, integer keys will always be treated as labels (consistent with DataFrame behavior). To access a value by position, use `ser.iloc[pos]`\n",
            "  sentence_tokens.append(simple_preprocess(row[0]))  # Uso simple_preprocess\n"
          ]
        }
      ],
      "source": [
        "from gensim.utils import simple_preprocess\n",
        "\n",
        "sentence_tokens = []\n",
        "\n",
        "for _, row in df_final.iterrows():\n",
        "    sentence_tokens.append(simple_preprocess(row[0]))  # Uso simple_preprocess"
      ]
    },
    {
      "cell_type": "code",
      "execution_count": 12,
      "metadata": {
        "id": "CHepi_DGrbhq",
        "colab": {
          "base_uri": "https://localhost:8080/"
        },
        "outputId": "d5a254d4-1519-4476-f9f1-57a75e7a3701"
      },
      "outputs": [
        {
          "output_type": "execute_result",
          "data": {
            "text/plain": [
              "[['creo',\n",
              "  'que',\n",
              "  'estoy',\n",
              "  'bastante',\n",
              "  'bien',\n",
              "  'preparado',\n",
              "  'para',\n",
              "  'narraros',\n",
              "  'lo',\n",
              "  'que',\n",
              "  'me',\n",
              "  'pedís',\n",
              "  'porque',\n",
              "  'últimamente',\n",
              "  'cuando',\n",
              "  'desde',\n",
              "  'mi',\n",
              "  'casa',\n",
              "  'de',\n",
              "  'faleron',\n",
              "  'regresaba',\n",
              "  'la',\n",
              "  'ciudad',\n",
              "  'me',\n",
              "  'vio',\n",
              "  'un',\n",
              "  'conocido',\n",
              "  'mío',\n",
              "  'que',\n",
              "  'iba',\n",
              "  'detrás',\n",
              "  'de',\n",
              "  'mí',\n",
              "  'me',\n",
              "  'llamó',\n",
              "  'desde',\n",
              "  'lejos',\n",
              "  'bromeando',\n",
              "  'hombre',\n",
              "  'de',\n",
              "  'faleron',\n",
              "  'apolodoros',\n",
              "  'no',\n",
              "  'puedes',\n",
              "  'acortar',\n",
              "  'el',\n",
              "  'paso',\n",
              "  'me',\n",
              "  'detuve',\n",
              "  'lo',\n",
              "  'esperé'],\n",
              " ['apolodoros', 'me', 'dijo', 'te', 'buscaba', 'precisamente'],\n",
              " ['quería',\n",
              "  'preguntarte',\n",
              "  'lo',\n",
              "  'que',\n",
              "  'pasó',\n",
              "  'en',\n",
              "  'la',\n",
              "  'casa',\n",
              "  'de',\n",
              "  'agatón',\n",
              "  'el',\n",
              "  'día',\n",
              "  'en',\n",
              "  'que',\n",
              "  'cenaron',\n",
              "  'allí',\n",
              "  'sócrates',\n",
              "  'alcibíades',\n",
              "  'algunos',\n",
              "  'otros'],\n",
              " ['se',\n",
              "  'dice',\n",
              "  'que',\n",
              "  'toda',\n",
              "  'la',\n",
              "  'conversación',\n",
              "  'versó',\n",
              "  'sobre',\n",
              "  'el',\n",
              "  'amor']]"
            ]
          },
          "metadata": {},
          "execution_count": 12
        }
      ],
      "source": [
        "# Demos un vistazo\n",
        "sentence_tokens[:4]"
      ]
    },
    {
      "cell_type": "markdown",
      "metadata": {
        "id": "BaXV6nlHr5Aa"
      },
      "source": [
        "### 2 - Crear los vectores (word2vec)"
      ]
    },
    {
      "cell_type": "code",
      "execution_count": 13,
      "metadata": {
        "id": "OSb0v7h8r7hK"
      },
      "outputs": [],
      "source": [
        "from gensim.models.callbacks import CallbackAny2Vec\n",
        "# Durante el entrenamiento gensim por defecto no informa el \"loss\" en cada época\n",
        "# Sobrecargamos el callback para poder tener esta información\n",
        "class callback(CallbackAny2Vec):\n",
        "    \"\"\"\n",
        "    Callback to print loss after each epoch\n",
        "    \"\"\"\n",
        "    def __init__(self):\n",
        "        self.epoch = 0\n",
        "\n",
        "    def on_epoch_end(self, model):\n",
        "        loss = model.get_latest_training_loss()\n",
        "        if self.epoch == 0:\n",
        "            print('Loss after epoch {}: {}'.format(self.epoch, loss))\n",
        "        else:\n",
        "            print('Loss after epoch {}: {}'.format(self.epoch, loss- self.loss_previous_step))\n",
        "        self.epoch += 1\n",
        "        self.loss_previous_step = loss"
      ]
    },
    {
      "cell_type": "markdown",
      "source": [
        "Utilizo embeddings de menor dimensionalidad al usado en clase."
      ],
      "metadata": {
        "id": "Q8fdiRwL0cnu"
      }
    },
    {
      "cell_type": "code",
      "execution_count": 14,
      "metadata": {
        "id": "i0wnDdv9sJ47"
      },
      "outputs": [],
      "source": [
        "# Crearmos el modelo generador de vectores\n",
        "# En este caso utilizaremos la estructura modelo Skipgram\n",
        "w2v_model = Word2Vec(min_count=5,    # frecuencia mínima de palabra para incluirla en el vocabulario\n",
        "                     window=2,       # cant de palabras antes y desp de la predicha\n",
        "                     vector_size=200,       # dimensionalidad de los vectores\n",
        "                     negative=20,    # cantidad de negative samples... 0 es no se usa\n",
        "                     workers=1,      # si tienen más cores pueden cambiar este valor\n",
        "                     sg=1)           # modelo 0:CBOW  1:skipgram"
      ]
    },
    {
      "cell_type": "code",
      "execution_count": 15,
      "metadata": {
        "id": "5lTt8wErsf17"
      },
      "outputs": [],
      "source": [
        "# Obtener el vocabulario con los tokens\n",
        "w2v_model.build_vocab(sentence_tokens)"
      ]
    },
    {
      "cell_type": "code",
      "execution_count": 16,
      "metadata": {
        "id": "TNc9qt4os5AT",
        "colab": {
          "base_uri": "https://localhost:8080/"
        },
        "outputId": "055ad101-1a13-4cec-f21c-01de361a7bc8"
      },
      "outputs": [
        {
          "output_type": "stream",
          "name": "stdout",
          "text": [
            "Cantidad de docs en el corpus: 6346\n"
          ]
        }
      ],
      "source": [
        "# Cantidad de filas/docs encontradas en el corpus\n",
        "print(\"Cantidad de docs en el corpus:\", w2v_model.corpus_count)"
      ]
    },
    {
      "cell_type": "code",
      "execution_count": 17,
      "metadata": {
        "id": "idw9cHF3tSMl",
        "colab": {
          "base_uri": "https://localhost:8080/"
        },
        "outputId": "c09a6f7d-ffa8-4e06-94b1-353b50f74167"
      },
      "outputs": [
        {
          "output_type": "stream",
          "name": "stdout",
          "text": [
            "Cantidad de words distintas en el corpus: 3703\n"
          ]
        }
      ],
      "source": [
        "# Cantidad de words encontradas en el corpus\n",
        "print(\"Cantidad de words distintas en el corpus:\", len(w2v_model.wv.index_to_key))"
      ]
    },
    {
      "cell_type": "markdown",
      "metadata": {
        "id": "fC9mZ8DPk-UC"
      },
      "source": [
        "### 3 - Entrenar embeddings"
      ]
    },
    {
      "cell_type": "markdown",
      "source": [
        "Incremento el número de epochs."
      ],
      "metadata": {
        "id": "eQ5FzzSH0nWb"
      }
    },
    {
      "cell_type": "code",
      "execution_count": 18,
      "metadata": {
        "id": "QSp-x0PAsq56",
        "colab": {
          "base_uri": "https://localhost:8080/"
        },
        "outputId": "77103a34-9f98-4c77-c83b-874715c4c3ff"
      },
      "outputs": [
        {
          "output_type": "stream",
          "name": "stdout",
          "text": [
            "Loss after epoch 0: 1597494.375\n",
            "Loss after epoch 1: 1107939.125\n",
            "Loss after epoch 2: 1037836.25\n",
            "Loss after epoch 3: 985473.75\n",
            "Loss after epoch 4: 938985.5\n",
            "Loss after epoch 5: 917471.0\n",
            "Loss after epoch 6: 894486.0\n",
            "Loss after epoch 7: 865029.0\n",
            "Loss after epoch 8: 803920.0\n",
            "Loss after epoch 9: 782086.0\n",
            "Loss after epoch 10: 762691.0\n",
            "Loss after epoch 11: 746112.0\n",
            "Loss after epoch 12: 730872.0\n",
            "Loss after epoch 13: 715734.0\n",
            "Loss after epoch 14: 704720.0\n",
            "Loss after epoch 15: 691430.0\n",
            "Loss after epoch 16: 684699.0\n",
            "Loss after epoch 17: 675274.0\n",
            "Loss after epoch 18: 667047.0\n",
            "Loss after epoch 19: 638200.0\n",
            "Loss after epoch 20: 581042.0\n",
            "Loss after epoch 21: 577666.0\n",
            "Loss after epoch 22: 570876.0\n",
            "Loss after epoch 23: 570574.0\n",
            "Loss after epoch 24: 564272.0\n",
            "Loss after epoch 25: 564028.0\n",
            "Loss after epoch 26: 559672.0\n",
            "Loss after epoch 27: 553868.0\n",
            "Loss after epoch 28: 552238.0\n",
            "Loss after epoch 29: 548410.0\n",
            "Loss after epoch 30: 548520.0\n",
            "Loss after epoch 31: 545932.0\n",
            "Loss after epoch 32: 540708.0\n",
            "Loss after epoch 33: 542212.0\n",
            "Loss after epoch 34: 537130.0\n",
            "Loss after epoch 35: 535164.0\n",
            "Loss after epoch 36: 534474.0\n",
            "Loss after epoch 37: 529364.0\n",
            "Loss after epoch 38: 529692.0\n",
            "Loss after epoch 39: 528324.0\n",
            "Loss after epoch 40: 523386.0\n",
            "Loss after epoch 41: 524992.0\n",
            "Loss after epoch 42: 523776.0\n",
            "Loss after epoch 43: 522242.0\n",
            "Loss after epoch 44: 519808.0\n",
            "Loss after epoch 45: 518304.0\n",
            "Loss after epoch 46: 518912.0\n",
            "Loss after epoch 47: 519070.0\n",
            "Loss after epoch 48: 516716.0\n",
            "Loss after epoch 49: 513206.0\n"
          ]
        },
        {
          "output_type": "execute_result",
          "data": {
            "text/plain": [
              "(6186545, 9959800)"
            ]
          },
          "metadata": {},
          "execution_count": 18
        }
      ],
      "source": [
        "# Entrenamos el modelo generador de vectores\n",
        "# Utilizamos nuestro callback\n",
        "w2v_model.train(sentence_tokens,\n",
        "                 total_examples=w2v_model.corpus_count,\n",
        "                 epochs=50,\n",
        "                 compute_loss = True,\n",
        "                 callbacks=[callback()]\n",
        "                 )"
      ]
    },
    {
      "cell_type": "markdown",
      "metadata": {
        "id": "ddT9NVuNlCAe"
      },
      "source": [
        "### 4 - Ensayar"
      ]
    },
    {
      "cell_type": "code",
      "source": [
        "vocabulario = list(w2v_model.wv.key_to_index.keys())\n",
        "print(vocabulario)"
      ],
      "metadata": {
        "colab": {
          "base_uri": "https://localhost:8080/"
        },
        "id": "Z1_qe2V2lQsf",
        "outputId": "40a85041-7436-4007-a6a4-731de92c1af8"
      },
      "execution_count": 19,
      "outputs": [
        {
          "output_type": "stream",
          "name": "stdout",
          "text": [
            "['de', 'que', 'la', 'en', 'el', 'los', 'no', 'es', 'se', 'un', 'una', 'lo', 'más', 'por', 'su', 'las', 'con', 'del', 'como', 'para', 'al', 'si', 'todo', 'ha', 'cuando', 'sus', 'pero', 'ser', 'hombre', 'son', 'sí', 'mismo', 'también', 'amor', 'qué', 'le', 'esto', 'sobre', 'me', 'hasta', 'nosotros', 'sin', 'todos', 'hombres', 'hay', 'bien', 'él', 'ya', 'entre', 'porque', 'ni', 'así', 'tiene', 'ellos', 'vez', 'ese', 'toda', 'algo', 'sólo', 'cosas', 'ahora', 'cual', 'tan', 'este', 'yo', 'nos', 'manera', 'está', 'pues', 'modo', 'incluso', 'siempre', 'voluntad', 'puede', 'moral', 'decir', 'esa', 'sócrates', 'muy', 'contra', 'vida', 'tal', 'sea', 'otro', 'hoy', 'desde', 'espíritu', 'mundo', 'tiempo', 'nada', 'todas', 'fuerza', 'especie', 'tanto', 'ella', 'sino', 'alma', 'hecho', 'todavía', 'esta', 'han', 'parte', 'cosa', 'dios', 'mi', 'te', 'aquí', 'quien', 'uno', 'hacer', 'mejor', 'verdad', 'les', 'mujer', 'hace', 'enemigo', 'misma', 'hacia', 'sido', 'gran', 'otros', 'nuestra', 'terreno', 'acaso', 'eso', 'tener', 'quiere', 'gusto', 'aquel', 'están', 'era', 'naturaleza', 'cómo', 'ello', 'después', 'donde', 'tienen', 'tu', 'forma', 'arte', 'otra', 'ante', 'poder', 'dos', 'filosofía', 'general', 'saber', 'mucho', 'casi', 'parece', 'europa', 'agatón', 'mismos', 'ejemplo', 'haya', 'menos', 'efecto', 'tus', 'he', 'soldados', 'precisamente', 'cada', 'nuestro', 'tropas', 'mí', 'filósofos', 'veces', 'antes', 'sentido', 'lugar', 'entonces', 'cuales', 'haber', 'dioses', 'vosotros', 'fue', 'fin', 'conciencia', 'tales', 'poco', 'filósofo', 'demasiado', 'aunque', 'causa', 'valor', 'bajo', 'victoria', 'debe', 'dicho', 'ejército', 'dijo', 'razón', 'posible', 'compasión', 'caso', 'según', 'justo', 'aquella', 'pueblo', 'instinto', 'alguna', 'nuevo', 'bastante', 'éste', 'dice', 'lícito', 'bello', 'aún', 'nuestros', 'esos', 'pensar', 'bueno', 'quién', 'fuerte', 'corazón', 'virtud', 'necesidad', 'hablar', 'palabras', 'mientras', 'palabra', 'alemán', 'nadie', 'pueden', 'os', 'ninguna', 'ti', 'mal', 'ningún', 'ésta', 'cabalmente', 'punto', 'cuanto', 'embargo', 'frente', 'buena', 'medio', 'cuerpo', 'batalla', 'ojos', 'había', 'durante', 'música', 'peligro', 'suponiendo', 'ciencia', 'momento', 'hemos', 'otras', 'amigos', 'fe', 'tierra', 'sería', 'estas', 'podría', 'fuera', 'lejos', 'adversarios', 'belleza', 'sutil', 'puedes', 'resulta', 'día', 'sentimiento', 'fondo', 'lado', 'fuerzas', 'falta', 'propia', 'última', 'significa', 'tú', 'nunca', 'estado', 'estos', 'demás', 'ama', 'allí', 'morales', 'propio', 'grande', 'estar', 'medida', 'conocimiento', 'muchas', 'ver', 'alemana', 'alguien', 'grandes', 'primero', 'gente', 'sentidos', 'felicidad', 'instintos', 'conocer', 'mayor', 'allá', 'contrario', 'derecho', 'nombre', 'sabe', 'da', 'luego', 'además', 'aquello', 'consecuencia', 'unos', 'época', 'únicamente', 'acerca', 'dentro', 'enemigos', 'ellas', 'nuestras', 'espíritus', 'aquellos', 'quizá', 'necesario', 'llama', 'deseo', 'superior', 'oídos', 'orden', 'tampoco', 'virtudes', 'alemanes', 'mujeres', 'llegar', 'principio', 'guerra', 'mas', 'gracias', 'camino', 'hacen', 'varón', 'duda', 'libre', 'animal', 'va', 'aristocrática', 'decirlo', 'mediante', 'profundo', 'buen', 'difícil', 'acción', 'esas', 'militares', 'habría', 'eryximacos', 'cualquier', 'buenos', 'mis', 'has', 'somos', 'antiguo', 'cultura', 'joven', 'vuelve', 'suma', 'preciso', 'luz', 'historia', 'éstos', 'cuenta', 'dar', 'abajo', 'encuentra', 'seguridad', 'condiciones', 'tenemos', 'será', 'partes', 'pueda', 'sociedad', 'ése', 'ir', 'vivir', 'miedo', 'ideas', 'militar', 'ocurre', 'constituye', 'problema', 'quiero', 'cabeza', 'apariencia', 'algún', 'concepto', 'solo', 'amante', 'sean', 'cuál', 'primer', 'asimismo', 'muchos', 'órdenes', 'paso', 'aristocrático', 'nueva', 'lucha', 'hijo', 'igual', 'amar', 'quieren', 'dominio', 'quienes', 'opinión', 'cualquiera', 'adversario', 'seres', 'tipo', 'detrás', 'amigo', 'profundidad', 'existe', 'futuro', 'final', 'último', 'único', 'cierta', 'phaidros', 'puesto', 'leyes', 'fácil', 'mirada', 'siglo', 'menudo', 'generales', 'nuevos', 'libertad', 'casos', 'capaz', 'sabiduría', 'acuerdo', 'existen', 'fuertes', 'religión', 'mala', 'querido', 'amado', 'tomar', 'humano', 'sola', 'volver', 'siendo', 'propiamente', 'estoy', 'querer', 'cerca', 'valores', 'libres', 'considera', 'genio', 'disciplina', 'territorio', 'creencia', 'obra', 'eres', 'atacar', 'manos', 'totalmente', 'frecuencia', 'tienes', 'situación', 'realidad', 'pronto', 'estupidez', 'sufrimiento', 'platón', 'creer', 'tenga', 'antítesis', 'cierto', 'sé', 'interpretación', 'superiores', 'vuestra', 'instancia', 'continúa', 'número', 'placer', 'sun', 'discurso', 'ciertamente', 'hablando', 'padre', 'absoluto', 'deja', 'elevado', 'tarea', 'respeto', 'pequeño', 'arriba', 'peligroso', 'distinto', 'vista', 'entera', 'pudor', 'rebaño', 'cuestión', 'completamente', 'discursos', 'siquiera', 'entrar', 'expresión', 'estaba', 'posee', 'espías', 'semejante', 'siente', 'lleva', 'sentimientos', 'delante', 'planes', 'mismas', 'jóvenes', 'pensamiento', 'ayuda', 'desconfianza', 'medios', 'personas', 'mano', 'regla', 'objetivo', 'viejo', 'alcibíades', 'casa', 'largo', 'esclavos', 'grado', 'temor', 'persona', 'cielo', 'obtener', 'juventud', 'oh', 'alguno', 'objeto', 'pensamientos', 'ventaja', 'dejar', 'pregunta', 'ritmo', 'crueldad', 'iguales', 'artistas', 'quisiera', 'mando', 'orgullo', 'mitad', 'dureza', 'fuego', 'cuya', 'política', 'ataque', 'movimiento', 'esclavo', 'eran', 'razones', 'extraño', 'seguro', 'propios', 'viejos', 'tarde', 'cuyo', 'alto', 'hacerlo', 'lugares', 'ideal', 'mortal', 'peligrosa', 'artes', 'carácter', 'popular', 'salir', 'vanidad', 'creo', 'primera', 'tenía', 'tenido', 'sabio', 'ay', 'almas', 'sutiles', 'verdadero', 'ley', 'tres', 'condición', 'visto', 'aman', 'prueba', 'francia', 'lleno', 'pasado', 'cree', 'elogio', 'pueblos', 'dan', 'encuentran', 'modernas', 'aristófanes', 'procedencia', 'noche', 'muerte', 'perder', 'dado', 'altura', 'raras', 'pesar', 'estrategia', 'afectos', 'esté', 'deben', 'escepticismo', 'agua', 'problemas', 'establecer', 'venido', 'unas', 'consiste', 'vive', 'justicia', 'necesaria', 'ahí', 'terrenos', 'algunas', 'peor', 'respondió', 'docto', 'favor', 'odio', 'solamente', 'tiempos', 'tzu', 'espiritual', 'trabajo', 'raza', 'estás', 'refiere', 'entero', 'míos', 'encontrado', 'convertirse', 'esperanza', 'país', 'europeo', 've', 'sangre', 'máscara', 'rango', 'sentir', 'aun', 'sutileza', 'voy', 'debes', 'vieja', 'género', 'evitar', 'náusea', 'fueron', 'diotime', 'conversación', 'esencial', 'humanidad', 'santo', 'necesidades', 'libros', 'wagner', 'conceptos', 'éstas', 'venus', 'tengo', 'energía', 'gobierno', 'buenas', 'consigo', 'reino', 'derechos', 'cristianismo', 'judíos', 'auténtico', 'encontramos', 'necesita', 'artista', 'pie', 'dicen', 'juicio', 'malo', 'imposible', 'propias', 'valoraciones', 'alemania', 'defensa', 'tras', 'paz', 'encontrar', 'estados', 'estamos', 'ímpetu', 'europeos', 'respecto', 'combatir', 'haga', 'llega', 'realmente', 'espiritualidad', 'oído', 'luchar', 'saben', 'inteligente', 'quieres', 'ejércitos', 'juicios', 'comprender', 'armonía', 'trata', 'educación', 'claridad', 'razas', 'cuidado', 'queda', 'hijos', 'coacción', 'término', 'doctos', 'deber', 'sitio', 'hizo', 'llegado', 'curiosidad', 'conoce', 'sabido', 'schopenhauer', 'dónde', 'sol', 'jerarquía', 'conoces', 'seriedad', 'ganar', 'verdades', 'delicado', 'débil', 'fundamental', 'única', 'pienso', 'in', 'est', 'animales', 'constituyen', 'desea', 'buscar', 'relación', 'humanos', 'produce', 'cambio', 'debemos', 'sabios', 'delata', 'existencia', 'radical', 'beber', 'actúa', 'segundo', 'parecer', 'parecido', 'período', 'ordinario', 'posición', 'tempo', 'estilo', 'hechos', 'basta', 'excepción', 'aristodemos', 'cinco', 'actuar', 'morir', 'poner', 'respuesta', 'asunto', 'tuvo', 'antiguos', 'deseos', 'soledad', 'hubiera', 'bella', 'base', 'expertos', 'finalmente', 'signos', 'descubrir', 'serio', 'reír', 'débiles', 'sed', 'vencer', 'capaces', 'utilidad', 'piensa', 'habla', 'constantemente', 'encima', 'resultado', 'llevar', 'secreto', 'señor', 'elevada', 'vulgar', 'imagen', 'mantener', 'juego', 'sujeto', 'experiencia', 'puedo', 'mejores', 'haz', 'medicina', 'clases', 'antigua', 'inteligencia', 'muestra', 'siglos', 'dolor', 'poetas', 'preguntas', 'propósito', 'rico', 'honores', 'eterno', 'ambas', 'voz', 'descubierto', 'viento', 'natural', 'tendencia', 'homero', 'especies', 'suficientemente', 'acciones', 'diferencia', 'suficiente', 'disfraz', 'peligrosos', 'tesis', 'probablemente', 'sabes', 'religiones', 'tendría', 'mil', 'antemano', 'facilidad', 'iglesia', 'acaba', 'moralidad', 'idea', 'diferentes', 'necesariamente', 'mira', 'fácilmente', 'co', 'grandeza', 'horizonte', 'comienza', 'común', 'mesa', 'consciencia', 'armas', 'soy', 'enseguida', 'auténtica', 'histórico', 'importa', 'costumbre', 'reconocer', 'replicó', 'vivencias', 'épocas', 'dejarse', 'recompensas', 'dotados', 'ocasión', 'malvado', 'emplear', 'inglés', 'digo', 'estando', 'torpe', 'ciudad', 'operaciones', 'costumbres', 'cabezas', 'noble', 'figura', 'kant', 'entender', 'permitido', 'terrible', 'surge', 'norte', 'aprender', 'lengua', 'seguir', 'prolongada', 'franceses', 'instrumentos', 'júpiter', 'atención', 'producir', 'deberes', 'dije', 'autor', 'obedecer', 'responsabilidad', 'maestro', 'padres', 'enfermedad', 'derecha', 'madre', 'llenos', 'presente', 'unidad', 'tensión', 'destino', 'iba', 'signo', 'do', 'interrogación', 'motivo', 'cuerpos', 'ligero', 'conseguir', 'extraña', 'individuo', 'menor', 'hábitos', 'digno', 'algunos', 'virtuoso', 'reside', 'poderoso', 'trato', 'real', 'sirve', 'rápidamente', 'ala', 'astucia', 'situaciones', 'oculta', 'aguardar', 'hayan', 'superficial', 'tengan', 'global', 'combate', 'aspecto', 'éxito', 'claro', 'diferente', 'serán', 'generación', 'agradable', 'llegan', 'juntos', 'moderna', 'verdadera', 'tanta', 'volición', 'abierto', 'facultad', 'desarrollo', 'hora', 'mo', 'sufrir', 'decía', 'vuestro', 'guerreros', 'amantes', 'oculto', 'humana', 'ventajas', 'quedar', 'salud', 'duro', 'bellas', 'posibles', 'prójimo', 'cuánta', 'bellos', 'oír', 'mucha', 'sacrificios', 'intenta', 'psicólogo', 'conservar', 'interior', 'radicalmente', 'ataca', 'mañana', 'crear', 'conjunto', 'queréis', 'acontecimientos', 'horrible', 'violencia', 'poseer', 'quiera', 'coinciden', 'milenios', 'preparado', 'religiosa', 'sublime', 'suministros', 'engendrar', 'mío', 'cien', 'oficiales', 'egoísmo', 'igualdad', 'mirar', 'formación', 'cambiar', 'forman', 'richard', 'órganos', 'bondad', 'posibilidad', 'inmediatamente', 'ignorancia', 'atrás', 'atractivo', 'intención', 'clase', 'difíciles', 'inmortal', 'daño', 'fortaleza', 'pone', 'años', 'pies', 'aprendido', 'larga', 'doctrina', 'capacidad', 'dio', 'ayer', 'pobre', 'corriente', 'ataques', 'partir', 'boca', 'numerosos', 'merced', 'par', 'tragedia', 'varones', 'cuáles', 'desorden', 'suya', 'príncipe', 'realizar', 'jamás', 'ninguno', 'mayoría', 'distintos', 'pausanias', 'pasar', 'pensador', 'influencia', 'hacerse', 'aquellas', 'visible', 'busca', 'podrían', 'tiranía', 'proceso', 'inclinaciones', 'serlo', 'amistad', 'nuevas', 'cabo', 'plebe', 'amores', 'honra', 'diciendo', 'continúe', 'divino', 'hipótesis', 'podrá', 'habido', 'torno', 'honestidad', 'goethe', 'lenguaje', 'fórmula', 'benevolencia', 'libro', 'raro', 'vuelto', 'países', 'origen', 'cristiano', 'poeta', 'ardor', 'voluntariamente', 'niños', 'honrar', 'últimos', 'obrar', 'justamente', 'europea', 'favores', 'encontrará', 'segunda', 'malos', 'cenar', 'digamos', 'memoria', 'frío', 'verdaderamente', 'firme', 'dominar', 'imperativo', 'jovial', 'feo', 'caminos', 'corresponde', 'relaciones', 'circunstancias', 'pequeños', 'fuese', 'puerta', 'rapidez', 'consecuencias', 'constante', 'servicio', 'gusta', 'inclinación', 'información', 'hallan', 'instrumento', 'valiente', 'selección', 'poseen', 'asia', 'operación', 'puntos', 'amplio', 'estará', 'acabo', 'divina', 'olor', 'días', 'herencia', 'particular', 'creía', 'podido', 'sacrificio', 'posesión', 'asuntos', 'señores', 'napoleón', 'felices', 'permanecen', 'corrupción', 'alabar', 'colores', 'suprema', 'grosero', 'científico', 'conocido', 'repente', 'compañía', 'espectáculo', 'carece', 'vicio', 'imperio', 'tendrá', 'maestros', 'corazones', 'esencia', 'bienestar', 'elevados', 'alimentos', 'cretinos', 'pasiones', 'progreso', 'experto', 'instantes', 'suyo', 'aparece', 'entendida', 'adivinar', 'derrotado', 'superficie', 'decirse', 'factores', 'incondicional', 'compleja', 'intenciones', 'psicología', 'comedia', 'fueran', 'quede', 'elementos', 'tratado', 'adquirir', 'instante', 'pudiera', 'debilidad', 'rigor', 'aristocracia', 'prejuicio', 'permanece', 'alta', 'contacto', 'superstición', 'sección', 'exige', 'error', 'pequeña', 'humanas', 'preponderancia', 'hecha', 'castigo', 'mediocres', 'pequeñas', 'haciendo', 'sigue', 'raros', 'ocurrido', 'ambos', 'salvar', 'campo', 'revolución', 'color', 'nació', 'sentirse', 'críticos', 'recuerdo', 'lazo', 'puedan', 'hábil', 'honor', 'conocen', 'veneración', 'azar', 'diez', 'texto', 'tenían', 'dificultad', 'personal', 'alabanza', 'escuela', 'et', 'esencialmente', 'sienten', 'comunidad', 'une', 'aire', 'inferior', 'consiguiente', 'engañar', 'mandar', 'enseñar', 'medias', 'veo', 'hambre', 'sexo', 'distancia', 'impulso', 'vino', 'útil', 'hubo', 'edad', 'alianzas', 'cantar', 'frase', 'beneficio', 'social', 'guardia', 'quiso', 'perdido', 'media', 'últimas', 'valoración', 'romanticismo', 'seguida', 'negar', 'crees', 'residuo', 'junto', 'partido', 'lograr', 'utilizar', 'escuchar', 'faltan', 'finalidad', 'dices', 'hablado', 'tareas', 'influjo', 'ventajoso', 'fealdad', 'aquéllos', 'procede', 'nacimiento', 'ven', 'enseña', 'parecen', 'obras', 'actos', 'suerte', 'rápido', 'baile', 'continúan', 'presión', 'favorable', 'gracia', 'superficiales', 'médico', 'duros', 'inversa', 'simpatía', 'moralista', 'formaciones', 'tenéis', 'dinero', 'adivina', 'jefes', 'profunda', 'aparecen', 'ocurrir', 'podemos', 'constitución', 'dientes', 'alturas', 'beneficios', 'inmortalidad', 'abundancia', 'apenas', 'cautela', 'mentira', 'tortura', 'puertas', 'ocultar', 'absurdo', 'pasión', 'toma', 'cristiana', 'independencia', 'peligros', 'expresa', 'numerosas', 'máxima', 'caos', 'ambición', 'ruido', 'eterna', 'soportar', 'quería', 'arco', 'motivos', 'procura', 'acto', 'definitiva', 'opiniones', 'rasgo', 'igualmente', 'manda', 'llegue', 'paciencia', 'amo', 'entendimiento', 'sabía', 'materia', 'exigencias', 'confusión', 'conceder', 'hicieron', 'rey', 'autoridad', 'familia', 'seducción', 'malicia', 'cara', 'habrá', 'ligera', 'malentendido', 'carne', 'hable', 'sur', 'elevación', 'propiedades', 'economía', 'comunicación', 'pertenecen', 'creemos', 'semejantes', 'degeneración', 'percibir', 'cuán', 'descender', 'carros', 'dispuestos', 'multiforme', 'pocas', 'únicos', 'explicar', 'diablo', 'llamado', 'seguramente', 'delicados', 'continuar', 'atraer', 'quedan', 'preparación', 'ciencias', 'olvidar', 'contemplación', 'meta', 'multitud', 'invención', 'vio', 'preguntar', 'entendido', 'entretanto', 'debido', 'persuadido', 'adorno', 'res', 'engaño', 'hipo', 'estadista', 'vejez', 'sabemos', 'imágenes', 'desprecio', 'delicadeza', 'formar', 'exterior', 'delicada', 'venganza', 'enemigas', 'provisiones', 'existente', 'atreverse', 'jardín', 'ánimo', 'obediencia', 'intento', 'esperar', 'mediocridad', 'estima', 'hacerle', 'indiferencia', 'respecta', 'método', 'aparición', 'estuvo', 'alrededor', 'filosóficos', 'hermosos', 'aprende', 'ignorante', 'suele', 'consideración', 'derrota', 'flauta', 'crítica', 'convenido', 'arbitrario', 'continuó', 'síntoma', 'modernos', 'alcanzado', 'atenas', 'certeza', 'extremo', 'gobernante', 'claramente', 'perspectiva', 'sátiro', 'trabajadores', 'salvaje', 'falsos', 'podrás', 'ordena', 'volverse', 'comparación', 'vano', 'hermoso', 'repetir', 'pocos', 'exceso', 'utilizan', 'prestar', 'inocencia', 'famoso', 'haces', 'engañado', 'generaciones', 'nombres', 'religioso', 'grecia', 'esclavitud', 'dura', 'lee', 'vuelva', 'escéptico', 'organización', 'posibilidades', 'negación', 'espero', 'perspectivas', 'observar', 'apetitos', 'triunfo', 'contestó', 'seamos', 'honrado', 'opuestos', 'aprovecharse', 'lecho', 'obvio', 'conmigo', 'aparente', 'funciones', 'conveniente', 'proporciona', 'il', 'máximo', 'servidores', 'piedad', 'especial', 'desgracia', 'tomó', 'llena', 'opuestas', 'piel', 'comediante', 'menosprecio', 'disposición', 'necesitan', 'halla', 'kilómetros', 'inspira', 'falsa', 'goce', 'presenta', 'retaguardia', 'francesa', 'términos', 'dispone', 'movimientos', 'debería', 'sueño', 'disfrutar', 'idéntico', 'ascendencia', 'entusiasmo', 'pura', 'viene', 'principios', 'poderosos', 'desfavorables', 'comienzo', 'femenino', 'estúpido', 'partiendo', 'afecto', 'ésos', 'formas', 'verdaderos', 'valentía', 'anterior', 'efectos', 'limpieza', 'ponerse', 'conforme', 'dé', 'campaña', 'leer', 'vemos', 'dominante', 'mente', 'prejuicios', 'precio', 'independiente', 'científicos', 'queremos', 'entra', 'enfrentarse', 'mostrar', 'estudiar', 'sucesión', 'empezar', 'histórica', 'impaciente', 'considerar', 'recién', 'corto', 'confundir', 'encuentro', 'culturas', 'confianza', 'peculiar', 'caer', 'tengamos', 'masculino', 'gregario', 'adoptar', 'filosófica', 'dejado', 'cambios', 'mediodía', 'determinado', 'individuos', 'tratar', 'actitud', 'salida', 'conocida', 'pecho', 'considerado', 'brazos', 'habitual', 'acontecimiento', 'nobles', 'reflexionar', 'idénticas', 'determinada', 'hechizo', 'hablan', 'habitantes', 'vulgares', 'comodidad', 'fortuna', 'llaman', 'oposición', 'salen', 'horas', 'enigmas', 'señal', 'emisarios', 'aparentemente', 'grave', 'sitúa', 'acordes', 'admitir', 'ingleses', 'sentado', 'resto', 'tenaz', 'estén', 'largas', 'mediocre', 'acá', 'solemne', 'través', 'democrático', 'preparados', 'elevarse', 'cultos', 'vuelta', 'estrecho', 'habiendo', 'últimamente', 'hago', 'mezcla', 'rostro', 'presencia', 'beethoven', 'comercio', 'piedra', 'llamarse', 'acorde', 'luchan', 'sospecha', 'oye', 'vergonzoso', 'astros', 'ignoran', 'extraordinario', 'adheridos', 'entiende', 'entregarse', 'saca', 'biblia', 'teoría', 'justa', 'existido', 'hacía', 'honorable', 'hostilidad', 'referente', 'madame', 'adelante', 'cuesta', 'contar', 'estructura', 'escapar', 'pudo', 'añadir', 'decadencia', 'denomina', 'cabe', 'altos', 'sal', 'vecino', 'sabéis', 'fino', 'testigos', 'calle', 'amamos', 'placeres', 'causas', 'impresión', 'rasgos', 'esperanzas', 'viven', 'prosa', 'metafísica', 'suave', 'fragmento', 'total', 'peores', 'representa', 'haría', 'plan', 'permite', 'esconde', 'artificial', 'torpes', 'cumbre', 'políticos', 'desinteresada', 'tímido', 'básica', 'inventar', 'atreve', 'indican', 'designar', 'quemar', 'plebeyo', 'admiración', 'comida', 'saborear', 'rigurosa', 'avanzar', 'bienes', 'llamamos', 'celestial', 'muchedumbre', 'capacidades', 'cola', 'montañas', 'creen', 'buscan', 'demostrar', 'hacemos', 'maravillosa', 'guía', 'marciales', 'cambia', 'dirección', 'ofrece', 'vacío', 'cantidad', 'venir', 'estuviera', 'orgulloso', 'pour', 'invitado', 'quisieran', 'incita', 'quieras', 'recursos', 'cólera', 'fundamento', 'perfección', 'primeros', 'perfectamente', 'pruebas', 'errores', 'psicólogos', 'viejas', 'opuesta', 'espionaje', 'compuesto', 'dormitiva', 'primitiva', 'segura', 'estamentos', 'siento', 'veracidad', 'modestos', 'permiso', 'mencionado', 'misterioso', 'auténticas', 'acabar', 'vital', 'poseído', 'inmediata', 'ciertos', 'audacia', 'quedado', 'resulte', 'niño', 'privilegios', 'principalmente', 'complejo', 'creador', 'cristianos', 'plenitud', 'presa', 'superioridad', 'gana', 'fija', 'huellas', 'decisión', 'propiedad', 'teniendo', 'ingenuidad', 'talento', 'dejan', 'dirige', 'acabado', 'victorioso', 'sale', 'elogiar', 'china', 'gloria', 'consejo', 'vanguardia', 'escena', 'superar', 'dificultades', 'tuya', 'precisión', 'dime', 'aquiles', 'estés', 'tuyo', 'fea', 'marcha', 'feliz', 'ocurrió', 'reservado', 'acercarse', 'habían', 'probable', 'aprecia', 'sala', 'perecer', 'espaldas', 'ciertas', 'violento', 'buscaba', 'apolodoros', 'sencillamente', 'dirigen', 'olvidado', 'temer', 'asegurar', 'burla', 'sacrificar', 'hará', 'virtuosos', 'permiten', 'verdaderas', 'concordia', 'encontré', 'puestos', 'carrera', 'dulce', 'complace', 'seco', 'turno', 'merece', 'diría', 'impedir', 'cualidades', 'producen', 'llegó', 'cobardía', 'componen', 'uso', 'sepa', 'silencio', 'calma', 'sucede', 'servir', 'observado', 'extraños', 'llevado', 'afirmar', 'gobernar', 'proverbio', 'presentarse', 'empleo', 'trate', 'producción', 'haceros', 'aspiran', 'diré', 'demonios', 'separa', 'estaban', 'habilidad', 'temo', 'alceste', 'creyendo', 'hermano', 'filas', 'importancia', 'culto', 'siguiente', 'falsedad', 'obliga', 'presto', 'separación', 'distinción', 'voluntaria', 'desarrollado', 'fines', 'continuación', 'desean', 'incapaz', 'miembros', 'comprendido', 'dejando', 'piernas', 'cuatro', 'unión', 'ignora', 'trabajos', 'estaciones', 'fantasma', 'promesas', 'muestran', 'impide', 'año', 'fastidio', 'indulgencia', 'respondí', 'músico', 'enfermo', 'plantas', 'poesía', 'encuentre', 'reglas', 'hacerte', 'seductor', 'rica', 'diversas', 'hesíodo', 'dulzura', 'poseerlo', 'engendra', 'idéntica', 'griegos', 'acaban', 'nacido', 'pasa', 'estáis', 'indignación', 'aplica', 'reunir', 'cerrar', 'cansados', 'recibir', 'conocemos', 'corporal', 'humor', 'debo', 'vergüenza', 'continua', 'distingue', 'atacan', 'tome', 'rodeado', 'elocuencia', 'envidia', 'creado', 'desinteresado', 'eliminar', 'pena', 'inocente', 'filosófico', 'consciente', 'malas', 'frágil', 'lejanía', 'pese', 'delicadas', 'trasfondo', 'grupos', 'rincón', 'retirada', 'determinados', 'lógica', 'sintéticos', 'priori', 'hagamos', 'precisan', 'pertenece', 'inventado', 'íntimo', 'inversión', 'abogados', 'inconsciente', 'petulancia', 'auto', 'victorias', 'exactamente', 'griego', 'patria', 'conduce', 'escribió', 'rabia', 'alcanza', 'dogmáticos', 'ironía', 'margen', 'testamento', 'fingir', 'ésa', 'señales', 'cuyos', 'concebir', 'múltiples', 'crecimiento', 'síntesis', 'pesimismo', 'dogmática', 'vivido', 'crecer', 'médicos', 'ilustración', 'periódicos', 'fórmulas', 'riesgo', 'inmenso', 'religiosos', 'experiencias', 'pleno', 'cuyas', 'aspira', 'banderas', 'génesis', 'carentes', 'obtenida', 'spinoza', 'estrellas', 'firmeza', 'costa', 'completa', 'alemanas', 'múltiple', 'venerable', 'alcanzar', 'excepto', 'inevitablemente', 'servirse', 'recorrer', 'disgusto', 'pensadores', 'locke', 'antepasados', 'actual', 'pensado', 'existir', 'injusticia', 'distinta', 'ciudades', 'deberían', 'recompensa', 'prisioneros', 'modos', 'doméstico', 'eternamente', 'preparar', 'instintivamente', 'básico', 'dedos', 'aquél', 'darse', 'realiza', 'soñar', 'vulnerabilidad', 'distintas', 'sois', 'verde', 'discípulos', 'predestinado', 'epicuro', 'auténticos', 'favorables', 'vistas', 'auténticamente', 'elevadas', 'fundamentales', 'conservación', 'gustaría', 'prolongado', 'argumentos', 'martirio', 'siete', 'obtiene', 'torpeza', 'castigos', 'refinamiento', 'jovialidad', 'aspirar', 'soberbia', 'dirigir', 'incapacidad', 'crea', 'tiránico', 'perdóneseme', 'estimaciones', 'espirituales', 'batallas', 'anhelo', 'habéis', 'contenido', 'vuelo', 'pájaros', 'maniobrar', 'fría', 'comparaciones', 'quieran', 'oro', 'espera', 'física', 'tipos', 'otorga', 'ejercitación', 'lentamente', 'ayudar', 'inmensa', 'absolutamente', 'repugna', 'espía', 'cuestiones', 'extranjero', 'pesimista', 'gozar', 'entienden', 'hegel', 'seis', 'terribles', 'curso', 'armada', 'dada', 'cintas', 'sentarse', 'profundos', 'reciente', 'averiguar', 'sirven', 'vuelven', 'pierden', 'dispersión', 'vulnerable', 'ajeno', 'demasiada', 'aristócratas', 'intersección', 'preparada', 'agentes', 'marsyas', 'caverna', 'eremita', 'dolientes', 'retener', 'repugnante', 'vea', 'amplia', 'wu', 'indiferente', 'vivencia', 'vienen', 'finura', 'historiadores', 'malentendidos', 'carecen', 'probabilidad', 'interés', 'atractivos', 'similares', 'plano', 'escritos', 'ejerce', 'significan', 'trabajar', 'inteligentes', 'espacio', 'enfermos', 'renunciar', 'trae', 'comenzado', 'otorgan', 'exclusivamente', 'falso', 'enfermedades', 'veneno', 'estoicismo', 'miran', 'naturalmente', 'gigantesca', 'húmedo', 'permanente', 'atomismo', 'escépticos', 'mantiene', 'confiar', 'pluralidad', 'contrarios', 'estoicos', 'escondido', 'querrían', 'entusiasta', 'deduce', 'caballos', 'campamento', 'indicio', 'accidentes', 'escondidas', 'incierto', 'agudos', 'gestos', 'intelectual', 'accesible', 'hembra', 'natura', 'van', 'alejarse', 'adivinación', 'ligeros', 'teólogos', 'emboscadas', 'gentes', 'divinidad', 'desplaza', 'adaptación', 'exigente', 'efectivamente', 'comer', 'antiguas', 'correr', 'simplemente', 'patroclo', 'previo', 'verse', 'famosa', 'extrañas', 'impacientes', 'abandona', 'esfinge', 'familiaridad', 'cumplir', 'exista', 'provecho', 'interno', 'resultan', 'metafísicos', 'preferencia', 'típico', 'coloca', 'astrología', 'gramática', 'entendían', 'memorias', 'conozcan', 'bin', 'afirman', 'juzga', 'reinos', 'concubinas', 'llamo', 'cuantos', 'culpa', 'cortesía', 'designado', 'vicioso', 'contradicción', 'conquistar', 'chino', 'beneficioso', 'oportuno', 'jerárquico', 'peligrosas', 'tartufería', 'atrae', 'moralistas', 'xx', 'indulgente', 'doble', 'populares', 'rigurosamente', 'sano', 'constituido', 'comenzar', 'valioso', 'porvenir', 'temperamento', 'trabajador', 'complacer', 'deseable', 'clave', 'visión', 'obligado', 'serpiente', 'secretos', 'gustos', 'súbditos', 'indudablemente', 'bárbaros', 'hables', 'sometidos', 'recurrir', 'aumenta', 'empieza', 'combatientes', 'soberanía', 'objeción', 'comenzó', 'explicación', 'llamados', 'locura', 'concede', 'defender', 'inquietante', 'sufren', 'consuelo', 'oprimidos', 'supremo', 'pregunté', 'dominado', 'martillo', 'duración', 'idénticos', 'furioso', 'criminal', 'engaña', 'notable', 'abismo', 'alas', 'árbol', 'acontece', 'intereses', 'vuestros', 'utilitaristas', 'ensayos', 'repiten', 'vivisección', 'deciros', 'fuimos', 'ves', 'trabaja', 'loco', 'protección', 'umbral', 'ocupar', 'frases', 'homme', 'agradecimiento', 'meridional', 'judío', 'seas', 'incluidos', 'exclamó', 'esperando', 'pecado', 'gravedad', 'presentándose', 'infantil', 'análisis', 'ruidosa', 'orgullosa', 'asombro', 'meramente', 'suciedad', 'gratitud', 'crecido', 'empuje', 'haberse', 'disponer', 'maestra', 'vivo', 'art', 'casta', 'esprit', 'rigurosos', 'amplitud', 'plebeyos', 'den', 'miradas', 'abuelos', 'delatan', 'xix', 'semibarbarie', 'accesos', 'inglesa', 'entendéis', 'literatura', 'parís', 'femeninos', 'patriotería', 'amplios', 'paul', 'schumann', 'fecundar', 'vecinos', 'disimular', 'aguardan', 'inglaterra', 'cientificismo', 'involuntaria', 'gala', 'dijeron', 'sueños', 'volar', 'diversidad', 'profundamente', 'audaz', 'lento', 'maestría', 'cuándo', 'federico', 'inmoral', 'califica', 'malvada', 'loca', 'dignidad', 'castigar', 'lejanos', 'padece', 'amenaza', 'lanza', 'espejo', 'convertido', 'bastantes', 'criatura', 'ensayo', 'psíquicos', 'ayuno', 'roma', 'psicológica', 'emulación', 'antitéticos', 'sacar', 'cuentas', 'risa', 'solemnes', 'antigüedad', 'eremitas', 'convirtiéndose', 'resultar', 'aparezca', 'responder', 'aislamiento', 'peso', 'interesante', 'vulgaridad', 'voltaire', 'proposición', 'categoría', 'sexual', 'izquierda', 'estaría', 'salta', 'tantas', 'pesado', 'echar', 'tuviera', 'problemático', 'investigadores', 'imitar', 'platónico', 'sabían', 'permanecer', 'logrado', 'parentesco', 'fenómenos', 'hija', 'fundamentación', 'actividad', 'predicado', 'honesto', 'suelen', 'dejarle', 'volente', 'realizado', 'resistencias', 'unidos', 'crecen', 'amados', 'súbita', 'independientes', 'atavismo', 'determinadas', 'aspiración', 'mezcolanza', 'perverso', 'transfiguración', 'afortunada', 'qui', 'des', 'dans', 'habló', 'corre', 'callar', 'amada', 'debajo', 'totalidad', 'venideros', 'mía', 'bravos', 'miseria', 'tentador', 'sobreabundancia', 'orgullosos', 'natos', 'caza', 'finos', 'cenado', 'tolerancia', 'convidados', 'reblandecida', 'tomado', 'invertir', 'respirar', 'multicolores', 'espectadores', 'estrechez', 'temerario', 'alimento', 'vicios', 'debilidades', 'linaje', 'poderosa', 'suspicacia', 'tema', 'toque', 'tocar', 'aristocráticos', 'enteras', 'causalidad', 'demasiadas', 'autosuperación', 'secreta', 'conciencias', 'exigir', 'decidida', 'prescindiendo', 'suponer', 'refiero', 'ne', 'dotado', 'fuegos', 'lógicos', 'pérdida', 'sustancia', 'montaña', 'rocas', 'dependen', 'aquélla', 'prodigioso', 'convierte', 'resistir', 'riguroso', 'pierde', 'ocupa', 'inducir', 'presupuesto', 'deje', 'extremadamente', 'elevan', 'dichosos', 'rápida', 'sentimos', 'ignorantes', 'unir', 'toca', 'valientes', 'hierro', 'ardiente', 'adolescentes', 'viril', 'germen', 'establece', 'hayas', 'camina', 'división', 'dudar', 'acudir', 'dejó', 'tendremos', 'dejas', 'velocidad', 'estratega', 'conserva', 'resistirse', 'cálculos', 'espada', 'llamada', 'atenienses', 'luchas', 'domina', 'inferiores', 'continuamente', 'mitades', 'trueno', 'das', 'tercer', 'levantó', 'relámpago', 'sufre', 'pericia', 'puso', 'defiende', 'vientre', 'hielo', 'movilizar', 'cansancio', 'diga', 'apoyo', 'triste', 'bebido', 'agotado', 'insoportable', 'decimos', 'varias', 'corta', 'alcanzan', 'enfrentarte', 'poros', 'imprescindible', 'vengan', 'herido', 'soberano', 'amable', 'evita', 'invencible', 'suyas', 'sorpresa', 'cae', 'antiguamente', 'osado', 'cazador', 'incesantemente', 'preparativos', 'pensando', 'abre', 'versos', 'oyentes', 'maneras', 'cesar', 'métodos', 'vacilantes', 'conquista', 'figuras', 'concierne', 'sumo', 'terminado', 'atacarte', 'tendrán', 'enigma', 'veía', 'intermedio', 'piedras', 'silenos', 'representan', 'nación', 'especialmente', 'potencia', 'pasan', 'demonio', 'función', 'evidentemente', 'expresar', 'ejercer', 'cortar', 'percepción', 'consigue', 'simples', 'recíprocamente', 'comparado', 'cálculo', 'atraviesas', 'ved', 'escuchan', 'árboles', 'precisa', 'maniobras', 'solicitud', 'inventiva', 'tercero', 'dividir', 'grados', 'pondría', 'admirable', 'desearía', 'pantanos', 'ignoras', 'necesarias', 'grupo', 'dueños', 'querían', 'sacrificado', 'bellezas', 'ocho', 'destrucción', 'franqueza', 'ruta', 'penas', 'convertir', 'lujo', 'eficaz', 'papel', 'riqueza', 'sufrido', 'rutas', 'expresiones', 'ocupaciones', 'elegido', 'ocasiones', 'dirigido', 'estandartes', 'vas', 'contemplar', 'ética', 'ridículo', 'completo', 'pretender', 'magníficos', 'desplazamiento', 'determinar', 'porción', 'inagotable', 'forzado', 'vidas', 'salvación', 'distancias', 'ido', 'abrir', 'alegre', 'íntimos', 'precioso', 'buscando', 'escrito', 'posteridad', 'esquema', 'mar', 'desear', 'tono', 'fecha', 'terminar', 'asnos', 'alabanzas', 'vigorosos', 'codo', 'normal', 'vaya', 'directa', 'vuelvo', 'destinados', 'baco', 'plus', 'dejamos', 'puesta', 'quand', 'trágico', 'refinado', 'infinito', 'tormento', 'transición', 'preguntarle', 'extrañar', 'empiezan', 'habituales', 'transforma', 'penitencia', 'despertar', 'genuinamente', 'tentativa', 'manto', 'llamaba', 'reservados', 'tenerlo', 'misterios', 'ocuparme', 'sans', 'quienquiera', 'caballo', 'resolución', 'repercusión', 'jugar', 'incredulidad', 'equilibrio', 'criterio', 'monstruo', 'debía', 'hacerme', 'abierta', 'descubrimientos', 'próximos', 'cruel', 'original', 'tantos', 'hallaba', 'crece', 'predestinados', 'tonterías', 'cavernas', 'comporta', 'laberinto', 'contemporáneos', 'habrán', 'imaginarme', 'religiosas', 'ociosidad', 'logró', 'poseemos', 'veinte', 'vencido', 'viendo', 'capa', 'usar', 'reposar', 'penia', 'añadió', 'relato', 'embriagado', 'genuino', 'expiar', 'atentado', 'generalmente', 'solos', 'tender', 'huyen', 'descartes', 'empezaré', 'juez', 'hermosa', 'salvajes', 'permaneció', 'detenerse', 'nato', 'sanos', 'apariencias', 'abismos', 'burgués', 'procurar', 'adquirido', 'estrecha', 'internas', 'delicadezas', 'dormir', 'dichoso', 'animado', 'vayas', 'sumamente', 'triclinio', 'diablos', 'servil', 'defectos', 'ilusión', 'extranjera', 'pascal', 'examine', 'ocultación', 'peligrosidad', 'repliqué', 'orgánicas', 'instintiva', 'vacía', 'empujado', 'librepensadores', 'agradecidos', 'oveja', 'oficio', 'incumbe', 'reducir', 'forzosamente', 'ficción', 'ocupado', 'solución', 'post', 'quiénes', 'ordenar', 'voluptuosa', 'cruz', 'sumisión', 'indescriptible', 'malvados', 'pronunciar', 'perjudicial', 'absurda', 'astro', 'paradoja', 'profundización', 'separarnos', 'habríamos', 'mostrarse', 'formarse', 'funesta', 'oriental', 'copa', 'subleva', 'neurosis', 'podía', 'apasionada', 'presentó', 'agrado', 'ágil', 'pasada', 'raramente', 'desconfiar', 'adueñarse', 'filosóficas', 'renuncia', 'prescindir', 'sabría', 'llevan', 'verano', 'fábula', 'sigues', 'romano', 'convierten', 'dirá', 'lutero', 'desee', 'opinamos', 'utiliza', 'filosofa', 'circe', 'fluir', 'voces', 'habituado', 'extiende', 'perfecto', 'burdo', 'golpes', 'inútil', 'presque', 'modelo', 'conclusión', 'limita', 'reconocido', 'difícilmente', 'saberlo', 'fijos', 'fatigas', 'miserable', 'espíri', 'rusia', 'realeza', 'esperado', 'disgregación', 'presunción', 'experimentar', 'crítico', 'conducen', 'fecundos', 'íntima', 'respetabilidad', 'psíquica', 'emancipación', 'éramos', 'tranquilidad', 'burlas', 'saludo', 'mueren', 'ejercicio', 'conocimientos', 'alaba', 'desgraciado', 'involuntario', 'guirnalda', 'razonable', 'flautista', 'infunde', 'reflexión', 'ofensivo', 'furiosos', 'errante', 'socialistas', 'cima', 'redención', 'pálidos', 'aprovechar', 'borracho', 'adivinado', 'mortales', 'oímos', 'multiplicidad', 'procreación', 'alcanzó', 'iniciación', 'echa', 'acortar', 'digestión', 'vehemencia', 'ingente', 'lenta', 'llamó', 'jean', 'admirables', 'crepuscular', 'mozart', 'rousseau', 'byron', 'oratoria', 'primordial', 'secretas', 'francés', 'descubridor', 'puestas', 'emparentados', 'inquietantes', 'predicar', 'explotación', 'mentiroso', 'variación', 'verá', 'sensaciones', 'puedas', 'osada', 'mutismo', 'cocinera', 'taceat', 'llegas', 'siga', 'probidad', 'homo', 'agrada', 'bonachón', 'egoísta', 'disfraces', 'sensible', 'desesperación', 'nacional', 'infancia', 'incremento', 'corren', 'shakespeare', 'nacida', 'prodigios', 'despreciable', 'ruina', 'azul', 'aburrimiento', 'muerto', 'iniciado', 'frutos', 'lazos', 'mulier', 'pasó', 'tardías', 'premio', 'defecto', 'tomada', 'obstante', 'caro', 'poniendo', 'ganas', 'degenera', 'doliente', 'oradores', 'pericles', 'interiormente', 'siguen', 'imponerse', 'grosera', 'adónde', 'llevaba', 'tocaba', 'innato', 'majaderos', 'fracasos', 'rebajarse', 'mentir', 'direcciones', 'justificar', 'tienden', 'privado', 'desprecia', 'desaprende', 'negocios', 'horroroso', 'empezado', 'significado', 'inestimable', 'don', 'laboriosidad', 'convencer', 'adecuado', 'laboriosos', 'filosofan', 'evidente', 'candorosa', 'dioniso', 'diligente', 'hondo', 'engendro', 'conjeturar', 'festín', 'parecía', 'grano', 'burlado', 'tesoros', 'políticas', 'existentes', 'destructor', 'queridos', 'hermanos', 'dominados', 'autodominio', 'tentaciones', 'plebeya', 'veis', 'eco', 'incurable', 'criterios', 'despecho', 'canción', 'celosos', 'variaciones', 'elemento', 'aprenden', 'producida', 'hostiles', 'pobres', 'celos', 'equivocado', 'convicción', 'entrega', 'querría', 'esperaba', 'sensualidad', 'infierno', 'oler', 'listeza', 'hablas', 'cultivada', 'impaciencia', 'cabellos', 'máximas', 'conciliador', 'moderación', 'modestia', 'alivio', 'liberación', 'deba', 'podríamos', 'aburrido', 'vaso', 'raíz', 'adornos', 'sonidos', 'áme', 'tengáis', 'exacto', 'maravillas', 'asemeja', 'ocultas', 'broma', 'tardío', 'estamento', 'clima', 'faltado', 'escucha', 'percibido', 'olvide', 'laisser', 'aller', 'cuántos', 'asombrosa', 'persuadir', 'persecución', 'llenar', 'corrompida', 'ocurría', 'arbitrariedad', 'inherente', 'repita', 'hábiles', 'extravían', 'rescate', 'mutuamente', 'título', 'escribir', 'vías', 'servidumbre', 'esperan', 'favorecer', 'índole', 'fuentes', 'caminar', 'primavera', 'anticipar', 'ceder', 'históricas', 'naciones', 'extensión', 'favoritas', 'desaparecer', 'responsable', 'duradero', 'volvían', 'practica', 'ejecución', 'matar', 'mover', 'separado', 'íntimas', 'insistencia', 'dispuesto', 'equidad', 'pliegues', 'huevos', 'concentración', 'ligeras', 'obligados', 'tomarlo', 'escalera', 'incertidumbre', 'fiestas', 'atacarle', 'otorgar', 'acababa', 'principales', 'indispensable', 'alegría', 'previa', 'reconocimiento', 'contigo', 'contratan', 'descubre', 'ordenó', 'apolo', 'dobles', 'línea', 'estrategias', 'reconoce', 'atraviesa', 'defienden', 'pasarse', 'depende', 'proceden', 'fluye', 'creería', 'vulcano', 'pasajero', 'símbolos', 'penetrado', 'preferible', 'previsores', 'ordenado', 'existan', 'gobernantes', 'tomadas', 'acumulada', 'veraz', 'estrechamente', 'capciosa', 'surjan', 'interesan', 'dijera', 'líneas', 'tiranos', 'decisivo', 'forzada', 'unido', 'separados', 'niaiserie', 'bobería', 'cometer', 'toman', 'mérito', 'previamente', 'sorprendente', 'concupiscencia', 'autores', 'opresión', 'oponen', 'sublimes', 'círculo', 'personales', 'principal', 'perspicacia', 'pretensiones', 'puro', 'superado', 'herederos', 'variantes', 'directo', 'planta', 'sienta', 'lograrlo', 'jesuitismo', 'democrática', 'lectura', 'aptos', 'induces', 'afán', 'volviéndose', 'impulsos', 'heterodoxo', 'ortodoxo', 'fijo', 'surgir', 'solar', 'ruedas', 'centro', 'pase', 'bosque', 'ventajosa', 'guardar', 'actúen', 'oscuridad', 'cuidadosamente', 'labor', 'inmóvil', 'salvo', 'puritanos', 'sobrevivir', 'actúan', 'cierran', 'reserva', 'determinan', 'destruye', 'río', 'proceder', 'cuida', 'moviliza', 'cerrados', 'riesgos', 'naturales', 'alejado', 'usa', 'locales', 'guías', 'agudo', 'desfiladeros', 'prepara', 'arrasa', 'entendía', 'tambores', 'unificar', 'significaría', 'ten', 'dominan', 'ridículas', 'flecha', 'manejar', 'piensas', 'hazlo', 'escapado', 'graves', 'estómago', 'templanza', 'universal', 'cerrado', 'oponerse', 'persigas', 'templos', 'vivientes', 'luchará', 'honramos', 'desesperado', 'práctica', 'seguirá', 'nueve', 'surgen', 'fronteras', 'aislado', 'altas', 'avanza', 'respiración', 'recíproco', 'utilizarse', 'defenderse', 'penetras', 'contiene', 'rayos', 'podían', 'divinas', 'inevitable', 'carencia', 'cercado', 'listos', 'introduce', 'espontánea', 'daban', 'moverse', 'insolencia', 'dudas', 'unidades', 'nativo', 'mantén', 'aumentar', 'sirvan', 'infaliblemente', 'cesará', 'impía', 'tranquilos', 'contraataca', 'manual', 'heterogéneo', 'útiles', 'cuello', 'satisfacción', 'llamadas', 'miles', 'grueso', 'desesperados', 'lealtad', 'contentos', 'masa', 'preside', 'conseguido', 'obedecen', 'aprecio', 'aceptan', 'cambiantes', 'desfavorable', 'participa', 'juntas', 'precisas', 'derrotados', 'incapaces', 'calibrar', 'niveles', 'introducir', 'sistema', 'tercera', 'irracional', 'descansa', 'producido', 'luna', 'darnos', 'místicos', 'hayamos', 'inspiración', 'musas', 'mos', 'continuamos', 'negarse', 'escriben', 'atrevo', 'dedo', 'regularidad', 'humanitarios', 'prepararse', 'democráticos', 'ateísmo', 'viva', 'descubrió', 'riquezas', 'supiese', 'mueven', 'acabase', 'metáfora', 'aparentar', 'inmoralidad', 'conozco', 'basa', 'perversos', 'considere', 'comparte', 'enorme', 'mantenido', 'simplicidad', 'ruego', 'rústica', 'tuyos', 'suelo', 'población', 'habitan', 'hábito', 'actúe', 'tomas', 'héroe', 'regresar', 'auxilio', 'flores', 'muscular', 'abandonar', 'obedece', 'asombroso', 'mandan', 'marte', 'falsas', 'detiene', 'aumento', 'suficientes', 'añade', 'disfruta', 'serviciales', 'fenómeno', 'ofensa', 'triunfar', 'veloz', 'fisiológicos', 'semi', 'despreocupación', 'estudio', 'instrucciones', 'matices', 'estrechos', 'indignado', 'dará', 'piensan', 'traducir', 'metabolismo', 'involuntarios', 'tributo', 'rivales', 'celebrar', 'inferir', 'escoger', 'nuances', 'bandos', 'locuaz', 'aburridos', 'dad', 'presta', 'vale', 'rococó', 'lessing', 'cercanía', 'romana', 'huida', 'pesados', 'propuesto', 'hércules', 'soplo', 'insinuado', 'coraje', 're', 'comprensible', 'viviente', 'tened', 'corrompe', 'mozos', 'esquina', 'vuestras', 'voluptuosidad', 'atardecer', 'traviesa', 'temores', 'perversa', 'consejero', 'vence', 'presuponiendo', 'rangos', 'escondite', 'agotan', 'excepcional', 'material', 'digna', 'gris', 'melancolía', 'decirnos', 'figuro', 'superación', 'profesión', 'prurito', 'galiani', 'sonrisa', 'presupone', 'penetrar', 'importan', 'civiles', 'diese', 'limitados', 'podríais', 'tranquilo', 'comediantes', 'teatro', 'enfrentan', 'tiranizar', 'ocurriendo', 'goza', 'confusos', 'retirarse', 'sensual', 'víctima', 'mortalmente', 'agrade', 'adecuada', 'credibilidad', 'elogios', 'bajezas', 'policromía', 'primeramente', 'anti', 'refutado', 'utilización', 'escapa', 'apartar', 'nerviosa', 'hacían', 'estratégico', 'aproxima', 'dados', 'muestre', 'hostil', 'injusto', 'debidas', 'bravura', 'tortuosos', 'categórico', 'levantar', 'predicadores', 'requiere', 'bronce', 'virgen', 'timidez', 'separarse', 'grito', 'fantasmas', 'imponen', 'genios', 'protegerse', 'filosofar', 'volverán', 'profundidades', 'esconden', 'vulnerables', 'filólogo', 'caracteriza', 'invencibles', 'florecimiento', 'conviene', 'gastos', 'presentan', 'ganan', 'avanzada', 'fisiólogos', 'hogar', 'apoya', 'frecuentes', 'considerada', 'intacto', 'parecida', 'amaba', 'luchen', 'tratados', 'encanto', 'exigentes', 'emperador', 'volvieron', 'infiernos', 'grises', 'conceptuales', 'físicos', 'cultivar', 'serían', 'ad', 'falseamiento', 'equivale', 'deberíamos', 'serie', 'admirado', 'ajenos', 'cómodo', 'llamar', 'planificación', 'huye', 'tácticas', 'piadosos', 'convenir', 'aclaración', 'virtus', 'bloquea', 'respuestas', 'ensayar', 'hubiese', 'rudo', 'simple', 'terminó', 'comprende', 'tropical', 'sensualismo', 'cadenas', 'seria', 'asedio', 'átomo', 'terrestre', 'cuchillo', 'abnegación', 'testimonio', 'permítaseme', 'corno', 'venerables', 'emplea', 'nietzsche']\n"
          ]
        }
      ]
    },
    {
      "cell_type": "code",
      "execution_count": 20,
      "metadata": {
        "id": "6cHN9xGLuPEm",
        "colab": {
          "base_uri": "https://localhost:8080/"
        },
        "outputId": "bdacd98c-6ec5-4ea0-a3b1-a22d98ca07ac"
      },
      "outputs": [
        {
          "output_type": "execute_result",
          "data": {
            "text/plain": [
              "[('perspicacia', 0.5448550581932068),\n",
              " ('paciencia', 0.5437718033790588),\n",
              " ('emplea', 0.49166959524154663),\n",
              " ('tomas', 0.4717920124530792),\n",
              " ('cesar', 0.4618047773838043),\n",
              " ('caer', 0.4585486650466919),\n",
              " ('fecundos', 0.44971203804016113),\n",
              " ('entusiasta', 0.435783714056015),\n",
              " ('echar', 0.4348371624946594),\n",
              " ('empiezan', 0.43426331877708435)]"
            ]
          },
          "metadata": {},
          "execution_count": 20
        }
      ],
      "source": [
        "# Palabras que MÁS se relacionan con...:\n",
        "w2v_model.wv.most_similar(positive=[\"dinero\"], topn=10)"
      ]
    },
    {
      "cell_type": "code",
      "execution_count": 21,
      "metadata": {
        "id": "47HiU5gdkdMq",
        "colab": {
          "base_uri": "https://localhost:8080/"
        },
        "outputId": "af602ebe-0a50-4a3a-d1b0-40ada314433e"
      },
      "outputs": [
        {
          "output_type": "execute_result",
          "data": {
            "text/plain": [
              "[('así', 0.050296150147914886),\n",
              " ('conocer', 0.033056266605854034),\n",
              " ('últimas', 0.027654705569148064),\n",
              " ('tendrán', 0.021813642233610153),\n",
              " ('entonces', 0.020451411604881287),\n",
              " ('campaña', 0.009309171698987484),\n",
              " ('cuenta', 0.005527005530893803),\n",
              " ('acerca', 0.001309861778281629),\n",
              " ('seguir', -0.0028594934847205877),\n",
              " ('palabras', -0.005209891125559807)]"
            ]
          },
          "metadata": {},
          "execution_count": 21
        }
      ],
      "source": [
        "# Palabras que MENOS se relacionan con...:\n",
        "w2v_model.wv.most_similar(negative=[\"cristiana\"], topn=10)"
      ]
    },
    {
      "cell_type": "code",
      "execution_count": 22,
      "metadata": {
        "id": "DT4Rvno2mD65",
        "colab": {
          "base_uri": "https://localhost:8080/"
        },
        "outputId": "7f521b42-ee55-4d9a-c35e-259c9fbf059d"
      },
      "outputs": [
        {
          "output_type": "execute_result",
          "data": {
            "text/plain": [
              "[('extensión', 0.5438839793205261),\n",
              " ('señales', 0.5422955751419067),\n",
              " ('fatigas', 0.5176714658737183),\n",
              " ('ocupaciones', 0.5139970779418945),\n",
              " ('ocultas', 0.5028538107872009),\n",
              " ('divinas', 0.49800944328308105),\n",
              " ('orgánicas', 0.4836941361427307),\n",
              " ('religiosas', 0.4829261898994446),\n",
              " ('elevadas', 0.48077335953712463),\n",
              " ('bellas', 0.47957396507263184)]"
            ]
          },
          "metadata": {},
          "execution_count": 22
        }
      ],
      "source": [
        "# Palabras que MÁS se relacionan con...:\n",
        "w2v_model.wv.most_similar(positive=[\"ciencias\"], topn=10)"
      ]
    },
    {
      "cell_type": "code",
      "execution_count": 33,
      "metadata": {
        "id": "XPLDPgzBmQXt",
        "colab": {
          "base_uri": "https://localhost:8080/"
        },
        "outputId": "eba4818a-a231-4f91-c3a4-740abe84f677"
      },
      "outputs": [
        {
          "output_type": "execute_result",
          "data": {
            "text/plain": [
              "[('filosóficos', 0.5485836863517761),\n",
              " ('derrotados', 0.5347532629966736),\n",
              " ('lento', 0.5192877054214478),\n",
              " ('descubrimientos', 0.5088497996330261),\n",
              " ('aptos', 0.5061259865760803),\n",
              " ('enfermos', 0.5003628730773926),\n",
              " ('servidores', 0.48878902196884155),\n",
              " ('ignoran', 0.48024213314056396),\n",
              " ('primeros', 0.4797508716583252),\n",
              " ('confundir', 0.4746837019920349)]"
            ]
          },
          "metadata": {},
          "execution_count": 33
        }
      ],
      "source": [
        "# Palabras que MÁS se relacionan con...:\n",
        "w2v_model.wv.most_similar(positive=[\"trabajadores\"], topn=10)"
      ]
    },
    {
      "cell_type": "code",
      "source": [
        "# Palabras que MÁS se relacionan con...:\n",
        "w2v_model.wv.most_similar(positive=[\"amor\"], topn=10)"
      ],
      "metadata": {
        "colab": {
          "base_uri": "https://localhost:8080/"
        },
        "id": "Rxp5TvWrl4aI",
        "outputId": "4d2cb11d-a5cc-4929-d84e-2bc092fa113d"
      },
      "execution_count": 24,
      "outputs": [
        {
          "output_type": "execute_result",
          "data": {
            "text/plain": [
              "[('filosofa', 0.4219493567943573),\n",
              " ('marte', 0.40788111090660095),\n",
              " ('desear', 0.3956020772457123),\n",
              " ('inmortalidad', 0.3870488405227661),\n",
              " ('porvenir', 0.38544631004333496),\n",
              " ('bello', 0.3822583556175232),\n",
              " ('unido', 0.380338191986084),\n",
              " ('atrevo', 0.37355655431747437),\n",
              " ('graves', 0.3732393682003021),\n",
              " ('dioniso', 0.3696787655353546)]"
            ]
          },
          "metadata": {},
          "execution_count": 24
        }
      ]
    },
    {
      "cell_type": "code",
      "source": [
        "# Palabras que MÁS se relacionan con...:\n",
        "w2v_model.wv.most_similar(positive=[\"filosofía\"], topn=10)"
      ],
      "metadata": {
        "colab": {
          "base_uri": "https://localhost:8080/"
        },
        "id": "_vasWeCim3xG",
        "outputId": "aa6b4d18-c56a-4e9f-dd0c-0e296cab1c67"
      },
      "execution_count": 25,
      "outputs": [
        {
          "output_type": "execute_result",
          "data": {
            "text/plain": [
              "[('psicólogos', 0.3729061782360077),\n",
              " ('dogmática', 0.37032943964004517),\n",
              " ('richard', 0.36683133244514465),\n",
              " ('repercusión', 0.3664717972278595),\n",
              " ('luna', 0.35660916566848755),\n",
              " ('locura', 0.3536168038845062),\n",
              " ('ética', 0.35028690099716187),\n",
              " ('gigantesca', 0.35019341111183167),\n",
              " ('hipótesis', 0.34945276379585266),\n",
              " ('histórica', 0.34721341729164124)]"
            ]
          },
          "metadata": {},
          "execution_count": 25
        }
      ]
    },
    {
      "cell_type": "code",
      "execution_count": 26,
      "metadata": {
        "id": "L_UvHPMMklOr",
        "colab": {
          "base_uri": "https://localhost:8080/",
          "height": 304
        },
        "outputId": "fa8ce1b2-1c98-4484-f4c9-f18db031b267"
      },
      "outputs": [
        {
          "output_type": "error",
          "ename": "KeyError",
          "evalue": "\"Key 'diedaa' not present in vocabulary\"",
          "traceback": [
            "\u001b[0;31m---------------------------------------------------------------------------\u001b[0m",
            "\u001b[0;31mKeyError\u001b[0m                                  Traceback (most recent call last)",
            "\u001b[0;32m<ipython-input-26-93d902aa5dab>\u001b[0m in \u001b[0;36m<cell line: 0>\u001b[0;34m()\u001b[0m\n\u001b[1;32m      1\u001b[0m \u001b[0;31m# Ensayar con una palabra que no está en el vocabulario:\u001b[0m\u001b[0;34m\u001b[0m\u001b[0;34m\u001b[0m\u001b[0m\n\u001b[0;32m----> 2\u001b[0;31m \u001b[0mw2v_model\u001b[0m\u001b[0;34m.\u001b[0m\u001b[0mwv\u001b[0m\u001b[0;34m.\u001b[0m\u001b[0mmost_similar\u001b[0m\u001b[0;34m(\u001b[0m\u001b[0mnegative\u001b[0m\u001b[0;34m=\u001b[0m\u001b[0;34m[\u001b[0m\u001b[0;34m\"diedaa\"\u001b[0m\u001b[0;34m]\u001b[0m\u001b[0;34m)\u001b[0m\u001b[0;34m\u001b[0m\u001b[0;34m\u001b[0m\u001b[0m\n\u001b[0m",
            "\u001b[0;32m/usr/local/lib/python3.11/dist-packages/gensim/models/keyedvectors.py\u001b[0m in \u001b[0;36mmost_similar\u001b[0;34m(self, positive, negative, topn, clip_start, clip_end, restrict_vocab, indexer)\u001b[0m\n\u001b[1;32m    839\u001b[0m \u001b[0;34m\u001b[0m\u001b[0m\n\u001b[1;32m    840\u001b[0m         \u001b[0;31m# compute the weighted average of all keys\u001b[0m\u001b[0;34m\u001b[0m\u001b[0;34m\u001b[0m\u001b[0m\n\u001b[0;32m--> 841\u001b[0;31m         \u001b[0mmean\u001b[0m \u001b[0;34m=\u001b[0m \u001b[0mself\u001b[0m\u001b[0;34m.\u001b[0m\u001b[0mget_mean_vector\u001b[0m\u001b[0;34m(\u001b[0m\u001b[0mkeys\u001b[0m\u001b[0;34m,\u001b[0m \u001b[0mweight\u001b[0m\u001b[0;34m,\u001b[0m \u001b[0mpre_normalize\u001b[0m\u001b[0;34m=\u001b[0m\u001b[0;32mTrue\u001b[0m\u001b[0;34m,\u001b[0m \u001b[0mpost_normalize\u001b[0m\u001b[0;34m=\u001b[0m\u001b[0;32mTrue\u001b[0m\u001b[0;34m,\u001b[0m \u001b[0mignore_missing\u001b[0m\u001b[0;34m=\u001b[0m\u001b[0;32mFalse\u001b[0m\u001b[0;34m)\u001b[0m\u001b[0;34m\u001b[0m\u001b[0;34m\u001b[0m\u001b[0m\n\u001b[0m\u001b[1;32m    842\u001b[0m         all_keys = [\n\u001b[1;32m    843\u001b[0m             \u001b[0mself\u001b[0m\u001b[0;34m.\u001b[0m\u001b[0mget_index\u001b[0m\u001b[0;34m(\u001b[0m\u001b[0mkey\u001b[0m\u001b[0;34m)\u001b[0m \u001b[0;32mfor\u001b[0m \u001b[0mkey\u001b[0m \u001b[0;32min\u001b[0m \u001b[0mkeys\u001b[0m \u001b[0;32mif\u001b[0m \u001b[0misinstance\u001b[0m\u001b[0;34m(\u001b[0m\u001b[0mkey\u001b[0m\u001b[0;34m,\u001b[0m \u001b[0m_KEY_TYPES\u001b[0m\u001b[0;34m)\u001b[0m \u001b[0;32mand\u001b[0m \u001b[0mself\u001b[0m\u001b[0;34m.\u001b[0m\u001b[0mhas_index_for\u001b[0m\u001b[0;34m(\u001b[0m\u001b[0mkey\u001b[0m\u001b[0;34m)\u001b[0m\u001b[0;34m\u001b[0m\u001b[0;34m\u001b[0m\u001b[0m\n",
            "\u001b[0;32m/usr/local/lib/python3.11/dist-packages/gensim/models/keyedvectors.py\u001b[0m in \u001b[0;36mget_mean_vector\u001b[0;34m(self, keys, weights, pre_normalize, post_normalize, ignore_missing)\u001b[0m\n\u001b[1;32m    516\u001b[0m                 \u001b[0mtotal_weight\u001b[0m \u001b[0;34m+=\u001b[0m \u001b[0mabs\u001b[0m\u001b[0;34m(\u001b[0m\u001b[0mweights\u001b[0m\u001b[0;34m[\u001b[0m\u001b[0midx\u001b[0m\u001b[0;34m]\u001b[0m\u001b[0;34m)\u001b[0m\u001b[0;34m\u001b[0m\u001b[0;34m\u001b[0m\u001b[0m\n\u001b[1;32m    517\u001b[0m             \u001b[0;32melif\u001b[0m \u001b[0;32mnot\u001b[0m \u001b[0mignore_missing\u001b[0m\u001b[0;34m:\u001b[0m\u001b[0;34m\u001b[0m\u001b[0;34m\u001b[0m\u001b[0m\n\u001b[0;32m--> 518\u001b[0;31m                 \u001b[0;32mraise\u001b[0m \u001b[0mKeyError\u001b[0m\u001b[0;34m(\u001b[0m\u001b[0;34mf\"Key '{key}' not present in vocabulary\"\u001b[0m\u001b[0;34m)\u001b[0m\u001b[0;34m\u001b[0m\u001b[0;34m\u001b[0m\u001b[0m\n\u001b[0m\u001b[1;32m    519\u001b[0m \u001b[0;34m\u001b[0m\u001b[0m\n\u001b[1;32m    520\u001b[0m         \u001b[0;32mif\u001b[0m \u001b[0mtotal_weight\u001b[0m \u001b[0;34m>\u001b[0m \u001b[0;36m0\u001b[0m\u001b[0;34m:\u001b[0m\u001b[0;34m\u001b[0m\u001b[0;34m\u001b[0m\u001b[0m\n",
            "\u001b[0;31mKeyError\u001b[0m: \"Key 'diedaa' not present in vocabulary\""
          ]
        }
      ],
      "source": [
        "# Ensayar con una palabra que no está en el vocabulario:\n",
        "w2v_model.wv.most_similar(negative=[\"diedaa\"])"
      ]
    },
    {
      "cell_type": "code",
      "execution_count": 27,
      "metadata": {
        "id": "EcBEpCCU409J",
        "colab": {
          "base_uri": "https://localhost:8080/"
        },
        "outputId": "bf90f147-390f-4eca-da3e-6c7d81f2c202"
      },
      "outputs": [
        {
          "output_type": "stream",
          "name": "stdout",
          "text": [
            "[ 4.42739725e-02  7.27622330e-01 -6.56192839e-01 -2.57029176e-01\n",
            "  4.27362561e-01 -1.20748989e-01 -1.54156461e-01  6.75508454e-02\n",
            " -3.31059128e-01 -2.56771594e-01 -8.22252870e-01 -5.60161732e-02\n",
            " -8.00501034e-02  4.32416983e-02  3.20488930e-01 -1.34500295e-01\n",
            "  1.20256044e-01 -2.70081133e-01  6.17090240e-03 -1.50420964e-02\n",
            "  2.92279292e-02  8.62730965e-02 -2.77690440e-01 -1.28717748e-02\n",
            "  1.15688458e-01  2.86967844e-01 -5.23339927e-01 -8.86008963e-02\n",
            "  1.07192388e-02 -2.95371413e-01  6.12847954e-02 -6.74593449e-01\n",
            " -9.60733742e-02 -4.28698421e-01 -1.83260128e-01  2.93947071e-01\n",
            " -6.93581253e-02 -5.74513137e-01 -1.60835534e-01 -2.37855375e-01\n",
            "  3.38595957e-01  3.58535558e-01 -3.71404827e-01 -2.52312899e-01\n",
            " -2.57040001e-02 -4.45423089e-02 -1.06725669e+00 -5.19868076e-01\n",
            " -7.96640038e-01  2.22214878e-01  1.40375778e-01 -2.40627065e-01\n",
            " -5.10771051e-02  3.22579056e-01  4.18068975e-01  3.61968368e-01\n",
            " -4.79123980e-01 -7.98871040e-01 -1.82106540e-01  2.29816109e-01\n",
            " -6.38769865e-02 -5.70953786e-01  1.73446253e-01 -2.40284614e-02\n",
            " -3.22587758e-01 -1.78422362e-01  1.57612592e-01  1.18918741e+00\n",
            "  2.33155847e-01  5.04749894e-01 -9.48671550e-02 -1.84916481e-02\n",
            " -2.44350374e-01 -3.82183135e-01  4.46244895e-01  2.48385176e-01\n",
            "  1.85188591e-01 -2.11548939e-01 -1.67254031e-01 -6.48979127e-01\n",
            " -3.01880866e-01  6.96968809e-02  2.86412448e-01  5.80128849e-01\n",
            " -7.86045849e-01 -4.95010138e-01  4.58042234e-01  1.66290373e-01\n",
            " -5.94804466e-01  3.03516574e-02 -6.68785810e-01 -2.24903226e-01\n",
            " -2.06537843e-02  3.96787981e-03  2.00597554e-01 -6.18061721e-02\n",
            "  4.27162319e-01  9.98106971e-02 -5.91149612e-04 -4.94209975e-02\n",
            " -1.37244567e-01  4.63084877e-01 -6.01092458e-01  7.61648640e-02\n",
            "  3.24629068e-01  5.08237183e-02  3.97371113e-01 -6.14173263e-02\n",
            " -4.32271868e-01 -3.68237972e-01  6.81769907e-01 -7.32976794e-02\n",
            " -3.79457057e-01  4.60745990e-01  5.54251373e-01  3.32844675e-01\n",
            " -5.32465518e-01  5.39289266e-02 -5.02235711e-01 -1.57682836e-01\n",
            " -5.13470411e-01  2.32867777e-01 -2.08391417e-02 -7.04280213e-02\n",
            "  2.68014133e-01  5.81222773e-01  4.92546886e-01 -4.39359918e-02\n",
            "  1.46212980e-01  5.27154654e-02  1.59684688e-01  1.10005215e-01\n",
            "  1.16021827e-01  1.86858252e-01  1.03489123e-01  1.57871515e-01\n",
            "  6.87521040e-01 -1.28791094e-01  2.91345507e-01 -4.50719237e-01\n",
            "  9.77858365e-01 -4.40971434e-01  4.89169568e-01  1.71255916e-01\n",
            "  1.52542979e-01 -7.31521323e-02  2.41403788e-01  3.03546697e-01\n",
            "  2.88303308e-02  4.76687141e-02 -4.92699683e-01  6.42508507e-01\n",
            "  4.13234919e-01  1.57365188e-01  2.83197880e-01  2.45813467e-03\n",
            "  4.78447914e-01  2.77591974e-01  2.55340729e-02 -3.68399501e-01\n",
            " -1.02547266e-01 -2.98266500e-01  8.69574726e-01  8.96741897e-02\n",
            "  3.62151265e-01  1.10096955e+00  3.63430798e-01  3.71579528e-01\n",
            "  2.62936890e-01  5.43667197e-01  6.03370249e-01 -9.32040140e-02\n",
            " -1.23026453e-01 -2.68749557e-02 -4.38111097e-01  1.27955884e-01\n",
            " -8.27763021e-01  4.81631041e-01 -1.00678928e-01 -3.19293141e-01\n",
            " -1.61244184e-01 -2.07226053e-01  6.67651966e-02 -6.36174262e-01\n",
            " -8.33337784e-01 -3.22804630e-01  1.93207964e-01  8.77657756e-02\n",
            " -7.31327385e-02  8.83291841e-01  1.74522158e-02  7.99924955e-02\n",
            " -2.63244390e-01  1.50545025e-02  8.62309635e-02  9.52455029e-03\n",
            "  1.89322866e-02 -1.88403890e-01  6.77099466e-01 -3.10353208e-02]\n"
          ]
        }
      ],
      "source": [
        "# el método `get_vector` permite obtener los vectores:\n",
        "vector_love = w2v_model.wv.get_vector(\"amor\")\n",
        "print(vector_love)"
      ]
    },
    {
      "cell_type": "code",
      "execution_count": 28,
      "metadata": {
        "id": "WZI5uTRq409J",
        "colab": {
          "base_uri": "https://localhost:8080/"
        },
        "outputId": "aa51baa6-41b9-4714-d5ae-0477050ba62b"
      },
      "outputs": [
        {
          "output_type": "execute_result",
          "data": {
            "text/plain": [
              "[('amor', 1.0),\n",
              " ('filosofa', 0.4219493865966797),\n",
              " ('marte', 0.40788114070892334),\n",
              " ('desear', 0.3956020772457123),\n",
              " ('inmortalidad', 0.3870488703250885),\n",
              " ('porvenir', 0.38544631004333496),\n",
              " ('bello', 0.3822583556175232),\n",
              " ('unido', 0.3803381323814392),\n",
              " ('atrevo', 0.373556524515152),\n",
              " ('graves', 0.3732393682003021)]"
            ]
          },
          "metadata": {},
          "execution_count": 28
        }
      ],
      "source": [
        "# el método `most_similar` también permite comparar a partir de vectores\n",
        "w2v_model.wv.most_similar(vector_love)"
      ]
    },
    {
      "cell_type": "markdown",
      "source": [
        "## Conclusiones\n",
        "\n",
        "Por tratarse de un corpus con muy pocos documentos, los resultados son muy dependientes del preprocesamiento y de la forma de entrenar al modelo.\n",
        "\n",
        "No obstante, el análisis de palabras más y menos relacionadas en el espacio de embeddings revela algunos patrones interesantes sobre cómo el modelo ha capturado relaciones semánticas en los datos de entrenamiento. Algunos ejemplos:\n",
        "\n",
        "- \"dinero\":\n",
        "Se observan términos como \"emplea\", \"fondos\", \"césar\", \"echar\", y \"capital\", que podrían estar asociados con aspectos financieros, económicos o decisiones estratégicas. Sin embargo, algunas palabras como \"perspicacia\" y \"paciencia\" podrían sugerir un contexto donde el dinero se asocia con cualidades personales o habilidades necesarias para manejarlo.\n",
        "\n",
        "- \"cristiana\":\n",
        "Aquí se encuentran términos como \"así\", \"conocer\", \"últimas\", \"campaña\", y \"acerca\". Estas parecen ser palabras más neutras o genéricas, sin una fuerte carga semántica vinculada al término \"cristiana\", lo que indica que en el espacio vectorial no tienen una conexión relevante con conceptos religiosos.\n",
        "\n",
        "- \"ciencias\":\n",
        "Los términos más similares incluyen \"extensión\", \"señales\", \"fatigas\", \"divinas\", \"orgánicas\", y \"religiosas\". Es interesante notar la mezcla de términos científicos y algunos con connotaciones filosóficas o espirituales, lo que sugiere que en el corpus utilizado, la ciencia podría estar relacionada con cuestiones humanísticas o metafísicas.\n",
        "\n",
        "- \"trabajadores\":\n",
        "Aquí aparecen palabras como \"filosóficos\", \"derrotados\", \"lento\", \"enfermos\", \"servidores\", y \"ignoran\". Algunos de estos términos podrían sugerir un contexto de lucha laboral, condiciones laborales difíciles o reflexiones sobre la situación de los trabajadores en el corpus analizado."
      ],
      "metadata": {
        "id": "tjLoijLn23DU"
      }
    },
    {
      "cell_type": "markdown",
      "metadata": {
        "id": "_g8UVWe6lFmh"
      },
      "source": [
        "### 5 - Visualizar agrupación de vectores\n",
        "\n",
        "\n"
      ]
    },
    {
      "cell_type": "code",
      "execution_count": 29,
      "metadata": {
        "id": "pDxEVXAivjr9"
      },
      "outputs": [],
      "source": [
        "from sklearn.decomposition import IncrementalPCA\n",
        "from sklearn.manifold import TSNE\n",
        "import numpy as np\n",
        "\n",
        "def reduce_dimensions(model, num_dimensions = 2 ):\n",
        "\n",
        "    vectors = np.asarray(model.wv.vectors)\n",
        "    labels = np.asarray(model.wv.index_to_key)\n",
        "\n",
        "    tsne = TSNE(n_components=num_dimensions, random_state=0)\n",
        "    vectors = tsne.fit_transform(vectors)\n",
        "\n",
        "    return vectors, labels"
      ]
    },
    {
      "cell_type": "code",
      "execution_count": 30,
      "metadata": {
        "id": "NCCXtDpcugmd",
        "colab": {
          "base_uri": "https://localhost:8080/",
          "height": 785
        },
        "outputId": "19c90d55-917e-4c65-dc19-aa64b252c2a3"
      },
      "outputs": [
        {
          "output_type": "stream",
          "name": "stderr",
          "text": [
            "Exception ignored on calling ctypes callback function: <function ThreadpoolController._find_libraries_with_dl_iterate_phdr.<locals>.match_library_callback at 0x7bd0a9ee5e40>\n",
            "Traceback (most recent call last):\n",
            "  File \"/usr/local/lib/python3.11/dist-packages/threadpoolctl.py\", line 1005, in match_library_callback\n",
            "    self._make_controller_from_path(filepath)\n",
            "  File \"/usr/local/lib/python3.11/dist-packages/threadpoolctl.py\", line 1187, in _make_controller_from_path\n",
            "    lib_controller = controller_class(\n",
            "                     ^^^^^^^^^^^^^^^^^\n",
            "  File \"/usr/local/lib/python3.11/dist-packages/threadpoolctl.py\", line 114, in __init__\n",
            "    self.dynlib = ctypes.CDLL(filepath, mode=_RTLD_NOLOAD)\n",
            "                  ^^^^^^^^^^^^^^^^^^^^^^^^^^^^^^^^^^^^^^^^\n",
            "  File \"/usr/lib/python3.11/ctypes/__init__.py\", line 376, in __init__\n",
            "    self._handle = _dlopen(self._name, mode)\n",
            "                   ^^^^^^^^^^^^^^^^^^^^^^^^^\n",
            "OSError: dlopen() error\n"
          ]
        },
        {
          "output_type": "display_data",
          "data": {
            "text/html": [
              "<html>\n",
              "<head><meta charset=\"utf-8\" /></head>\n",
              "<body>\n",
              "    <div>            <script src=\"https://cdnjs.cloudflare.com/ajax/libs/mathjax/2.7.5/MathJax.js?config=TeX-AMS-MML_SVG\"></script><script type=\"text/javascript\">if (window.MathJax && window.MathJax.Hub && window.MathJax.Hub.Config) {window.MathJax.Hub.Config({SVG: {font: \"STIX-Web\"}});}</script>                <script type=\"text/javascript\">window.PlotlyConfig = {MathJaxConfig: 'local'};</script>\n",
              "        <script charset=\"utf-8\" src=\"https://cdn.plot.ly/plotly-2.35.2.min.js\"></script>                <div id=\"6f3fe806-517f-4959-adee-46948936a87a\" class=\"plotly-graph-div\" style=\"height:525px; width:100%;\"></div>            <script type=\"text/javascript\">                                    window.PLOTLYENV=window.PLOTLYENV || {};                                    if (document.getElementById(\"6f3fe806-517f-4959-adee-46948936a87a\")) {                    Plotly.newPlot(                        \"6f3fe806-517f-4959-adee-46948936a87a\",                        [{\"hovertemplate\":\"x=%{x}\\u003cbr\\u003ey=%{y}\\u003cbr\\u003etext=%{text}\\u003cextra\\u003e\\u003c\\u002fextra\\u003e\",\"legendgroup\":\"\",\"marker\":{\"color\":\"#636efa\",\"symbol\":\"circle\"},\"mode\":\"markers+text\",\"name\":\"\",\"orientation\":\"v\",\"showlegend\":false,\"text\":[\"de\",\"que\",\"la\",\"en\",\"el\",\"los\",\"no\",\"es\",\"se\",\"un\",\"una\",\"lo\",\"más\",\"por\",\"su\",\"las\",\"con\",\"del\",\"como\",\"para\",\"al\",\"si\",\"todo\",\"ha\",\"cuando\",\"sus\",\"pero\",\"ser\",\"hombre\",\"son\",\"sí\",\"mismo\",\"también\",\"amor\",\"qué\",\"le\",\"esto\",\"sobre\",\"me\",\"hasta\",\"nosotros\",\"sin\",\"todos\",\"hombres\",\"hay\",\"bien\",\"él\",\"ya\",\"entre\",\"porque\",\"ni\",\"así\",\"tiene\",\"ellos\",\"vez\",\"ese\",\"toda\",\"algo\",\"sólo\",\"cosas\",\"ahora\",\"cual\",\"tan\",\"este\",\"yo\",\"nos\",\"manera\",\"está\",\"pues\",\"modo\",\"incluso\",\"siempre\",\"voluntad\",\"puede\",\"moral\",\"decir\",\"esa\",\"sócrates\",\"muy\",\"contra\",\"vida\",\"tal\",\"sea\",\"otro\",\"hoy\",\"desde\",\"espíritu\",\"mundo\",\"tiempo\",\"nada\",\"todas\",\"fuerza\",\"especie\",\"tanto\",\"ella\",\"sino\",\"alma\",\"hecho\",\"todavía\",\"esta\",\"han\",\"parte\",\"cosa\",\"dios\",\"mi\",\"te\",\"aquí\",\"quien\",\"uno\",\"hacer\",\"mejor\",\"verdad\",\"les\",\"mujer\",\"hace\",\"enemigo\",\"misma\",\"hacia\",\"sido\",\"gran\",\"otros\",\"nuestra\",\"terreno\",\"acaso\",\"eso\",\"tener\",\"quiere\",\"gusto\",\"aquel\",\"están\",\"era\",\"naturaleza\",\"cómo\",\"ello\",\"después\",\"donde\",\"tienen\",\"tu\",\"forma\",\"arte\",\"otra\",\"ante\",\"poder\",\"dos\",\"filosofía\",\"general\",\"saber\",\"mucho\",\"casi\",\"parece\",\"europa\",\"agatón\",\"mismos\",\"ejemplo\",\"haya\",\"menos\",\"efecto\",\"tus\",\"he\",\"soldados\",\"precisamente\",\"cada\",\"nuestro\",\"tropas\",\"mí\",\"filósofos\",\"veces\",\"antes\",\"sentido\",\"lugar\",\"entonces\",\"cuales\",\"haber\",\"dioses\",\"vosotros\",\"fue\",\"fin\",\"conciencia\",\"tales\",\"poco\",\"filósofo\",\"demasiado\",\"aunque\",\"causa\",\"valor\",\"bajo\",\"victoria\",\"debe\",\"dicho\",\"ejército\",\"dijo\",\"razón\",\"posible\",\"compasión\",\"caso\",\"según\",\"justo\",\"aquella\",\"pueblo\",\"instinto\"],\"x\":[3.862078,4.3096085,3.9683092,3.9616106,4.102557,0.29625466,4.575238,4.570344,6.1999497,-12.804818,3.653753,4.7584662,-21.219728,3.560251,3.9102232,-9.122647,4.701954,3.6411572,17.774233,-10.280809,4.061533,0.10873077,10.375936,14.178708,-19.017372,1.758739,18.114895,17.36356,2.6208074,-7.8537827,11.749391,12.208907,-2.5874958,5.2494183,20.041525,10.557309,14.474916,-9.547913,20.576298,15.453023,20.03421,29.732347,-0.2847954,-8.080476,-7.1282115,8.171319,-3.8714237,15.521514,-2.5354507,14.799175,13.608532,-4.6654215,-6.892311,9.072478,24.350767,-20.19376,8.156007,-16.60263,1.1143137,15.231077,21.202763,11.358629,5.9011188,17.01683,-13.668081,12.61506,-0.6858434,-3.829371,20.422468,-4.728662,17.516142,11.386974,-1.7547458,-7.465307,6.0642023,13.9996,2.5498571,21.813955,11.766384,-14.954415,8.172295,4.919231,-10.344512,-4.32462,30.86576,-18.237244,-3.8513412,14.474932,8.978485,18.284685,-11.16574,-0.9552727,9.936155,-5.228392,14.369145,-7.5412736,7.9645643,21.914536,-27.834455,8.327617,14.715769,2.9622462,11.243667,4.5861697,25.555408,-13.325991,15.020055,5.909908,-7.0002675,-18.73673,21.064985,17.767635,7.174537,6.5659504,-17.630703,-4.8629265,-1.9688754,4.2774863,17.243803,-9.396555,11.322307,7.854565,-11.149211,-2.7957208,12.074387,-5.760623,-9.566559,3.0981827,-0.13529626,-8.83104,-1.563801,-5.5229864,10.950528,-26.072073,14.173017,-21.965914,-6.703349,19.01514,3.325325,1.0619135,12.901916,-0.101751946,-1.4374006,15.409497,8.4449,7.81221,13.212297,1.1869547,-24.98939,13.60787,2.6779344,21.294985,24.365486,17.792164,12.547592,28.468918,-7.2365847,-6.643472,22.123083,-5.872689,20.524347,-14.011935,25.550386,-8.840468,18.43621,-4.6751585,-2.5151763,0.16402443,-21.962072,-29.405596,22.249424,17.352419,19.03707,4.772708,26.07813,-6.1602182,15.742273,2.1338203,-7.94467,-14.622571,-9.524292,1.702755,-30.201273,-8.410941,-1.977301,-24.593266,-9.928978,-7.932407,23.864986,-11.58002,21.322435,25.857174,6.429396,31.96536,-4.9099894,4.2537394,10.173728,-12.632596,-10.154585,-19.264736],\"xaxis\":\"x\",\"y\":[-2.2490149,-2.2503166,-2.2979348,-2.2407546,-2.3020773,19.190825,-2.1453583,-2.4275048,-19.862486,-9.127561,-2.178694,-2.0056696,-8.717029,-2.2323668,-1.4184306,14.906384,-3.0024316,-2.8539214,16.361364,6.0178695,7.342003,12.489715,-0.004957664,6.7079964,-25.366758,17.983292,-5.026123,0.9108514,-11.575835,19.62517,-7.847154,-6.8483205,-17.512815,-14.546126,-5.1738873,-19.493895,-9.673823,-23.053387,0.98834944,6.6974306,8.415995,11.931976,18.716473,27.881044,-1.75708,2.458338,-11.51172,-2.4211469,16.916899,-4.359321,29.128761,-2.273948,-10.999047,2.7958648,11.520218,-12.0352745,-3.723737,-6.595414,12.95023,-14.568092,9.826546,-15.78633,-18.590525,0.46344194,-18.40971,-14.503513,1.4415573,10.766455,-4.5021896,-13.436076,-18.825352,3.9376688,0.30028325,-10.986985,10.845864,-10.508499,-8.442819,-3.3960502,-1.0021753,-12.582461,-1.7577642,-25.035696,-6.536352,-18.384169,-11.648951,3.7120605,-3.085783,-11.027091,-1.0211962,-2.167543,15.487244,7.568272,0.1847227,-17.359125,-3.5648637,-20.039557,-21.154314,4.6991534,-12.313484,0.75333893,11.023676,-24.729418,-9.759792,-20.468504,-6.6603656,-7.731802,-9.046956,-14.825237,-12.175506,7.310165,-16.08644,-4.4714465,13.759132,-23.90176,-1.7097884,9.649605,-2.5032938,-7.1485596,7.579009,-16.662968,25.921423,-8.444249,-7.7935367,-26.49123,-9.604236,-4.41843,-3.430716,-21.94303,-1.1259092,24.00768,-12.439451,-21.022787,-5.8998523,6.2220516,7.4248586,9.574864,22.343178,1.2206678,-24.130907,0.010389565,10.060987,-14.45164,-3.156685,25.699999,-3.7058852,-28.65436,-11.773174,9.672698,-0.3250191,-1.0631711,-11.161705,-0.88055325,-9.893794,22.52881,-0.8037286,2.80778,-13.372928,10.193037,2.895175,12.746694,-6.393071,30.792143,-10.881881,13.044183,0.17477521,22.819952,32.527756,11.733141,-6.4297743,-2.7106056,-6.000777,14.581204,8.550933,28.034187,5.520989,-9.363952,-7.472019,-11.729667,24.751814,-8.385368,-13.5422125,25.742125,4.570788,-28.9158,-24.612745,9.635567,-24.773764,0.31368437,4.182648,2.0222178,-1.587409,14.359088,-17.25724,4.682615,-19.845163,0.3000798,-9.078557,-11.190117,-12.587193,-1.2042615],\"yaxis\":\"y\",\"type\":\"scatter\"}],                        {\"template\":{\"data\":{\"histogram2dcontour\":[{\"type\":\"histogram2dcontour\",\"colorbar\":{\"outlinewidth\":0,\"ticks\":\"\"},\"colorscale\":[[0.0,\"#0d0887\"],[0.1111111111111111,\"#46039f\"],[0.2222222222222222,\"#7201a8\"],[0.3333333333333333,\"#9c179e\"],[0.4444444444444444,\"#bd3786\"],[0.5555555555555556,\"#d8576b\"],[0.6666666666666666,\"#ed7953\"],[0.7777777777777778,\"#fb9f3a\"],[0.8888888888888888,\"#fdca26\"],[1.0,\"#f0f921\"]]}],\"choropleth\":[{\"type\":\"choropleth\",\"colorbar\":{\"outlinewidth\":0,\"ticks\":\"\"}}],\"histogram2d\":[{\"type\":\"histogram2d\",\"colorbar\":{\"outlinewidth\":0,\"ticks\":\"\"},\"colorscale\":[[0.0,\"#0d0887\"],[0.1111111111111111,\"#46039f\"],[0.2222222222222222,\"#7201a8\"],[0.3333333333333333,\"#9c179e\"],[0.4444444444444444,\"#bd3786\"],[0.5555555555555556,\"#d8576b\"],[0.6666666666666666,\"#ed7953\"],[0.7777777777777778,\"#fb9f3a\"],[0.8888888888888888,\"#fdca26\"],[1.0,\"#f0f921\"]]}],\"heatmap\":[{\"type\":\"heatmap\",\"colorbar\":{\"outlinewidth\":0,\"ticks\":\"\"},\"colorscale\":[[0.0,\"#0d0887\"],[0.1111111111111111,\"#46039f\"],[0.2222222222222222,\"#7201a8\"],[0.3333333333333333,\"#9c179e\"],[0.4444444444444444,\"#bd3786\"],[0.5555555555555556,\"#d8576b\"],[0.6666666666666666,\"#ed7953\"],[0.7777777777777778,\"#fb9f3a\"],[0.8888888888888888,\"#fdca26\"],[1.0,\"#f0f921\"]]}],\"heatmapgl\":[{\"type\":\"heatmapgl\",\"colorbar\":{\"outlinewidth\":0,\"ticks\":\"\"},\"colorscale\":[[0.0,\"#0d0887\"],[0.1111111111111111,\"#46039f\"],[0.2222222222222222,\"#7201a8\"],[0.3333333333333333,\"#9c179e\"],[0.4444444444444444,\"#bd3786\"],[0.5555555555555556,\"#d8576b\"],[0.6666666666666666,\"#ed7953\"],[0.7777777777777778,\"#fb9f3a\"],[0.8888888888888888,\"#fdca26\"],[1.0,\"#f0f921\"]]}],\"contourcarpet\":[{\"type\":\"contourcarpet\",\"colorbar\":{\"outlinewidth\":0,\"ticks\":\"\"}}],\"contour\":[{\"type\":\"contour\",\"colorbar\":{\"outlinewidth\":0,\"ticks\":\"\"},\"colorscale\":[[0.0,\"#0d0887\"],[0.1111111111111111,\"#46039f\"],[0.2222222222222222,\"#7201a8\"],[0.3333333333333333,\"#9c179e\"],[0.4444444444444444,\"#bd3786\"],[0.5555555555555556,\"#d8576b\"],[0.6666666666666666,\"#ed7953\"],[0.7777777777777778,\"#fb9f3a\"],[0.8888888888888888,\"#fdca26\"],[1.0,\"#f0f921\"]]}],\"surface\":[{\"type\":\"surface\",\"colorbar\":{\"outlinewidth\":0,\"ticks\":\"\"},\"colorscale\":[[0.0,\"#0d0887\"],[0.1111111111111111,\"#46039f\"],[0.2222222222222222,\"#7201a8\"],[0.3333333333333333,\"#9c179e\"],[0.4444444444444444,\"#bd3786\"],[0.5555555555555556,\"#d8576b\"],[0.6666666666666666,\"#ed7953\"],[0.7777777777777778,\"#fb9f3a\"],[0.8888888888888888,\"#fdca26\"],[1.0,\"#f0f921\"]]}],\"mesh3d\":[{\"type\":\"mesh3d\",\"colorbar\":{\"outlinewidth\":0,\"ticks\":\"\"}}],\"scatter\":[{\"fillpattern\":{\"fillmode\":\"overlay\",\"size\":10,\"solidity\":0.2},\"type\":\"scatter\"}],\"parcoords\":[{\"type\":\"parcoords\",\"line\":{\"colorbar\":{\"outlinewidth\":0,\"ticks\":\"\"}}}],\"scatterpolargl\":[{\"type\":\"scatterpolargl\",\"marker\":{\"colorbar\":{\"outlinewidth\":0,\"ticks\":\"\"}}}],\"bar\":[{\"error_x\":{\"color\":\"#2a3f5f\"},\"error_y\":{\"color\":\"#2a3f5f\"},\"marker\":{\"line\":{\"color\":\"#E5ECF6\",\"width\":0.5},\"pattern\":{\"fillmode\":\"overlay\",\"size\":10,\"solidity\":0.2}},\"type\":\"bar\"}],\"scattergeo\":[{\"type\":\"scattergeo\",\"marker\":{\"colorbar\":{\"outlinewidth\":0,\"ticks\":\"\"}}}],\"scatterpolar\":[{\"type\":\"scatterpolar\",\"marker\":{\"colorbar\":{\"outlinewidth\":0,\"ticks\":\"\"}}}],\"histogram\":[{\"marker\":{\"pattern\":{\"fillmode\":\"overlay\",\"size\":10,\"solidity\":0.2}},\"type\":\"histogram\"}],\"scattergl\":[{\"type\":\"scattergl\",\"marker\":{\"colorbar\":{\"outlinewidth\":0,\"ticks\":\"\"}}}],\"scatter3d\":[{\"type\":\"scatter3d\",\"line\":{\"colorbar\":{\"outlinewidth\":0,\"ticks\":\"\"}},\"marker\":{\"colorbar\":{\"outlinewidth\":0,\"ticks\":\"\"}}}],\"scattermapbox\":[{\"type\":\"scattermapbox\",\"marker\":{\"colorbar\":{\"outlinewidth\":0,\"ticks\":\"\"}}}],\"scatterternary\":[{\"type\":\"scatterternary\",\"marker\":{\"colorbar\":{\"outlinewidth\":0,\"ticks\":\"\"}}}],\"scattercarpet\":[{\"type\":\"scattercarpet\",\"marker\":{\"colorbar\":{\"outlinewidth\":0,\"ticks\":\"\"}}}],\"carpet\":[{\"aaxis\":{\"endlinecolor\":\"#2a3f5f\",\"gridcolor\":\"white\",\"linecolor\":\"white\",\"minorgridcolor\":\"white\",\"startlinecolor\":\"#2a3f5f\"},\"baxis\":{\"endlinecolor\":\"#2a3f5f\",\"gridcolor\":\"white\",\"linecolor\":\"white\",\"minorgridcolor\":\"white\",\"startlinecolor\":\"#2a3f5f\"},\"type\":\"carpet\"}],\"table\":[{\"cells\":{\"fill\":{\"color\":\"#EBF0F8\"},\"line\":{\"color\":\"white\"}},\"header\":{\"fill\":{\"color\":\"#C8D4E3\"},\"line\":{\"color\":\"white\"}},\"type\":\"table\"}],\"barpolar\":[{\"marker\":{\"line\":{\"color\":\"#E5ECF6\",\"width\":0.5},\"pattern\":{\"fillmode\":\"overlay\",\"size\":10,\"solidity\":0.2}},\"type\":\"barpolar\"}],\"pie\":[{\"automargin\":true,\"type\":\"pie\"}]},\"layout\":{\"autotypenumbers\":\"strict\",\"colorway\":[\"#636efa\",\"#EF553B\",\"#00cc96\",\"#ab63fa\",\"#FFA15A\",\"#19d3f3\",\"#FF6692\",\"#B6E880\",\"#FF97FF\",\"#FECB52\"],\"font\":{\"color\":\"#2a3f5f\"},\"hovermode\":\"closest\",\"hoverlabel\":{\"align\":\"left\"},\"paper_bgcolor\":\"white\",\"plot_bgcolor\":\"#E5ECF6\",\"polar\":{\"bgcolor\":\"#E5ECF6\",\"angularaxis\":{\"gridcolor\":\"white\",\"linecolor\":\"white\",\"ticks\":\"\"},\"radialaxis\":{\"gridcolor\":\"white\",\"linecolor\":\"white\",\"ticks\":\"\"}},\"ternary\":{\"bgcolor\":\"#E5ECF6\",\"aaxis\":{\"gridcolor\":\"white\",\"linecolor\":\"white\",\"ticks\":\"\"},\"baxis\":{\"gridcolor\":\"white\",\"linecolor\":\"white\",\"ticks\":\"\"},\"caxis\":{\"gridcolor\":\"white\",\"linecolor\":\"white\",\"ticks\":\"\"}},\"coloraxis\":{\"colorbar\":{\"outlinewidth\":0,\"ticks\":\"\"}},\"colorscale\":{\"sequential\":[[0.0,\"#0d0887\"],[0.1111111111111111,\"#46039f\"],[0.2222222222222222,\"#7201a8\"],[0.3333333333333333,\"#9c179e\"],[0.4444444444444444,\"#bd3786\"],[0.5555555555555556,\"#d8576b\"],[0.6666666666666666,\"#ed7953\"],[0.7777777777777778,\"#fb9f3a\"],[0.8888888888888888,\"#fdca26\"],[1.0,\"#f0f921\"]],\"sequentialminus\":[[0.0,\"#0d0887\"],[0.1111111111111111,\"#46039f\"],[0.2222222222222222,\"#7201a8\"],[0.3333333333333333,\"#9c179e\"],[0.4444444444444444,\"#bd3786\"],[0.5555555555555556,\"#d8576b\"],[0.6666666666666666,\"#ed7953\"],[0.7777777777777778,\"#fb9f3a\"],[0.8888888888888888,\"#fdca26\"],[1.0,\"#f0f921\"]],\"diverging\":[[0,\"#8e0152\"],[0.1,\"#c51b7d\"],[0.2,\"#de77ae\"],[0.3,\"#f1b6da\"],[0.4,\"#fde0ef\"],[0.5,\"#f7f7f7\"],[0.6,\"#e6f5d0\"],[0.7,\"#b8e186\"],[0.8,\"#7fbc41\"],[0.9,\"#4d9221\"],[1,\"#276419\"]]},\"xaxis\":{\"gridcolor\":\"white\",\"linecolor\":\"white\",\"ticks\":\"\",\"title\":{\"standoff\":15},\"zerolinecolor\":\"white\",\"automargin\":true,\"zerolinewidth\":2},\"yaxis\":{\"gridcolor\":\"white\",\"linecolor\":\"white\",\"ticks\":\"\",\"title\":{\"standoff\":15},\"zerolinecolor\":\"white\",\"automargin\":true,\"zerolinewidth\":2},\"scene\":{\"xaxis\":{\"backgroundcolor\":\"#E5ECF6\",\"gridcolor\":\"white\",\"linecolor\":\"white\",\"showbackground\":true,\"ticks\":\"\",\"zerolinecolor\":\"white\",\"gridwidth\":2},\"yaxis\":{\"backgroundcolor\":\"#E5ECF6\",\"gridcolor\":\"white\",\"linecolor\":\"white\",\"showbackground\":true,\"ticks\":\"\",\"zerolinecolor\":\"white\",\"gridwidth\":2},\"zaxis\":{\"backgroundcolor\":\"#E5ECF6\",\"gridcolor\":\"white\",\"linecolor\":\"white\",\"showbackground\":true,\"ticks\":\"\",\"zerolinecolor\":\"white\",\"gridwidth\":2}},\"shapedefaults\":{\"line\":{\"color\":\"#2a3f5f\"}},\"annotationdefaults\":{\"arrowcolor\":\"#2a3f5f\",\"arrowhead\":0,\"arrowwidth\":1},\"geo\":{\"bgcolor\":\"white\",\"landcolor\":\"#E5ECF6\",\"subunitcolor\":\"white\",\"showland\":true,\"showlakes\":true,\"lakecolor\":\"white\"},\"title\":{\"x\":0.05},\"mapbox\":{\"style\":\"light\"}}},\"xaxis\":{\"anchor\":\"y\",\"domain\":[0.0,1.0],\"title\":{\"text\":\"x\"}},\"yaxis\":{\"anchor\":\"x\",\"domain\":[0.0,1.0],\"title\":{\"text\":\"y\"}},\"legend\":{\"tracegroupgap\":0},\"margin\":{\"t\":60}},                        {\"responsive\": true}                    ).then(function(){\n",
              "                            \n",
              "var gd = document.getElementById('6f3fe806-517f-4959-adee-46948936a87a');\n",
              "var x = new MutationObserver(function (mutations, observer) {{\n",
              "        var display = window.getComputedStyle(gd).display;\n",
              "        if (!display || display === 'none') {{\n",
              "            console.log([gd, 'removed!']);\n",
              "            Plotly.purge(gd);\n",
              "            observer.disconnect();\n",
              "        }}\n",
              "}});\n",
              "\n",
              "// Listen for the removal of the full notebook cells\n",
              "var notebookContainer = gd.closest('#notebook-container');\n",
              "if (notebookContainer) {{\n",
              "    x.observe(notebookContainer, {childList: true});\n",
              "}}\n",
              "\n",
              "// Listen for the clearing of the current output cell\n",
              "var outputEl = gd.closest('.output');\n",
              "if (outputEl) {{\n",
              "    x.observe(outputEl, {childList: true});\n",
              "}}\n",
              "\n",
              "                        })                };                            </script>        </div>\n",
              "</body>\n",
              "</html>"
            ]
          },
          "metadata": {}
        }
      ],
      "source": [
        "# Graficar los embedddings en 2D\n",
        "import plotly.graph_objects as go\n",
        "import plotly.express as px\n",
        "\n",
        "vecs, labels = reduce_dimensions(w2v_model)\n",
        "\n",
        "MAX_WORDS=200\n",
        "fig = px.scatter(x=vecs[:MAX_WORDS,0], y=vecs[:MAX_WORDS,1], text=labels[:MAX_WORDS])\n",
        "fig.show(renderer=\"colab\") # esto para plotly en colab"
      ]
    },
    {
      "cell_type": "code",
      "execution_count": 31,
      "metadata": {
        "id": "P1LPENJ0409K",
        "colab": {
          "base_uri": "https://localhost:8080/",
          "height": 542
        },
        "outputId": "57a54476-0133-437b-dc2f-4a2dda8e2b3c"
      },
      "outputs": [
        {
          "output_type": "display_data",
          "data": {
            "text/html": [
              "<html>\n",
              "<head><meta charset=\"utf-8\" /></head>\n",
              "<body>\n",
              "    <div>            <script src=\"https://cdnjs.cloudflare.com/ajax/libs/mathjax/2.7.5/MathJax.js?config=TeX-AMS-MML_SVG\"></script><script type=\"text/javascript\">if (window.MathJax && window.MathJax.Hub && window.MathJax.Hub.Config) {window.MathJax.Hub.Config({SVG: {font: \"STIX-Web\"}});}</script>                <script type=\"text/javascript\">window.PlotlyConfig = {MathJaxConfig: 'local'};</script>\n",
              "        <script charset=\"utf-8\" src=\"https://cdn.plot.ly/plotly-2.35.2.min.js\"></script>                <div id=\"5ed0c82d-5608-49c1-a8f0-add9229a3c06\" class=\"plotly-graph-div\" style=\"height:525px; width:100%;\"></div>            <script type=\"text/javascript\">                                    window.PLOTLYENV=window.PLOTLYENV || {};                                    if (document.getElementById(\"5ed0c82d-5608-49c1-a8f0-add9229a3c06\")) {                    Plotly.newPlot(                        \"5ed0c82d-5608-49c1-a8f0-add9229a3c06\",                        [{\"hovertemplate\":\"x=%{x}\\u003cbr\\u003ey=%{y}\\u003cbr\\u003ez=%{z}\\u003cbr\\u003etext=%{text}\\u003cextra\\u003e\\u003c\\u002fextra\\u003e\",\"legendgroup\":\"\",\"marker\":{\"color\":\"#636efa\",\"symbol\":\"circle\",\"size\":2},\"mode\":\"markers+text\",\"name\":\"\",\"scene\":\"scene\",\"showlegend\":false,\"text\":[\"de\",\"que\",\"la\",\"en\",\"el\",\"los\",\"no\",\"es\",\"se\",\"un\",\"una\",\"lo\",\"más\",\"por\",\"su\",\"las\",\"con\",\"del\",\"como\",\"para\",\"al\",\"si\",\"todo\",\"ha\",\"cuando\",\"sus\",\"pero\",\"ser\",\"hombre\",\"son\",\"sí\",\"mismo\",\"también\",\"amor\",\"qué\",\"le\",\"esto\",\"sobre\",\"me\",\"hasta\",\"nosotros\",\"sin\",\"todos\",\"hombres\",\"hay\",\"bien\",\"él\",\"ya\",\"entre\",\"porque\",\"ni\",\"así\",\"tiene\",\"ellos\",\"vez\",\"ese\",\"toda\",\"algo\",\"sólo\",\"cosas\",\"ahora\",\"cual\",\"tan\",\"este\",\"yo\",\"nos\",\"manera\",\"está\",\"pues\",\"modo\",\"incluso\",\"siempre\",\"voluntad\",\"puede\",\"moral\",\"decir\",\"esa\",\"sócrates\",\"muy\",\"contra\",\"vida\",\"tal\",\"sea\",\"otro\",\"hoy\",\"desde\",\"espíritu\",\"mundo\",\"tiempo\",\"nada\",\"todas\",\"fuerza\",\"especie\",\"tanto\",\"ella\",\"sino\",\"alma\",\"hecho\",\"todavía\",\"esta\",\"han\",\"parte\",\"cosa\",\"dios\",\"mi\",\"te\",\"aquí\",\"quien\",\"uno\",\"hacer\",\"mejor\",\"verdad\",\"les\",\"mujer\",\"hace\",\"enemigo\",\"misma\",\"hacia\",\"sido\",\"gran\",\"otros\",\"nuestra\",\"terreno\",\"acaso\",\"eso\",\"tener\",\"quiere\",\"gusto\",\"aquel\",\"están\",\"era\",\"naturaleza\",\"cómo\",\"ello\",\"después\",\"donde\",\"tienen\",\"tu\",\"forma\",\"arte\",\"otra\",\"ante\",\"poder\",\"dos\",\"filosofía\",\"general\",\"saber\",\"mucho\",\"casi\",\"parece\",\"europa\",\"agatón\",\"mismos\",\"ejemplo\",\"haya\",\"menos\",\"efecto\",\"tus\",\"he\",\"soldados\",\"precisamente\",\"cada\",\"nuestro\",\"tropas\",\"mí\",\"filósofos\",\"veces\",\"antes\",\"sentido\",\"lugar\",\"entonces\",\"cuales\",\"haber\",\"dioses\",\"vosotros\",\"fue\",\"fin\",\"conciencia\",\"tales\",\"poco\",\"filósofo\",\"demasiado\",\"aunque\",\"causa\",\"valor\",\"bajo\",\"victoria\",\"debe\",\"dicho\",\"ejército\",\"dijo\",\"razón\",\"posible\",\"compasión\",\"caso\",\"según\",\"justo\",\"aquella\",\"pueblo\",\"instinto\"],\"x\":[-3.1999054,-6.609146,-4.033994,-3.2330613,-6.737468,21.257301,-9.111674,-8.533225,-40.321655,-38.64818,-0.91668165,-7.924491,-13.721153,-2.911054,16.03497,7.9609513,-2.386816,-56.88443,3.2926722,-22.11953,3.6626413,-39.44416,-0.6890541,12.094865,-54.559982,10.008749,-8.940758,-36.53679,-13.384635,7.935358,-14.878139,-11.562965,-12.859015,-16.89281,-2.21365,8.020484,6.0437317,-28.388712,-12.880095,6.631572,-15.822106,8.429527,24.255844,21.3354,-14.462583,-14.270925,-27.858229,-25.031511,2.3279502,-15.880563,43.76361,-35.190506,-10.322448,-14.698929,49.61709,-16.237492,17.267828,-36.60856,-38.276104,19.728827,0.3238665,-4.412692,-30.569714,-16.422276,-41.258736,-7.075925,10.1141405,-36.112167,0.6183708,-23.62834,8.433132,16.488588,1.8543731,-11.090245,9.175995,-18.972128,20.156086,-1.0008663,-8.000126,-48.547596,-1.9441081,31.23711,-25.386377,-14.108233,-45.358948,-14.615832,7.6287055,18.260313,0.34701082,-23.617579,-17.738482,11.859838,5.5111685,-46.42732,-21.902868,-27.22744,9.754748,-16.774994,-49.416004,17.137758,49.40329,-23.326162,7.4534693,-30.43471,-41.919178,-35.032944,18.944729,-20.272196,-17.07281,-22.979391,-21.637321,-20.209347,6.446504,2.664385,-27.866552,-18.701015,9.700044,24.636839,7.4003,-15.93733,-2.302107,13.515426,-35.332344,-49.0732,26.277407,-2.4450495,-33.319725,21.502644,19.142744,3.8782153,-9.752075,-35.23889,-46.92839,0.1522556,23.104006,-1.0653875,-1.5559283,-16.173672,-48.28908,6.1832943,25.055721,30.10415,22.405514,-15.602158,40.81993,25.690664,-24.445528,-4.9863386,21.586426,-10.903677,33.60902,1.7892026,-5.4662867,46.87535,-5.22459,-3.684227,-16.845667,-9.137544,-13.500635,0.08251201,-5.6708627,11.506892,-11.31068,-15.089054,-16.908094,15.056341,-2.2794619,-17.945713,-5.272056,-2.928539,-28.681969,4.9498334,4.390824,9.528305,0.54669607,-34.06157,10.8254175,29.22546,9.927077,-45.41032,-6.8510404,8.2699995,-33.79977,-23.53561,36.541576,9.497319,-25.439648,-6.064715,-16.103777,-24.27076,0.36700764,27.941784,-24.07123,34.242764,-11.179429,35.300026,-12.611303,-41.52026,-2.6127596,-41.066074],\"y\":[7.6212564,9.690563,10.042008,8.549194,5.955962,-19.937168,9.873636,8.720407,1.1873848,-33.274227,5.230317,13.354654,-37.934402,7.5098248,35.603573,27.962507,14.076596,-13.105072,-51.143883,-12.914485,-33.40105,35.254402,-3.7524002,-8.1419525,3.406362,-4.9867687,24.691875,6.0178213,-16.74611,4.642206,30.214548,29.676767,-34.64095,2.3970158,26.92457,-31.068464,-10.298156,14.346746,10.54315,-17.783762,38.813072,57.58816,6.116723,-23.139893,-10.086678,8.860259,-1.329639,20.952456,5.979515,21.712212,17.464367,33.15389,-18.704123,9.877286,9.87444,-44.297565,11.622139,-5.4146,6.8817005,33.62328,-16.3034,6.3082805,10.781965,1.2129303,0.80590093,15.593457,11.995255,9.2386675,31.352276,1.6448244,1.2452338,6.8244433,19.494062,-23.775047,28.389862,-9.8158,-13.990684,19.423086,0.5296751,-15.718372,1.2505125,10.588628,-12.493572,-13.232689,33.77196,-9.055256,-13.945319,-23.739225,-6.883241,5.9048886,20.049522,-16.31016,6.5114675,33.74658,19.259516,-12.910974,-6.5844584,31.02068,10.66365,9.413138,20.811552,46.53246,9.332799,35.623203,14.436799,14.021777,-7.520163,25.94642,18.809456,31.073458,13.3400345,40.506516,44.64598,-26.071516,-24.17299,-12.42184,-0.97420746,-23.27097,-6.6062007,-27.31447,56.755756,31.391705,-9.219723,24.61337,-2.4849355,-19.126137,-10.333042,-20.680677,-29.629679,-19.212774,-8.713498,-14.39661,12.63199,-17.47661,-7.380646,-53.78712,20.155685,5.841628,14.204775,33.17243,6.676929,21.39344,-29.046381,39.466866,9.771832,47.073727,26.165838,-15.499644,-15.768643,5.85023,-16.452099,27.321714,38.20783,24.976564,4.0902185,31.283375,-20.211342,-16.243284,22.968645,0.37889567,32.763206,-19.551846,38.66591,-9.637195,6.367855,8.881607,-44.56573,-9.095264,-55.239975,16.12255,15.252562,35.190845,11.967351,29.1004,42.458527,-6.757067,42.51582,-17.11034,-18.84406,-22.599667,-18.001715,-43.787914,-45.925766,44.132347,45.405228,-9.841127,9.587596,-28.48158,27.729166,-14.609068,10.553219,39.89562,7.4189687,32.58259,-16.568094,27.793476,13.659905,-10.387164,-22.989496,-24.80446],\"z\":[2.0555532,3.3190498,1.7037545,5.088171,2.7304215,-30.327238,1.2751207,6.416426,22.756214,25.771946,2.2683673,4.564354,3.7318375,-1.6019757,11.172364,-21.634174,4.6532598,4.869756,9.371131,-11.952028,-8.382044,-10.661172,22.80517,49.35154,-22.501179,-28.2537,18.956434,39.14988,40.064957,-24.78588,8.162492,3.2663393,22.627302,7.673284,21.93092,5.3008227,53.873302,-11.064421,39.40661,37.212666,16.846533,-0.071258694,-30.02821,-33.071766,3.1057198,7.360761,9.312882,22.471197,-34.2139,18.101454,-30.35399,-26.640526,14.165519,1.9088001,14.377822,15.31372,10.323447,5.9062123,-17.88515,44.71278,52.09784,10.254162,17.107258,29.491983,30.710667,9.942049,-4.0304523,-31.516834,30.027624,5.386166,53.881775,24.460657,-4.1531453,12.168717,0.59360206,53.57845,6.671206,40.89322,23.149334,-17.779053,13.095789,11.854412,-6.6874886,26.202242,-0.3041258,9.146038,1.64063,47.438515,16.94619,46.920876,-33.842587,-12.276792,31.14095,10.350504,17.294727,42.07028,24.610336,24.965326,28.140703,-8.95504,-5.8458357,-13.384314,19.783684,4.352392,23.983404,28.779177,53.53174,19.254393,12.963804,-19.501713,52.476833,34.40631,-25.340757,21.685593,44.174618,-18.114893,12.209043,0.23756143,43.424053,32.86228,9.972722,23.915676,-20.957758,14.178741,43.144592,7.5566664,8.006683,15.450766,4.402174,-40.031452,14.465361,43.929268,13.005604,0.43641847,39.538445,-11.990322,-22.074743,49.46943,4.184803,3.5045848,40.961292,8.2845955,-4.745254,-37.726128,11.509923,-2.2515163,2.6087759,-12.4216175,0.3336906,29.670229,5.6409526,44.479473,0.32188433,-22.71234,25.444508,14.757578,22.212349,-23.97034,26.138556,-21.236351,26.455101,-7.4222603,-6.183296,-39.667423,32.375237,-39.384335,-13.588959,-12.964506,3.2709594,-29.112316,33.144424,-35.63732,27.385979,-5.9473953,24.554523,39.28651,38.767662,8.546109,-42.855164,19.199713,47.365273,-18.222067,12.759534,-21.599415,-1.1248955,-4.651035,-8.075898,-10.207319,37.441692,-19.045998,32.393818,29.688044,14.996691,30.32759,22.318586,-20.249718,13.127636,12.198617,19.699068,-12.006164],\"type\":\"scatter3d\"}],                        {\"template\":{\"data\":{\"histogram2dcontour\":[{\"type\":\"histogram2dcontour\",\"colorbar\":{\"outlinewidth\":0,\"ticks\":\"\"},\"colorscale\":[[0.0,\"#0d0887\"],[0.1111111111111111,\"#46039f\"],[0.2222222222222222,\"#7201a8\"],[0.3333333333333333,\"#9c179e\"],[0.4444444444444444,\"#bd3786\"],[0.5555555555555556,\"#d8576b\"],[0.6666666666666666,\"#ed7953\"],[0.7777777777777778,\"#fb9f3a\"],[0.8888888888888888,\"#fdca26\"],[1.0,\"#f0f921\"]]}],\"choropleth\":[{\"type\":\"choropleth\",\"colorbar\":{\"outlinewidth\":0,\"ticks\":\"\"}}],\"histogram2d\":[{\"type\":\"histogram2d\",\"colorbar\":{\"outlinewidth\":0,\"ticks\":\"\"},\"colorscale\":[[0.0,\"#0d0887\"],[0.1111111111111111,\"#46039f\"],[0.2222222222222222,\"#7201a8\"],[0.3333333333333333,\"#9c179e\"],[0.4444444444444444,\"#bd3786\"],[0.5555555555555556,\"#d8576b\"],[0.6666666666666666,\"#ed7953\"],[0.7777777777777778,\"#fb9f3a\"],[0.8888888888888888,\"#fdca26\"],[1.0,\"#f0f921\"]]}],\"heatmap\":[{\"type\":\"heatmap\",\"colorbar\":{\"outlinewidth\":0,\"ticks\":\"\"},\"colorscale\":[[0.0,\"#0d0887\"],[0.1111111111111111,\"#46039f\"],[0.2222222222222222,\"#7201a8\"],[0.3333333333333333,\"#9c179e\"],[0.4444444444444444,\"#bd3786\"],[0.5555555555555556,\"#d8576b\"],[0.6666666666666666,\"#ed7953\"],[0.7777777777777778,\"#fb9f3a\"],[0.8888888888888888,\"#fdca26\"],[1.0,\"#f0f921\"]]}],\"heatmapgl\":[{\"type\":\"heatmapgl\",\"colorbar\":{\"outlinewidth\":0,\"ticks\":\"\"},\"colorscale\":[[0.0,\"#0d0887\"],[0.1111111111111111,\"#46039f\"],[0.2222222222222222,\"#7201a8\"],[0.3333333333333333,\"#9c179e\"],[0.4444444444444444,\"#bd3786\"],[0.5555555555555556,\"#d8576b\"],[0.6666666666666666,\"#ed7953\"],[0.7777777777777778,\"#fb9f3a\"],[0.8888888888888888,\"#fdca26\"],[1.0,\"#f0f921\"]]}],\"contourcarpet\":[{\"type\":\"contourcarpet\",\"colorbar\":{\"outlinewidth\":0,\"ticks\":\"\"}}],\"contour\":[{\"type\":\"contour\",\"colorbar\":{\"outlinewidth\":0,\"ticks\":\"\"},\"colorscale\":[[0.0,\"#0d0887\"],[0.1111111111111111,\"#46039f\"],[0.2222222222222222,\"#7201a8\"],[0.3333333333333333,\"#9c179e\"],[0.4444444444444444,\"#bd3786\"],[0.5555555555555556,\"#d8576b\"],[0.6666666666666666,\"#ed7953\"],[0.7777777777777778,\"#fb9f3a\"],[0.8888888888888888,\"#fdca26\"],[1.0,\"#f0f921\"]]}],\"surface\":[{\"type\":\"surface\",\"colorbar\":{\"outlinewidth\":0,\"ticks\":\"\"},\"colorscale\":[[0.0,\"#0d0887\"],[0.1111111111111111,\"#46039f\"],[0.2222222222222222,\"#7201a8\"],[0.3333333333333333,\"#9c179e\"],[0.4444444444444444,\"#bd3786\"],[0.5555555555555556,\"#d8576b\"],[0.6666666666666666,\"#ed7953\"],[0.7777777777777778,\"#fb9f3a\"],[0.8888888888888888,\"#fdca26\"],[1.0,\"#f0f921\"]]}],\"mesh3d\":[{\"type\":\"mesh3d\",\"colorbar\":{\"outlinewidth\":0,\"ticks\":\"\"}}],\"scatter\":[{\"fillpattern\":{\"fillmode\":\"overlay\",\"size\":10,\"solidity\":0.2},\"type\":\"scatter\"}],\"parcoords\":[{\"type\":\"parcoords\",\"line\":{\"colorbar\":{\"outlinewidth\":0,\"ticks\":\"\"}}}],\"scatterpolargl\":[{\"type\":\"scatterpolargl\",\"marker\":{\"colorbar\":{\"outlinewidth\":0,\"ticks\":\"\"}}}],\"bar\":[{\"error_x\":{\"color\":\"#2a3f5f\"},\"error_y\":{\"color\":\"#2a3f5f\"},\"marker\":{\"line\":{\"color\":\"#E5ECF6\",\"width\":0.5},\"pattern\":{\"fillmode\":\"overlay\",\"size\":10,\"solidity\":0.2}},\"type\":\"bar\"}],\"scattergeo\":[{\"type\":\"scattergeo\",\"marker\":{\"colorbar\":{\"outlinewidth\":0,\"ticks\":\"\"}}}],\"scatterpolar\":[{\"type\":\"scatterpolar\",\"marker\":{\"colorbar\":{\"outlinewidth\":0,\"ticks\":\"\"}}}],\"histogram\":[{\"marker\":{\"pattern\":{\"fillmode\":\"overlay\",\"size\":10,\"solidity\":0.2}},\"type\":\"histogram\"}],\"scattergl\":[{\"type\":\"scattergl\",\"marker\":{\"colorbar\":{\"outlinewidth\":0,\"ticks\":\"\"}}}],\"scatter3d\":[{\"type\":\"scatter3d\",\"line\":{\"colorbar\":{\"outlinewidth\":0,\"ticks\":\"\"}},\"marker\":{\"colorbar\":{\"outlinewidth\":0,\"ticks\":\"\"}}}],\"scattermapbox\":[{\"type\":\"scattermapbox\",\"marker\":{\"colorbar\":{\"outlinewidth\":0,\"ticks\":\"\"}}}],\"scatterternary\":[{\"type\":\"scatterternary\",\"marker\":{\"colorbar\":{\"outlinewidth\":0,\"ticks\":\"\"}}}],\"scattercarpet\":[{\"type\":\"scattercarpet\",\"marker\":{\"colorbar\":{\"outlinewidth\":0,\"ticks\":\"\"}}}],\"carpet\":[{\"aaxis\":{\"endlinecolor\":\"#2a3f5f\",\"gridcolor\":\"white\",\"linecolor\":\"white\",\"minorgridcolor\":\"white\",\"startlinecolor\":\"#2a3f5f\"},\"baxis\":{\"endlinecolor\":\"#2a3f5f\",\"gridcolor\":\"white\",\"linecolor\":\"white\",\"minorgridcolor\":\"white\",\"startlinecolor\":\"#2a3f5f\"},\"type\":\"carpet\"}],\"table\":[{\"cells\":{\"fill\":{\"color\":\"#EBF0F8\"},\"line\":{\"color\":\"white\"}},\"header\":{\"fill\":{\"color\":\"#C8D4E3\"},\"line\":{\"color\":\"white\"}},\"type\":\"table\"}],\"barpolar\":[{\"marker\":{\"line\":{\"color\":\"#E5ECF6\",\"width\":0.5},\"pattern\":{\"fillmode\":\"overlay\",\"size\":10,\"solidity\":0.2}},\"type\":\"barpolar\"}],\"pie\":[{\"automargin\":true,\"type\":\"pie\"}]},\"layout\":{\"autotypenumbers\":\"strict\",\"colorway\":[\"#636efa\",\"#EF553B\",\"#00cc96\",\"#ab63fa\",\"#FFA15A\",\"#19d3f3\",\"#FF6692\",\"#B6E880\",\"#FF97FF\",\"#FECB52\"],\"font\":{\"color\":\"#2a3f5f\"},\"hovermode\":\"closest\",\"hoverlabel\":{\"align\":\"left\"},\"paper_bgcolor\":\"white\",\"plot_bgcolor\":\"#E5ECF6\",\"polar\":{\"bgcolor\":\"#E5ECF6\",\"angularaxis\":{\"gridcolor\":\"white\",\"linecolor\":\"white\",\"ticks\":\"\"},\"radialaxis\":{\"gridcolor\":\"white\",\"linecolor\":\"white\",\"ticks\":\"\"}},\"ternary\":{\"bgcolor\":\"#E5ECF6\",\"aaxis\":{\"gridcolor\":\"white\",\"linecolor\":\"white\",\"ticks\":\"\"},\"baxis\":{\"gridcolor\":\"white\",\"linecolor\":\"white\",\"ticks\":\"\"},\"caxis\":{\"gridcolor\":\"white\",\"linecolor\":\"white\",\"ticks\":\"\"}},\"coloraxis\":{\"colorbar\":{\"outlinewidth\":0,\"ticks\":\"\"}},\"colorscale\":{\"sequential\":[[0.0,\"#0d0887\"],[0.1111111111111111,\"#46039f\"],[0.2222222222222222,\"#7201a8\"],[0.3333333333333333,\"#9c179e\"],[0.4444444444444444,\"#bd3786\"],[0.5555555555555556,\"#d8576b\"],[0.6666666666666666,\"#ed7953\"],[0.7777777777777778,\"#fb9f3a\"],[0.8888888888888888,\"#fdca26\"],[1.0,\"#f0f921\"]],\"sequentialminus\":[[0.0,\"#0d0887\"],[0.1111111111111111,\"#46039f\"],[0.2222222222222222,\"#7201a8\"],[0.3333333333333333,\"#9c179e\"],[0.4444444444444444,\"#bd3786\"],[0.5555555555555556,\"#d8576b\"],[0.6666666666666666,\"#ed7953\"],[0.7777777777777778,\"#fb9f3a\"],[0.8888888888888888,\"#fdca26\"],[1.0,\"#f0f921\"]],\"diverging\":[[0,\"#8e0152\"],[0.1,\"#c51b7d\"],[0.2,\"#de77ae\"],[0.3,\"#f1b6da\"],[0.4,\"#fde0ef\"],[0.5,\"#f7f7f7\"],[0.6,\"#e6f5d0\"],[0.7,\"#b8e186\"],[0.8,\"#7fbc41\"],[0.9,\"#4d9221\"],[1,\"#276419\"]]},\"xaxis\":{\"gridcolor\":\"white\",\"linecolor\":\"white\",\"ticks\":\"\",\"title\":{\"standoff\":15},\"zerolinecolor\":\"white\",\"automargin\":true,\"zerolinewidth\":2},\"yaxis\":{\"gridcolor\":\"white\",\"linecolor\":\"white\",\"ticks\":\"\",\"title\":{\"standoff\":15},\"zerolinecolor\":\"white\",\"automargin\":true,\"zerolinewidth\":2},\"scene\":{\"xaxis\":{\"backgroundcolor\":\"#E5ECF6\",\"gridcolor\":\"white\",\"linecolor\":\"white\",\"showbackground\":true,\"ticks\":\"\",\"zerolinecolor\":\"white\",\"gridwidth\":2},\"yaxis\":{\"backgroundcolor\":\"#E5ECF6\",\"gridcolor\":\"white\",\"linecolor\":\"white\",\"showbackground\":true,\"ticks\":\"\",\"zerolinecolor\":\"white\",\"gridwidth\":2},\"zaxis\":{\"backgroundcolor\":\"#E5ECF6\",\"gridcolor\":\"white\",\"linecolor\":\"white\",\"showbackground\":true,\"ticks\":\"\",\"zerolinecolor\":\"white\",\"gridwidth\":2}},\"shapedefaults\":{\"line\":{\"color\":\"#2a3f5f\"}},\"annotationdefaults\":{\"arrowcolor\":\"#2a3f5f\",\"arrowhead\":0,\"arrowwidth\":1},\"geo\":{\"bgcolor\":\"white\",\"landcolor\":\"#E5ECF6\",\"subunitcolor\":\"white\",\"showland\":true,\"showlakes\":true,\"lakecolor\":\"white\"},\"title\":{\"x\":0.05},\"mapbox\":{\"style\":\"light\"}}},\"scene\":{\"domain\":{\"x\":[0.0,1.0],\"y\":[0.0,1.0]},\"xaxis\":{\"title\":{\"text\":\"x\"}},\"yaxis\":{\"title\":{\"text\":\"y\"}},\"zaxis\":{\"title\":{\"text\":\"z\"}}},\"legend\":{\"tracegroupgap\":0},\"margin\":{\"t\":60}},                        {\"responsive\": true}                    ).then(function(){\n",
              "                            \n",
              "var gd = document.getElementById('5ed0c82d-5608-49c1-a8f0-add9229a3c06');\n",
              "var x = new MutationObserver(function (mutations, observer) {{\n",
              "        var display = window.getComputedStyle(gd).display;\n",
              "        if (!display || display === 'none') {{\n",
              "            console.log([gd, 'removed!']);\n",
              "            Plotly.purge(gd);\n",
              "            observer.disconnect();\n",
              "        }}\n",
              "}});\n",
              "\n",
              "// Listen for the removal of the full notebook cells\n",
              "var notebookContainer = gd.closest('#notebook-container');\n",
              "if (notebookContainer) {{\n",
              "    x.observe(notebookContainer, {childList: true});\n",
              "}}\n",
              "\n",
              "// Listen for the clearing of the current output cell\n",
              "var outputEl = gd.closest('.output');\n",
              "if (outputEl) {{\n",
              "    x.observe(outputEl, {childList: true});\n",
              "}}\n",
              "\n",
              "                        })                };                            </script>        </div>\n",
              "</body>\n",
              "</html>"
            ]
          },
          "metadata": {}
        }
      ],
      "source": [
        "# Graficar los embedddings en 3D\n",
        "\n",
        "vecs, labels = reduce_dimensions(w2v_model,3)\n",
        "\n",
        "fig = px.scatter_3d(x=vecs[:MAX_WORDS,0], y=vecs[:MAX_WORDS,1], z=vecs[:MAX_WORDS,2],text=labels[:MAX_WORDS])\n",
        "fig.update_traces(marker_size = 2)\n",
        "fig.show(renderer=\"colab\") # esto para plotly en colab"
      ]
    },
    {
      "cell_type": "code",
      "execution_count": 32,
      "metadata": {
        "id": "Axk8Itx_409K"
      },
      "outputs": [],
      "source": [
        "# También se pueden guardar los vectores y labels como tsv para graficar en\n",
        "# http://projector.tensorflow.org/\n",
        "\n",
        "\n",
        "vectors = np.asarray(w2v_model.wv.vectors)\n",
        "labels = list(w2v_model.wv.index_to_key)\n",
        "\n",
        "np.savetxt(\"vectors.tsv\", vectors, delimiter=\"\\t\")\n",
        "\n",
        "with open(\"labels.tsv\", \"w\") as fp:\n",
        "    for item in labels:\n",
        "        fp.write(\"%s\\n\" % item)"
      ]
    },
    {
      "cell_type": "markdown",
      "source": [
        "### 6 - Test de Analogías\n"
      ],
      "metadata": {
        "id": "0P8CM1JO6TeW"
      }
    },
    {
      "cell_type": "code",
      "source": [
        "print(w2v_model.wv.most_similar(positive=[\"dinero\", \"trabajo\"], negative=[\"riqueza\"], topn=5))"
      ],
      "metadata": {
        "colab": {
          "base_uri": "https://localhost:8080/"
        },
        "id": "dNtSSe7E7kr4",
        "outputId": "2120167e-5ab1-4ab9-f285-9ad0fb54a3d6"
      },
      "execution_count": 47,
      "outputs": [
        {
          "output_type": "stream",
          "name": "stdout",
          "text": [
            "[('perspicacia', 0.4525822401046753), ('infiernos', 0.38808712363243103), ('festín', 0.3599822521209717), ('paciencia', 0.3569086194038391), ('suelo', 0.3557209074497223)]\n"
          ]
        }
      ]
    },
    {
      "cell_type": "code",
      "source": [
        "print(w2v_model.wv.most_similar(positive=[\"hombre\", \"virtud\"], negative=[\"mujer\"], topn=5))\n",
        "print(w2v_model.wv.most_similar(positive=[\"razón\", \"conocimiento\"], negative=[\"instinto\"], topn=5))\n",
        "print(w2v_model.wv.most_similar(positive=[\"arte\", \"belleza\"], negative=[\"ciencia\"], topn=5))\n",
        "print(w2v_model.wv.most_similar(positive=[\"fuerza\", \"triunfo\"], negative=[\"debilidad\"], topn=5))\n",
        "print(w2v_model.wv.most_similar(positive=[\"justicia\", \"ley\"], negative=[\"corrupción\"], topn=5))\n",
        "print(w2v_model.wv.most_similar(positive=[\"amor\", \"pasión\"], negative=[\"indiferencia\"], topn=5))\n"
      ],
      "metadata": {
        "colab": {
          "base_uri": "https://localhost:8080/"
        },
        "id": "R0ZXMU1h7z4t",
        "outputId": "08b0724e-ff1c-4660-c7aa-58f6f90b50a6"
      },
      "execution_count": 51,
      "outputs": [
        {
          "output_type": "stream",
          "name": "stdout",
          "text": [
            "[('malentendidos', 0.29007768630981445), ('ironía', 0.2850981652736664), ('moviliza', 0.2749691307544708), ('cruel', 0.2681245803833008), ('inclinación', 0.2626956105232239)]\n",
            "[('indignación', 0.3698815405368805), ('platónico', 0.31873828172683716), ('dejas', 0.31352120637893677), ('coloca', 0.3114529848098755), ('virgen', 0.31016331911087036)]\n",
            "[('plebeya', 0.3138872981071472), ('ordenó', 0.3088877499103546), ('derecha', 0.2994619905948639), ('participa', 0.2959606349468231), ('peores', 0.29321521520614624)]\n",
            "[('exterior', 0.3562890291213989), ('aumento', 0.33026719093322754), ('reservados', 0.33005490899086), ('emperador', 0.3294997215270996), ('procurar', 0.31643372774124146)]\n",
            "[('invertir', 0.33966776728630066), ('cometer', 0.32863566279411316), ('adversario', 0.32313141226768494), ('dignidad', 0.32178470492362976), ('fealdad', 0.3153897225856781)]\n",
            "[('odio', 0.3619135022163391), ('federico', 0.35225746035575867), ('sometidos', 0.32844629883766174), ('filosofa', 0.3238115608692169), ('ardiente', 0.3146905303001404)]\n"
          ]
        }
      ]
    },
    {
      "cell_type": "markdown",
      "source": [
        "Los resultados pueden ser comprensibles en algunos casos, pero también pueden carecer de una relación semántica clara.\n",
        "\n",
        "Por ejemplo, en la primera analogía, los términos más cercanos obtenidos incluyen \"perspicacia\", \"infiernos\" y \"festín\", lo que no parece una asociación evidente. Esto puede estar relacionado con la naturaleza del corpus utilizado en el entrenamiento, ya que podría haber captado conexiones indirectas o incluso sesgos en los datos.\n",
        "\n",
        "Algunas analogías muestran patrones que coinciden con asociaciones comunes.\n",
        "\n",
        "Por ejemplo, en la operación \"justicia\" + \"ley\" - \"corrupción\", las palabras más cercanas fueron \"orden\", \"derecha\" y \"participa\", lo que indica que el modelo reconoce en cierta medida conceptos ligados a la legalidad y el orden social. En otro caso, \"razón\" + \"conocimiento\" - \"instinto\" generó términos como \"platónico\", \"indignación\" y \"dejas\", lo que sugiere una posible relación con la filosofía, aunque algunos resultados no son los más esperados.\n",
        "\n",
        "Sin embargo, ciertos resultados reflejan la presencia de ruido en el modelo o el corpus de entrenamiento.\n",
        "\n",
        "Por ejemplo, en la analogía \"amor\" + \"pasión\" - \"indiferencia\", las palabras devueltas incluyen \"filósofa\", \"ardiente\" y \"sometidos\". Aunque algunas pueden relacionarse con la idea de pasión, no parecen ser las más precisas. Otro caso interesante es \"hombre\" + \"virtud\" - \"mujer\", donde aparecieron términos como \"malentendidos\", \"ironía\" y \"cruel\", lo que sugiere que el corpus puede contener sesgos en la representación de ciertos conceptos.\n",
        "\n",
        "La calidad del corpus de entrenamiento es un factor determinante en los resultados.\n",
        "\n",
        "Si el modelo se entrena con textos en los que las palabras tienen significados específicos dentro de un contexto determinado, es posible que aprenda asociaciones poco representativas o sesgadas. Un ejemplo de esto es que, si el corpus está compuesto en gran parte por textos filosóficos, el modelo tenderá a generar términos dentro de ese marco conceptual.\n",
        "\n",
        "Por último, la analogía no siempre es una herramienta confiable para predecir relaciones semánticas.\n",
        "\n",
        "Aunque los embeddings de palabras pueden capturar relaciones contextuales, los resultados no siempre se alinean con la lógica humana. En varios casos, se pueden encontrar asociaciones que tienen sentido hasta cierto punto, pero que también incluyen términos inesperados o poco relevantes."
      ],
      "metadata": {
        "id": "auTgbxSB9Ez6"
      }
    },
    {
      "cell_type": "code",
      "source": [],
      "metadata": {
        "id": "wlLIyK6W9ch0"
      },
      "execution_count": null,
      "outputs": []
    }
  ],
  "metadata": {
    "colab": {
      "provenance": []
    },
    "kernelspec": {
      "display_name": "Python 3 (ipykernel)",
      "language": "python",
      "name": "python3"
    },
    "language_info": {
      "codemirror_mode": {
        "name": "ipython",
        "version": 3
      },
      "file_extension": ".py",
      "mimetype": "text/x-python",
      "name": "python",
      "nbconvert_exporter": "python",
      "pygments_lexer": "ipython3",
      "version": "3.11.9"
    }
  },
  "nbformat": 4,
  "nbformat_minor": 0
}